{
  "cells": [
    {
      "cell_type": "markdown",
      "metadata": {
        "id": "view-in-github",
        "colab_type": "text"
      },
      "source": [
        "<a href=\"https://colab.research.google.com/github/aman9213/CS6910-Assignment1/blob/master/assignment1.ipynb\" target=\"_parent\"><img src=\"https://colab.research.google.com/assets/colab-badge.svg\" alt=\"Open In Colab\"/></a>"
      ]
    },
    {
      "cell_type": "code",
      "execution_count": 1,
      "metadata": {
        "id": "YKX-QeE302kZ"
      },
      "outputs": [],
      "source": [
        "from tqdm import tqdm\n",
        "from keras.datasets import fashion_mnist\n",
        "import pandas as pd\n",
        "import numpy as np\n",
        "import random\n",
        "import matplotlib.pyplot as plt\n",
        "from sklearn.model_selection import train_test_split\n",
        "from sklearn.metrics import  accuracy_score\n",
        "import warnings\n",
        "warnings.filterwarnings(\"ignore\")\n",
        "import random"
      ]
    },
    {
      "cell_type": "code",
      "execution_count": null,
      "metadata": {
        "colab": {
          "base_uri": "https://localhost:8080/"
        },
        "id": "_8AVSQWLU3-R",
        "outputId": "630e5488-5b02-4fb5-b758-690f20165b0f"
      },
      "outputs": [
        {
          "name": "stdout",
          "output_type": "stream",
          "text": [
            "Looking in indexes: https://pypi.org/simple, https://us-python.pkg.dev/colab-wheels/public/simple/\n",
            "Collecting wandb\n",
            "  Downloading wandb-0.13.11-py3-none-any.whl (2.0 MB)\n",
            "\u001b[2K     \u001b[90m━━━━━━━━━━━━━━━━━━━━━━━━━━━━━━━━━━━━━━━━\u001b[0m \u001b[32m2.0/2.0 MB\u001b[0m \u001b[31m34.8 MB/s\u001b[0m eta \u001b[36m0:00:00\u001b[0m\n",
            "\u001b[?25hRequirement already satisfied: requests<3,>=2.0.0 in /usr/local/lib/python3.9/dist-packages (from wandb) (2.25.1)\n",
            "Requirement already satisfied: PyYAML in /usr/local/lib/python3.9/dist-packages (from wandb) (6.0)\n",
            "Requirement already satisfied: Click!=8.0.0,>=7.0 in /usr/local/lib/python3.9/dist-packages (from wandb) (8.1.3)\n",
            "Collecting sentry-sdk>=1.0.0\n",
            "  Downloading sentry_sdk-1.16.0-py2.py3-none-any.whl (184 kB)\n",
            "\u001b[2K     \u001b[90m━━━━━━━━━━━━━━━━━━━━━━━━━━━━━━━━━━━━━━\u001b[0m \u001b[32m184.3/184.3 KB\u001b[0m \u001b[31m20.4 MB/s\u001b[0m eta \u001b[36m0:00:00\u001b[0m\n",
            "\u001b[?25hRequirement already satisfied: typing-extensions in /usr/local/lib/python3.9/dist-packages (from wandb) (4.5.0)\n",
            "Requirement already satisfied: psutil>=5.0.0 in /usr/local/lib/python3.9/dist-packages (from wandb) (5.4.8)\n",
            "Collecting docker-pycreds>=0.4.0\n",
            "  Downloading docker_pycreds-0.4.0-py2.py3-none-any.whl (9.0 kB)\n",
            "Collecting setproctitle\n",
            "  Downloading setproctitle-1.3.2-cp39-cp39-manylinux_2_5_x86_64.manylinux1_x86_64.manylinux_2_17_x86_64.manylinux2014_x86_64.whl (30 kB)\n",
            "Collecting pathtools\n",
            "  Downloading pathtools-0.1.2.tar.gz (11 kB)\n",
            "  Preparing metadata (setup.py) ... \u001b[?25l\u001b[?25hdone\n",
            "Requirement already satisfied: protobuf!=4.21.0,<5,>=3.15.0 in /usr/local/lib/python3.9/dist-packages (from wandb) (3.19.6)\n",
            "Collecting appdirs>=1.4.3\n",
            "  Downloading appdirs-1.4.4-py2.py3-none-any.whl (9.6 kB)\n",
            "Requirement already satisfied: setuptools in /usr/local/lib/python3.9/dist-packages (from wandb) (57.4.0)\n",
            "Collecting GitPython!=3.1.29,>=1.0.0\n",
            "  Downloading GitPython-3.1.31-py3-none-any.whl (184 kB)\n",
            "\u001b[2K     \u001b[90m━━━━━━━━━━━━━━━━━━━━━━━━━━━━━━━━━━━━━━\u001b[0m \u001b[32m184.3/184.3 KB\u001b[0m \u001b[31m19.9 MB/s\u001b[0m eta \u001b[36m0:00:00\u001b[0m\n",
            "\u001b[?25hRequirement already satisfied: six>=1.4.0 in /usr/local/lib/python3.9/dist-packages (from docker-pycreds>=0.4.0->wandb) (1.15.0)\n",
            "Collecting gitdb<5,>=4.0.1\n",
            "  Downloading gitdb-4.0.10-py3-none-any.whl (62 kB)\n",
            "\u001b[2K     \u001b[90m━━━━━━━━━━━━━━━━━━━━━━━━━━━━━━━━━━━━━━━━\u001b[0m \u001b[32m62.7/62.7 KB\u001b[0m \u001b[31m7.0 MB/s\u001b[0m eta \u001b[36m0:00:00\u001b[0m\n",
            "\u001b[?25hRequirement already satisfied: certifi>=2017.4.17 in /usr/local/lib/python3.9/dist-packages (from requests<3,>=2.0.0->wandb) (2022.12.7)\n",
            "Requirement already satisfied: chardet<5,>=3.0.2 in /usr/local/lib/python3.9/dist-packages (from requests<3,>=2.0.0->wandb) (4.0.0)\n",
            "Requirement already satisfied: idna<3,>=2.5 in /usr/local/lib/python3.9/dist-packages (from requests<3,>=2.0.0->wandb) (2.10)\n",
            "Requirement already satisfied: urllib3<1.27,>=1.21.1 in /usr/local/lib/python3.9/dist-packages (from requests<3,>=2.0.0->wandb) (1.26.14)\n",
            "Collecting smmap<6,>=3.0.1\n",
            "  Downloading smmap-5.0.0-py3-none-any.whl (24 kB)\n",
            "Building wheels for collected packages: pathtools\n",
            "  Building wheel for pathtools (setup.py) ... \u001b[?25l\u001b[?25hdone\n",
            "  Created wheel for pathtools: filename=pathtools-0.1.2-py3-none-any.whl size=8806 sha256=030c439815e9ed06f8eef029855a72ccbaefc0270be7aca041e6369a753ce82f\n",
            "  Stored in directory: /root/.cache/pip/wheels/b7/0a/67/ada2a22079218c75a88361c0782855cc72aebc4d18d0289d05\n",
            "Successfully built pathtools\n",
            "Installing collected packages: pathtools, appdirs, smmap, setproctitle, sentry-sdk, docker-pycreds, gitdb, GitPython, wandb\n",
            "Successfully installed GitPython-3.1.31 appdirs-1.4.4 docker-pycreds-0.4.0 gitdb-4.0.10 pathtools-0.1.2 sentry-sdk-1.16.0 setproctitle-1.3.2 smmap-5.0.0 wandb-0.13.11\n"
          ]
        }
      ],
      "source": [
        "!pip install wandb\n"
      ]
    },
    {
      "cell_type": "code",
      "execution_count": 2,
      "metadata": {
        "id": "x9s_55X63a0y"
      },
      "outputs": [],
      "source": [
        "(train_X, train_y), (test_X, test_y) = fashion_mnist.load_data()"
      ]
    },
    {
      "cell_type": "code",
      "execution_count": 3,
      "metadata": {
        "colab": {
          "base_uri": "https://localhost:8080/"
        },
        "id": "M5oCLdTN30vU",
        "outputId": "cfb0fead-df5e-4528-9977-b7565cfcf605"
      },
      "outputs": [
        {
          "output_type": "stream",
          "name": "stdout",
          "text": [
            "shape of data: (60000, 28, 28)\n",
            "[9 0 0 ... 3 0 5]\n",
            "[9 2 1 ... 8 1 5]\n"
          ]
        }
      ],
      "source": [
        "print(\"shape of data:\",train_X.shape)\n",
        "print(train_y)\n",
        "print(test_y)"
      ]
    },
    {
      "cell_type": "markdown",
      "metadata": {
        "id": "tXFEfVPsbWPs"
      },
      "source": [
        "# Q1.ploting sample images from each class "
      ]
    },
    {
      "cell_type": "code",
      "execution_count": 4,
      "metadata": {
        "colab": {
          "base_uri": "https://localhost:8080/"
        },
        "id": "bWuv9R5z4tMs",
        "outputId": "4b63daf4-627c-4718-bc54-9b76267724a8"
      },
      "outputs": [
        {
          "output_type": "stream",
          "name": "stdout",
          "text": [
            "[ 1 16  5  3 19  8 18  6 23  0]\n",
            "[0 1 2 3 4 5 6 7 8 9]\n",
            "10\n"
          ]
        }
      ],
      "source": [
        "\n",
        "items,indices=np.unique(train_y,return_index=True)\n",
        "print(indices)\n",
        "print(items)\n",
        "n_classes=len(items)\n",
        "print(n_classes)"
      ]
    },
    {
      "cell_type": "code",
      "execution_count": 42,
      "metadata": {
        "colab": {
          "base_uri": "https://localhost:8080/",
          "height": 368
        },
        "id": "vd0T57W637QQ",
        "outputId": "eaf6b73a-f147-4f41-ce4d-f5330c44db85"
      },
      "outputs": [
        {
          "output_type": "display_data",
          "data": {
            "text/plain": [
              "<Figure size 720x504 with 0 Axes>"
            ]
          },
          "metadata": {}
        },
        {
          "output_type": "display_data",
          "data": {
            "text/plain": [
              "<Figure size 720x504 with 10 Axes>"
            ],
            "image/png": "[encoded data removed]"
          },
          "metadata": {
            "needs_background": "light"
          }
        }
      ],
      "source": [
        "label=['T-shirt/top', 'Trouser', 'Pullover', 'Dress', 'Coat','Sandal', 'Shirt', 'Sneaker', 'Bag', 'Ankle boot']\n",
        "from matplotlib import pyplot as plt\n",
        "fig = plt.figure(figsize=(10, 7))\n",
        "\n",
        "rows=2\n",
        "columns=5\n",
        "fig = plt.figure(figsize=(10, 7))\n",
        "\n",
        "for i,j in enumerate(indices):\n",
        "        fig.add_subplot(rows, columns, i+1)\n",
        "        plt.imshow(train_X[j],cmap =\"gray\")\n",
        "        plt.axis('off')\n",
        "        plt.title(label[i])\n"
      ]
    },
    {
      "cell_type": "code",
      "execution_count": null,
      "metadata": {
        "id": "jTo-sN24nguE"
      },
      "outputs": [],
      "source": [
        "import wandb\n"
      ]
    },
    {
      "cell_type": "code",
      "execution_count": null,
      "metadata": {
        "colab": {
          "base_uri": "https://localhost:8080/"
        },
        "id": "QE3r739i0S4Q",
        "outputId": "0ddee98c-380f-49f9-9749-49fc95360c86"
      },
      "outputs": [
        {
          "name": "stdout",
          "output_type": "stream",
          "text": [
            "\u001b[34m\u001b[1mwandb\u001b[0m: Logging into wandb.ai. (Learn how to deploy a W&B server locally: https://wandb.me/wandb-server)\n",
            "\u001b[34m\u001b[1mwandb\u001b[0m: You can find your API key in your browser here: https://wandb.ai/authorize\n",
            "\u001b[34m\u001b[1mwandb\u001b[0m: Paste an API key from your profile and hit enter, or press ctrl+c to quit: \n",
            "\u001b[34m\u001b[1mwandb\u001b[0m: Appending key for api.wandb.ai to your netrc file: /root/.netrc\n"
          ]
        }
      ],
      "source": [
        "\n",
        "!wandb login --relogin"
      ]
    },
    {
      "cell_type": "code",
      "execution_count": null,
      "metadata": {
        "colab": {
          "base_uri": "https://localhost:8080/",
          "height": 121
        },
        "id": "dRxG0PwccBLm",
        "outputId": "d9553ab9-e58a-4f1a-c5b8-34a5337b82f8"
      },
      "outputs": [
        {
          "name": "stderr",
          "output_type": "stream",
          "text": [
            "\u001b[34m\u001b[1mwandb\u001b[0m: Currently logged in as: \u001b[33mamanvb-9213\u001b[0m. Use \u001b[1m`wandb login --relogin`\u001b[0m to force relogin\n"
          ]
        },
        {
          "data": {
            "text/html": [
              "Tracking run with wandb version 0.13.11"
            ],
            "text/plain": [
              "<IPython.core.display.HTML object>"
            ]
          },
          "metadata": {},
          "output_type": "display_data"
        },
        {
          "data": {
            "text/html": [
              "Run data is saved locally in <code>/content/wandb/run-20230311_055422-wh4y79yh</code>"
            ],
            "text/plain": [
              "<IPython.core.display.HTML object>"
            ]
          },
          "metadata": {},
          "output_type": "display_data"
        },
        {
          "data": {
            "text/html": [
              "Syncing run <strong><a href='https://wandb.ai/amanvb-9213/DL-assignment1/runs/wh4y79yh' target=\"_blank\">ancient-cosmos-38</a></strong> to <a href='https://wandb.ai/amanvb-9213/DL-assignment1' target=\"_blank\">Weights & Biases</a> (<a href='https://wandb.me/run' target=\"_blank\">docs</a>)<br/>"
            ],
            "text/plain": [
              "<IPython.core.display.HTML object>"
            ]
          },
          "metadata": {},
          "output_type": "display_data"
        },
        {
          "data": {
            "text/html": [
              " View project at <a href='https://wandb.ai/amanvb-9213/DL-assignment1' target=\"_blank\">https://wandb.ai/amanvb-9213/DL-assignment1</a>"
            ],
            "text/plain": [
              "<IPython.core.display.HTML object>"
            ]
          },
          "metadata": {},
          "output_type": "display_data"
        },
        {
          "data": {
            "text/html": [
              " View run at <a href='https://wandb.ai/amanvb-9213/DL-assignment1/runs/wh4y79yh' target=\"_blank\">https://wandb.ai/amanvb-9213/DL-assignment1/runs/wh4y79yh</a>"
            ],
            "text/plain": [
              "<IPython.core.display.HTML object>"
            ]
          },
          "metadata": {},
          "output_type": "display_data"
        }
      ],
      "source": [
        "\n",
        "wandb.init(project=\"DL-assignment1\")\n",
        "items,indices=np.unique(train_y,return_index=True)\n",
        "labels=['T-shirt/top', 'Trouser', 'Pullover', 'Dress', 'Coat','Sandal', 'Shirt', 'Sneaker', 'Bag', 'Ankle boot']\n",
        "\n",
        "images = []\n",
        "label = []\n",
        "for i in (indices):\n",
        "    images.append(train_X[i])\n",
        "    label.append(labels[train_y[i]])\n",
        "wandb.log({\"Sample Image\": [wandb.Image(img, caption=lbl) for img,lbl in zip(images, label)]})\n",
        "\n",
        "\n"
      ]
    },
    {
      "cell_type": "code",
      "execution_count": 5,
      "metadata": {
        "colab": {
          "base_uri": "https://localhost:8080/"
        },
        "id": "EapUBWmbV3g4",
        "outputId": "a8c832c2-4ee7-41ea-d637-3ffd3cfc7a98"
      },
      "outputs": [
        {
          "output_type": "stream",
          "name": "stdout",
          "text": [
            "training data set: (54000, 28, 28) \n",
            "validation data set: (6000, 28, 28)\n",
            "(54000,) (6000,)\n"
          ]
        }
      ],
      "source": [
        "#splitting train_X into training and validation set\n",
        "X_train,X_validation=train_test_split(train_X,test_size=0.1,random_state=21,shuffle=True)\n",
        "print(\"training data set:\",X_train.shape,\"\\nvalidation data set:\",X_validation.shape)\n",
        "y_train,y_validation=train_test_split(train_y,test_size=0.1,random_state=21,shuffle=True)\n",
        "print(y_train.shape,y_validation.shape)\n"
      ]
    },
    {
      "cell_type": "code",
      "execution_count": 6,
      "metadata": {
        "id": "QbqPBckpOrcf"
      },
      "outputs": [],
      "source": [
        "#making 2-D data matrix\n",
        "X = np.array([itr.flatten() for itr in X_train])/255.0\n",
        "X_test=np.array([itr.flatten() for itr in test_X])/255.0\n",
        "validation_X=np.array([itr.flatten() for itr in X_validation])/255.0\n",
        "#normalizing pixel\n",
        "#train_X,test_X=train_X/255.0,test_X/255.\n"
      ]
    },
    {
      "cell_type": "code",
      "execution_count": 9,
      "metadata": {
        "colab": {
          "base_uri": "https://localhost:8080/"
        },
        "id": "cmSwSge7OrZl",
        "outputId": "1995e7c9-8f8f-494a-d7aa-d41d36e31fc8"
      },
      "outputs": [
        {
          "output_type": "stream",
          "name": "stdout",
          "text": [
            "(54000, 784)\n",
            "(10000, 784)\n",
            "(6000, 784)\n"
          ]
        }
      ],
      "source": [
        "print(X.shape)\n",
        "print(X_test.shape)\n",
        "print(validation_X.shape)"
      ]
    },
    {
      "cell_type": "code",
      "execution_count": 22,
      "metadata": {
        "id": "7m6swjdma_BC",
        "colab": {
          "base_uri": "https://localhost:8080/"
        },
        "outputId": "770cdc46-0d01-4427-8ad0-a0a2996d5bd0"
      },
      "outputs": [
        {
          "output_type": "stream",
          "name": "stdout",
          "text": [
            "[0. 0. 0. 0. 0. 0. 0. 0. 1. 0.]\n"
          ]
        }
      ],
      "source": [
        "#one hot encoding for y_train\n",
        "y_train_one_hot = np.zeros((y_train.shape[0],10))\n",
        "for i in range(y_train.shape[0]):\n",
        "  y_train_one_hot[i,y_train[i]] = 1\n",
        "#one hot encoding for y_validation\n",
        "y_validation_one_hot = np.zeros((y_validation.shape[0],10))\n",
        "for i in range(y_validation.shape[0]):\n",
        "  y_validation_one_hot[i,y_validation[i]] = 1\n",
        "#one hot encoding for test_y\n",
        "test_y_one_hot = np.zeros((test_y.shape[0],10))\n",
        "for i in range(test_y.shape[0]):\n",
        "  test_y_one_hot[i,test_y[i]] = 1\n",
        "print(y_train_one_hot[1])"
      ]
    },
    {
      "cell_type": "code",
      "execution_count": 8,
      "metadata": {
        "id": "3shwATWbOuW3"
      },
      "outputs": [],
      "source": [
        "input_nodes=X.shape[1]\n",
        "output_nodes=10\n",
        "#nodes=[input_nodes,10,10,10,output_nodes]\n",
        "#print(len(nodes))"
      ]
    },
    {
      "cell_type": "code",
      "execution_count": 9,
      "metadata": {
        "id": "ganpTevpPcGT"
      },
      "outputs": [],
      "source": [
        "def network_size(h_layers,h_nodes):\n",
        "  nodes=[]\n",
        "  nodes.append(input_nodes)\n",
        "  for l in range(1,h_layers+1):\n",
        "    nodes.append(h_nodes)\n",
        "  nodes.append(output_nodes)\n",
        "\n",
        "  return nodes"
      ]
    },
    {
      "cell_type": "code",
      "execution_count": null,
      "metadata": {
        "id": "cG-qL-HLX2Pg"
      },
      "outputs": [],
      "source": [
        "print(len())"
      ]
    },
    {
      "cell_type": "code",
      "execution_count": 10,
      "metadata": {
        "id": "98aAW1CvOuTQ"
      },
      "outputs": [],
      "source": [
        "def init_param(nodes,mode):\n",
        "  layers=len(nodes)\n",
        "  \n",
        "  theta={}\n",
        "  if mode=='random':\n",
        "    for i in range(1,layers):\n",
        "      theta[\"W\"+str(i)]=np.random.randn(nodes[i-1],nodes[i])\n",
        "      #print(theta[\"W\"+str(i)].shape)\n",
        "      theta[\"b\"+str(i)]=np.zeros((1,nodes[i]))\n",
        "\n",
        "  elif(mode=='xavier'):\n",
        "    for i in range(1,layers):\n",
        "       #theta[\"W\"+str(i)]= np.random.randn(nodes[i-1],nodes[i])*np.sqrt(2/(nodes[i-1]+nodes[i]))\n",
        "       theta[\"W\"+str(i)]=np.random.normal(loc=0.0, scale=np.sqrt(2/(nodes[i-1]+nodes[i])), size=(nodes[i-1],nodes[i]))\n",
        "       theta[\"b\"+str(i)]=np.zeros((1,nodes[i]))\n",
        "    \n",
        "  return theta\n",
        "\n",
        "#activation functions\n",
        "\n",
        "def sigmoid(x):\n",
        "  return np.float64(1/(1+(np.exp(-x))))\n",
        "  \n",
        "# def softmax(x):\n",
        "#   return np.float64(np.exp(x) / np.sum(np.exp(x),axis=1,keepdims=True)) \n",
        "def softmax(x):\n",
        "    e_x = np.exp(x - np.max(x))\n",
        "    return (e_x )/(np.sum(e_x,axis=1))\n",
        "# def softmax(z):\n",
        "#     #assert len(z.shape) == 1\n",
        "#     s = np.max(z, axis=1)\n",
        "#     s = s[:, np.newaxis] \n",
        "#     e_x = np.exp(z - s)\n",
        "#     div = np.sum(e_x, axis=1)\n",
        "#     div = div[:, np.newaxis] \n",
        "#     return e_x / div\n",
        "\n",
        "\n",
        "def ReLU(x):\n",
        "  return np.float64(np.maximum(0,x))\n",
        "def tanh(x):\n",
        "    return np.float64(np.tanh(x))\n",
        "def identity(x):\n",
        "  return np.float64(x)\n",
        "\n",
        "\n"
      ]
    },
    {
      "cell_type": "code",
      "execution_count": 11,
      "metadata": {
        "id": "aQl0SvjqWM7U"
      },
      "outputs": [],
      "source": [
        "def activation_prime(x,activation):\n",
        "  if activation=='sigmoid':\n",
        "    return sigmoid(x)*(1-sigmoid(x))\n",
        "  elif activation=='ReLU':\n",
        "    #  d=np.zeros_like(x,dtype=np.float64)\n",
        "    #  d[x>0]=1\n",
        "    #  return 1.*(x>0)\n",
        "    return (x>0).astype(int)\n",
        "  elif activation=='tanh':\n",
        "    return  (1 - (tanh(x)**2))\n",
        "  elif activation=='identity':\n",
        "    x1=np.ones_like(x,dtype=np.float64)\n",
        "  return x1\n",
        "\n",
        "\n"
      ]
    },
    {
      "cell_type": "code",
      "execution_count": null,
      "metadata": {
        "colab": {
          "base_uri": "https://localhost:8080/",
          "height": 182
        },
        "id": "vwXYEkInQwZB",
        "outputId": "090fff75-218f-4dcd-bb27-c519cdd60a3b"
      },
      "outputs": [
        {
          "output_type": "error",
          "ename": "TypeError",
          "evalue": "ignored",
          "traceback": [
            "\u001b[0;31m---------------------------------------------------------------------------\u001b[0m",
            "\u001b[0;31mTypeError\u001b[0m                                 Traceback (most recent call last)",
            "\u001b[0;32m<ipython-input-19-d1bf4063799d>\u001b[0m in \u001b[0;36m<module>\u001b[0;34m\u001b[0m\n\u001b[0;32m----> 1\u001b[0;31m \u001b[0mn\u001b[0m\u001b[0;34m=\u001b[0m\u001b[0minit_param\u001b[0m\u001b[0;34m(\u001b[0m\u001b[0mnodes\u001b[0m\u001b[0;34m)\u001b[0m\u001b[0;34m\u001b[0m\u001b[0;34m\u001b[0m\u001b[0m\n\u001b[0m\u001b[1;32m      2\u001b[0m \u001b[0mlen\u001b[0m\u001b[0;34m(\u001b[0m\u001b[0mn\u001b[0m\u001b[0;34m)\u001b[0m\u001b[0;34m\u001b[0m\u001b[0;34m\u001b[0m\u001b[0m\n",
            "\u001b[0;31mTypeError\u001b[0m: init_param() missing 1 required positional argument: 'mode'"
          ]
        }
      ],
      "source": [
        "n=init_param(nodes)\n",
        "len(n)"
      ]
    },
    {
      "cell_type": "code",
      "execution_count": 28,
      "metadata": {
        "id": "ZH-c2VVpt77I"
      },
      "outputs": [],
      "source": [
        "def feed_forward(x,theta,activation):\n",
        "  #print(\"x\",x)\n",
        "  layers=len(theta)//2\n",
        "  #print(layers)\n",
        "  H=[None]\n",
        "  A=[]\n",
        "  H[0]=np.array([x])  \n",
        "  abc=H[0]\n",
        "  #print(abc.shape)\n",
        "  for i in range(1,layers+1):\n",
        "    \n",
        "    a=np.dot(abc,theta[\"W\"+str(i)])+theta[\"b\"+str(i)]\n",
        "    \n",
        "    A.append(a)\n",
        "    # if i==5:\n",
        "    #   # print(\"W3\",theta[\"W\"+str(i)],\"b3\",theta[\"b\"+str(i)])##------ W4,W1,W2 and  remain same every time. itis not updating basically weights are not updating dW1,dW2 is coming 0 always\n",
        "    #   # print(np.dot(abc,theta[\"W\"+str(i)])+theta[\"b\"+str(i)])\n",
        "    #   print(\"A\"+str(i-1),A[i-1])##--------every time A4 means A[3] is coming -ve and same value bec of this np.dot(abc,theta[\"W\"+str(i)])+theta[\"b\"+str(i)]\n",
        "    if(i!=layers):\n",
        "      if activation=='sigmoid':\n",
        "        h=sigmoid(a)\n",
        "        H.append(h)\n",
        "      elif activation=='ReLU':\n",
        "        h=ReLU(a)\n",
        "        #print(\"h\",h)\n",
        "        H.append(h)\n",
        "        #print(\"H\"+str(i),H[i])##-------problem is H4 is becoming zero every time\n",
        "      elif activation=='tanh':\n",
        "        h=tanh(a)\n",
        "        H.append(h)\n",
        "      elif activation=='identity':\n",
        "        h=identity(a)\n",
        "        H.append(h)\n",
        "        \n",
        "    else:\n",
        "       y_hat=(softmax(a))\n",
        "       #H.append(h)\n",
        "    abc=h\n",
        "  #y_hat=H[layers]\n",
        "  #print(\"y_hat\",y_hat)\n",
        "  return y_hat,H,A\n",
        "    \n"
      ]
    },
    {
      "cell_type": "code",
      "execution_count": null,
      "metadata": {
        "colab": {
          "base_uri": "https://localhost:8080/",
          "height": 200
        },
        "id": "zRDnRtxUMPL4",
        "outputId": "8a18f84c-8e5f-4de7-9b65-6c65e3aa70a1"
      },
      "outputs": [
        {
          "ename": "NameError",
          "evalue": "ignored",
          "output_type": "error",
          "traceback": [
            "\u001b[0;31m---------------------------------------------------------------------------\u001b[0m",
            "\u001b[0;31mNameError\u001b[0m                                 Traceback (most recent call last)",
            "\u001b[0;32m<ipython-input-15-1becf6943418>\u001b[0m in \u001b[0;36m<module>\u001b[0;34m\u001b[0m\n\u001b[0;32m----> 1\u001b[0;31m \u001b[0mtheta\u001b[0m\u001b[0;34m=\u001b[0m\u001b[0minit_param\u001b[0m\u001b[0;34m(\u001b[0m\u001b[0mnodes\u001b[0m\u001b[0;34m,\u001b[0m\u001b[0mmode\u001b[0m\u001b[0;34m=\u001b[0m\u001b[0;34m'xavier'\u001b[0m\u001b[0;34m)\u001b[0m\u001b[0;34m\u001b[0m\u001b[0;34m\u001b[0m\u001b[0m\n\u001b[0m\u001b[1;32m      2\u001b[0m \u001b[0;31m#y_hat,H,A=feed_forward(X[0,:],theta,'ReLU')\u001b[0m\u001b[0;34m\u001b[0m\u001b[0;34m\u001b[0m\u001b[0m\n\u001b[1;32m      3\u001b[0m \u001b[0;31m#print((y_hat),A,H)\u001b[0m\u001b[0;34m\u001b[0m\u001b[0;34m\u001b[0m\u001b[0m\n",
            "\u001b[0;31mNameError\u001b[0m: name 'nodes' is not defined"
          ]
        }
      ],
      "source": [
        "\n"
      ]
    },
    {
      "cell_type": "code",
      "source": [
        "# def back_prop(y_hat,y,H,A,layers,theta,batch_size,activation):\n",
        "#   delta=[]\n",
        "#   delta[]=\n"
      ],
      "metadata": {
        "id": "NP8cJIYCTpjj"
      },
      "execution_count": null,
      "outputs": []
    },
    {
      "cell_type": "code",
      "execution_count": 100,
      "metadata": {
        "id": "VektM6-WcTTR"
      },
      "outputs": [],
      "source": [
        "def back_prop(y_hat,y,H,A,layers,theta,batch_size,activation):\n",
        "\n",
        "  grads={}\n",
        "  \n",
        "  delta=(y_hat-y)\n",
        "  for l in range(layers,0,-1):\n",
        "    #print(H[l-1])\n",
        "    grads[\"dW\" + str(l)] = (np.matmul(np.array(H[l-1]).T,delta/batch_size))\n",
        "    grads[\"db\" + str(l)] = (np.sum(delta,axis=1,keepdims=True)/batch_size)##<---------\n",
        "\n",
        "    if l>1:\n",
        "      dH=(np.matmul(delta,theta[\"W\"+str(l)].T))\n",
        "      delta =(dH*activation_prime(A[l-2],activation)) ## A is starting from 0 index thats why l-2\n",
        "  return grads\n",
        "\n",
        "       \n",
        "\n",
        "\n",
        "\n"
      ]
    },
    {
      "cell_type": "code",
      "execution_count": 71,
      "metadata": {
        "id": "4NYGOQRB-H6Z"
      },
      "outputs": [],
      "source": [
        "def update(nodes):\n",
        "  layers=len(nodes)\n",
        "  update={}\n",
        "\n",
        "  for i in range(1,layers):\n",
        "    update[\"W\"+str(i)]=np.zeros((nodes[i-1],nodes[i]))\n",
        "    update[\"b\"+str(i)]=np.zeros((1,nodes[i]))\n",
        "  return update"
      ]
    },
    {
      "cell_type": "code",
      "source": [
        "def zero(xyz,layers):\n",
        "  for l in range(1,layers+1):\n",
        "    xyz[\"dW\"+str(l)]=0\n",
        "    xyz[\"db\"+str(l)]=0\n",
        "  return xyz\n"
      ],
      "metadata": {
        "id": "Pf18b8MMWAmU"
      },
      "execution_count": 26,
      "outputs": []
    },
    {
      "cell_type": "code",
      "execution_count": 117,
      "metadata": {
        "id": "QfM9r0I4e9GF"
      },
      "outputs": [],
      "source": [
        "def gradient_decent(typee,batch_size,epoch,lr,theta,activation):\n",
        "  #theta=init_param(nodes)\n",
        "  layers=len(theta)//2\n",
        "  #print(layers)\n",
        "  #last_loss=0\n",
        "  loss=[]\n",
        "  if typee=='sgd':\n",
        "    for e in tqdm(range(epoch)):\n",
        "      xyz={}\n",
        "      \n",
        "      xyz=zero(xyz,layers)\n",
        "      for i in (range(X.shape[0])):\n",
        "        y_hat,H,A=feed_forward(X[i],theta,activation)\n",
        "\n",
        "        del_theta=back_prop(y_hat,y_train_one_hot[i],H,A,layers,theta,batch_size,activation)\n",
        "        #print(\"dw5\",del_theta[\"dW\"+str(5)])\n",
        "        for l in range(1,layers+1):\n",
        "          if (\"dW\"+str(l)) in xyz:\n",
        "            xyz[\"dW\"+str(l)]+=del_theta[\"dW\"+str(l)]\n",
        "          else:\n",
        "            xyz[\"dW\"+str(l)]=del_theta[\"dW\"+str(l)]\n",
        "          if (\"db\"+str(l)) in xyz:\n",
        "            xyz[\"db\"+str(l)]+=del_theta[\"db\"+str(l)]\n",
        "          else:\n",
        "            xyz[\"db\"+str(l)]=del_theta[\"db\"+str(l)]\n",
        "        \n",
        "        if (i+1)%batch_size==0:\n",
        "          #print(\"dw4\",del_theta[\"dW\"+str(4)])\n",
        "          for l in range(1,layers+1):\n",
        "            theta[\"W\"+str(l)]-=lr*del_theta[\"dW\"+str(l)]\n",
        "            theta[\"b\"+str(l)]-=lr*del_theta[\"db\"+str(l)]\n",
        "          xyz=zero(xyz,layers) \n",
        "      if e%1==0:      \n",
        "        y_hat,H,A=feed_forward(X,theta,activation)\n",
        "        loss.append((-1.0 * np.sum(np.multiply(y_train_one_hot,np.log(y_hat+0.000000001))))/X.shape[0])\n",
        "        print(\"epoch:\",e+1,loss[-1])\n",
        "        \n",
        "          \n",
        "\n",
        "  elif typee=='mgd':\n",
        "    count=0\n",
        "    m=0.5   ##this is beta for momentum\n",
        "    last_loss=0\n",
        "    prv_updates=update(nodes)\n",
        "    for e in range(epoch):\n",
        "      xyz={}\n",
        "      for i in range(0,X.shape[0]):\n",
        "        y_hat,H,A=feed_forward(X[i,:],theta,activation)\n",
        "        #print(y_hat)\n",
        "        del_theta=back_prop(y_hat,y_train_one_hot[i,:],H,A,layers,theta,batch_size,activation)\n",
        "        for l in range(1,layers+1):\n",
        "          if (\"dW\"+str(l)) in xyz:\n",
        "            xyz[\"dW\"+str(l)]+=del_theta[\"dW\"+str(l)]\n",
        "          else:\n",
        "            xyz[\"dW\"+str(l)]=del_theta[\"dW\"+str(l)]\n",
        "          if (\"db\"+str(l)) in xyz:\n",
        "            xyz[\"db\"+str(l)]+=del_theta[\"db\"+str(l)]\n",
        "          else:\n",
        "            xyz[\"db\"+str(l)]=del_theta[\"db\"+str(l)]\n",
        "        \n",
        "        if (i+1)%batch_size==0:\n",
        "          for l in range(1,layers+1):\n",
        "            theta[\"W\"+str(l)]=theta[\"W\"+str(l)]-(m*prv_updates[\"W\"+str(l)]+lr*xyz[\"dW\"+str(l)])\n",
        "            theta[\"b\"+str(l)]=theta[\"b\"+str(l)]-(m*prv_updates[\"b\"+str(l)]+lr*xyz[\"db\"+str(l)])\n",
        "            prv_updates[\"W\"+str(l)]=(m*prv_updates[\"W\"+str(l)]+lr*xyz[\"dW\"+str(l)])\n",
        "            prv_updates[\"b\"+str(l)]=(m*prv_updates[\"b\"+str(l)]+lr*xyz[\"db\"+str(l)])\n",
        "          xyz={}\n",
        "      y_hat,H,A=feed_forward(X,theta,activation)\n",
        "      loss.append((-1.0 * np.sum(np.multiply(y_train_one_hot,np.log(y_hat+0.000000001))))/X.shape[0])\n",
        "      print(\"epoch:\",e+1,loss[-1])\n",
        "      \n",
        "\n",
        "  elif typee=='nag': \n",
        "    m=0.5\n",
        "    theta_look_ahead={}\n",
        "    prv_updates=update(nodes)\n",
        "    for e in range(epoch):\n",
        "      xyz={}\n",
        "      for i in range(0,X.shape[0]):\n",
        "        y_hat,H,A=feed_forward(X[i,:],theta,activation)\n",
        "        for l in range(1,layers+1):\n",
        "          theta_look_ahead[\"W\"+str(l)]=theta[\"W\"+str(l)]-m*prv_updates[\"W\"+str(l)]\n",
        "          theta_look_ahead[\"b\"+str(l)]=theta[\"b\"+str(l)]-m*prv_updates[\"b\"+str(l)]\n",
        "\n",
        "\n",
        "        del_theta=back_prop(y_hat,y_train_one_hot[i,:],H,A,layers,theta_look_ahead,batch_size,activation)\n",
        "        for l in range(1,layers+1):\n",
        "          if (\"dW\"+str(l)) in xyz:\n",
        "            xyz[\"dW\"+str(l)]+=del_theta[\"dW\"+str(l)]\n",
        "          else:\n",
        "            xyz[\"dW\"+str(l)]=del_theta[\"dW\"+str(l)]\n",
        "          if (\"db\"+str(l)) in xyz:\n",
        "            xyz[\"db\"+str(l)]+=del_theta[\"db\"+str(l)]\n",
        "          else:\n",
        "            xyz[\"db\"+str(l)]=del_theta[\"db\"+str(l)]\n",
        "\n",
        "        if (i+1)%batch_size==0:\n",
        "          for l in range(1,layers+1):\n",
        "            theta[\"W\"+str(l)]=theta[\"W\"+str(l)]-(m*prv_updates[\"W\"+str(l)]+lr*xyz[\"dW\"+str(l)])\n",
        "            theta[\"b\"+str(l)]=theta[\"b\"+str(l)]-(m*prv_updates[\"b\"+str(l)]+lr*xyz[\"db\"+str(l)])\n",
        "            prv_updates[\"W\"+str(l)]=(m*prv_updates[\"W\"+str(l)]+lr*xyz[\"dW\"+str(l)])\n",
        "            prv_updates[\"b\"+str(l)]=(m*prv_updates[\"b\"+str(l)]+lr*xyz[\"db\"+str(l)])\n",
        "          xyz={}\n",
        "      y_hat,H,A=feed_forward(X,theta,activation)\n",
        "      loss.append((-1.0 * np.sum(np.multiply(y_train_one_hot,np.log(y_hat+0.000000001))))/X.shape[0])\n",
        "      print(\"epoch:\",e+1,loss[-1])\n",
        "\n",
        "  elif typee=='rmsprop':\n",
        "    accumulate_grad=update(nodes)\n",
        "    beta=0.5\n",
        "    eps=0.000001\n",
        "    \n",
        "    for e in range(epoch):\n",
        "      xyz={}\n",
        "      for i in range(0,X.shape[0]):\n",
        "        y_hat,H,A=feed_forward(X[i,:],theta,activation)\n",
        "        del_theta=back_prop(y_hat,y_train_one_hot[i,:],H,A,layers,theta,batch_size,activation)\n",
        "        for l in range(1,layers+1):\n",
        "          if (\"dW\"+str(l)) in xyz:\n",
        "            xyz[\"dW\"+str(l)]+=del_theta[\"dW\"+str(l)]\n",
        "          else:\n",
        "            xyz[\"dW\"+str(l)]=del_theta[\"dW\"+str(l)]\n",
        "          if (\"db\"+str(l)) in xyz:\n",
        "            xyz[\"db\"+str(l)]+=del_theta[\"db\"+str(l)]\n",
        "          else:\n",
        "            xyz[\"db\"+str(l)]=del_theta[\"db\"+str(l)]\n",
        "        if (i+1)%batch_size==0:\n",
        "          for l in range(1,layers+1):\n",
        "            accumulate_grad[\"W\"+str(l)]=beta*accumulate_grad[\"W\"+str(l)]-(1-beta)*(xyz[\"dW\"+str(l)])**2\n",
        "            accumulate_grad[\"b\"+str(l)]=beta*accumulate_grad[\"b\"+str(l)]-(1-beta)*(xyz[\"db\"+str(l)])**2\n",
        "            theta[\"W\"+str(l)]=theta[\"W\"+str(l)]-(lr/np.sqrt(abs(accumulate_grad[\"W\"+str(l)])+eps))*xyz[\"dW\"+str(l)]\n",
        "            theta[\"b\"+str(l)]=theta[\"b\"+str(l)]-(lr/np.sqrt(abs(accumulate_grad[\"b\"+str(l)])+eps))*xyz[\"db\"+str(l)]\n",
        "          xyz={}\n",
        "      y_hat,H,A=feed_forward(X,theta,activation)\n",
        "      loss.append((-1.0 * np.sum(np.multiply(y_train_one_hot,np.log(y_hat+0.000000001))))/X.shape[0])\n",
        "      print(\"epoch:\",e+1,loss[-1])\n",
        "\n",
        "\n",
        "  elif typee=='adam':\n",
        "    updates=update(nodes)\n",
        "    momentum=updates.copy()\n",
        "    momentum_hat=updates.copy()\n",
        "    accumulate_grad=updates.copy()\n",
        "    accumulate_grad_hat=updates.copy()\n",
        "    beta1=0.5\n",
        "    beta2=0.5\n",
        "    eps=0.000001\n",
        "    last_loss=0\n",
        "    for e in range(epoch):\n",
        "      xyz={}\n",
        "      for i in tqdm(range(0,X.shape[0])):##------------\n",
        "        y_hat,H,A=feed_forward(X[i,:],theta,activation)\n",
        "        del_theta=back_prop(y_hat,y_train_one_hot[i,:],H,A,layers,theta,batch_size,activation)\n",
        "        for l in range(1,layers+1):\n",
        "          if (\"dW\"+str(l)) in xyz:\n",
        "            xyz[\"dW\"+str(l)]+=del_theta[\"dW\"+str(l)]\n",
        "          else:\n",
        "            xyz[\"dW\"+str(l)]=del_theta[\"dW\"+str(l)]\n",
        "          if (\"db\"+str(l)) in xyz:\n",
        "            xyz[\"db\"+str(l)]+=del_theta[\"db\"+str(l)]\n",
        "          else:\n",
        "            xyz[\"db\"+str(l)]=del_theta[\"db\"+str(l)]\n",
        "        if (i+1)%batch_size==0:\n",
        "          for l in range(1,layers+1):\n",
        "            momentum[\"W\"+str(l)]=beta1*momentum[\"W\"+str(l)]+(1-beta1)*xyz[\"dW\"+str(l)]\n",
        "            momentum[\"b\"+str(l)]=beta1*momentum[\"b\"+str(l)]+(1-beta1)*xyz[\"db\"+str(l)]\n",
        "            accumulate_grad[\"W\"+str(l)]=beta2*accumulate_grad[\"W\"+str(l)]-(1-beta2)*(xyz[\"dW\"+str(l)])**2\n",
        "            accumulate_grad[\"b\"+str(l)]=beta2*accumulate_grad[\"b\"+str(l)]-(1-beta2)*(xyz[\"db\"+str(l)])**2\n",
        "            momentum_hat[\"W\"+str(l)]=momentum[\"W\"+str(l)]/(1-np.power(beta1,e+1))\n",
        "            momentum_hat[\"b\"+str(l)]=momentum[\"b\"+str(l)]/(1-np.power(beta1,e+1))\n",
        "            accumulate_grad_hat[\"W\"+str(l)]=accumulate_grad[\"W\"+str(l)]/(1-np.power(beta2,e+1))\n",
        "            accumulate_grad_hat[\"b\"+str(l)]=accumulate_grad[\"b\"+str(l)]/(1-np.power(beta2,e+1))\n",
        "            theta[\"W\"+str(l)]=theta[\"W\"+str(l)]-(lr/np.sqrt(np.abs(accumulate_grad_hat[\"W\"+str(l)]+eps)))*momentum_hat[\"W\"+str(l)]\n",
        "            theta[\"b\"+str(l)]=theta[\"b\"+str(l)]-(lr/np.sqrt(np.abs(accumulate_grad_hat[\"b\"+str(l)]+eps)))*momentum_hat[\"b\"+str(l)]\n",
        "          xyz={}\n",
        "      y_hat,H,A=feed_forward(X,theta,activation)\n",
        "      loss.append((-1.0 * np.sum(np.multiply(y_train_one_hot,np.log(y_hat+0.000000001))))/X.shape[0])\n",
        "      print(\"epoch:\",e+1,loss[-1])\n",
        "\n",
        "\n",
        "    \n",
        "  #elif type=='nadam':\n",
        "  return theta,loss\n",
        "\n",
        "\n",
        "  "
      ]
    },
    {
      "cell_type": "code",
      "execution_count": 119,
      "metadata": {
        "colab": {
          "base_uri": "https://localhost:8080/",
          "height": 467
        },
        "id": "35a5ldnfO3pg",
        "outputId": "ad7ab8e2-8d8c-4e37-faad-3d0edf52331b"
      },
      "outputs": [
        {
          "output_type": "stream",
          "name": "stderr",
          "text": [
            " 10%|█         | 1/10 [00:14<02:06, 14.02s/it]"
          ]
        },
        {
          "output_type": "stream",
          "name": "stdout",
          "text": [
            "epoch: 1 10.703990479010164\n"
          ]
        },
        {
          "output_type": "stream",
          "name": "stderr",
          "text": [
            "\r 20%|██        | 2/10 [00:28<01:52, 14.03s/it]"
          ]
        },
        {
          "output_type": "stream",
          "name": "stdout",
          "text": [
            "epoch: 2 10.64543648593288\n"
          ]
        },
        {
          "output_type": "stream",
          "name": "stderr",
          "text": [
            "\r 30%|███       | 3/10 [00:42<01:37, 13.99s/it]"
          ]
        },
        {
          "output_type": "stream",
          "name": "stdout",
          "text": [
            "epoch: 3 10.529667821140027\n"
          ]
        },
        {
          "output_type": "stream",
          "name": "stderr",
          "text": [
            "\r 40%|████      | 4/10 [00:55<01:23, 13.99s/it]"
          ]
        },
        {
          "output_type": "stream",
          "name": "stdout",
          "text": [
            "epoch: 4 10.382350338365557\n"
          ]
        },
        {
          "output_type": "stream",
          "name": "stderr",
          "text": [
            "\r 50%|█████     | 5/10 [01:10<01:10, 14.06s/it]"
          ]
        },
        {
          "output_type": "stream",
          "name": "stdout",
          "text": [
            "epoch: 5 10.305448956232473\n"
          ]
        },
        {
          "output_type": "stream",
          "name": "stderr",
          "text": [
            "\r 60%|██████    | 6/10 [01:24<00:56, 14.12s/it]"
          ]
        },
        {
          "output_type": "stream",
          "name": "stdout",
          "text": [
            "epoch: 6 10.268377032633675\n"
          ]
        },
        {
          "output_type": "stream",
          "name": "stderr",
          "text": [
            "\r 70%|███████   | 7/10 [01:38<00:42, 14.03s/it]"
          ]
        },
        {
          "output_type": "stream",
          "name": "stdout",
          "text": [
            "epoch: 7 10.310567976775644\n"
          ]
        },
        {
          "output_type": "stream",
          "name": "stderr",
          "text": [
            "\r 80%|████████  | 8/10 [01:52<00:28, 14.03s/it]"
          ]
        },
        {
          "output_type": "stream",
          "name": "stdout",
          "text": [
            "epoch: 8 10.353945737303054\n"
          ]
        },
        {
          "output_type": "stream",
          "name": "stderr",
          "text": [
            "\r 90%|█████████ | 9/10 [02:06<00:13, 13.98s/it]"
          ]
        },
        {
          "output_type": "stream",
          "name": "stdout",
          "text": [
            "epoch: 9 10.465433356145429\n"
          ]
        },
        {
          "output_type": "stream",
          "name": "stderr",
          "text": [
            "100%|██████████| 10/10 [02:20<00:00, 14.01s/it]"
          ]
        },
        {
          "output_type": "stream",
          "name": "stdout",
          "text": [
            "epoch: 10 10.518926567925702\n"
          ]
        },
        {
          "output_type": "stream",
          "name": "stderr",
          "text": [
            "\n"
          ]
        },
        {
          "output_type": "display_data",
          "data": {
            "text/plain": [
              "<Figure size 2160x360 with 1 Axes>"
            ],
            "image/png": "[encoded data removed]"
          },
          "metadata": {
            "needs_background": "light"
          }
        }
      ],
      "source": [
        "nodes=network_size(4,10)\n",
        "theta=init_param(nodes,'xavier')\n",
        "#print(len(theta))\n",
        "theta,loss=gradient_decent('sgd',5,10,0.001,theta,'ReLU')\n",
        "#print(theta)\n",
        "fig,axs=plt.subplots(figsize=(30,5))\n",
        "plt.plot(loss)\n",
        "plt.xlabel('epoch')\n",
        "plt.ylabel('loss')\n",
        "plt.show()\n",
        "\n"
      ]
    },
    {
      "cell_type": "code",
      "execution_count": null,
      "metadata": {
        "id": "4Y9jZCH-ab49"
      },
      "outputs": [],
      "source": [
        "print(len(nodes))\n",
        "theta[\"W\"+'2']"
      ]
    },
    {
      "cell_type": "code",
      "execution_count": null,
      "metadata": {
        "id": "JHrX5oM_teyF"
      },
      "outputs": [],
      "source": [
        "sweep_configuration={'name':'EE22s037','method':'random',\n",
        "                     'metric':{'name':'val_acc','goal':'maximize'},\n",
        "                     'parameters':{\n",
        "                                   'epochs':{'values':[5,10]},\n",
        "                                   'hidden_layers':{'values':[3,4,5]},\n",
        "                                   'numbers_neurons':{'values':[32,64,128]},\n",
        "                                   'learning_rate':{'values':[1e-3,1e-4]},\n",
        "                                   'optimizers':{'values':['sgd','adam']},\n",
        "                                   'batch_size':{'values':[16,32,64]},\n",
        "                                   'wt_init':{'values':['random','xavier']},\n",
        "                                   'activation':{'values':['sigmoid','tanh','ReLU']}\n",
        "                                   }\n",
        "    \n",
        "}\n",
        "sweep_id=wandb.sweep(sweep=sweep_configuration,entity=\"EE22S037\",project='DL-assignment1')\n",
        "\n",
        "\n",
        "\n",
        "\n",
        "\n",
        "\n",
        "\n",
        "def tune():\n",
        "  wandb.init(project='DL-assignment1')\n",
        "  epochs=wandb.config.epochs\n",
        "  h_layers=wandb.config.hidden_layers\n",
        "  nodes=wandb.config.numbers_neurons\n",
        "  lr=wandb.config.learning_rate\n",
        "  optimizer=wandb.config.optimizers\n",
        "  batch_size=wandb.config.batch_size\n",
        "  init_mode=wandb.config.wt_init\n",
        "  activation=wandb.config.activation\n",
        "\n",
        "  run_name=\"ep_{}_hl_{}_nodes_{}_lr_{}_opti_{}_bs_{}_mode_{}_acf_{}\".format(epochs,h_layers,nodes,lr,optimizer,batch_size,init_mode,activation)\n"
      ]
    },
    {
      "cell_type": "code",
      "execution_count": null,
      "metadata": {
        "colab": {
          "base_uri": "https://localhost:8080/",
          "height": 200
        },
        "id": "h-mwo5smPEVF",
        "outputId": "8a473942-e2bd-4c97-9df7-d46a495ee23d"
      },
      "outputs": [
        {
          "ename": "TypeError",
          "evalue": "ignored",
          "output_type": "error",
          "traceback": [
            "\u001b[0;31m---------------------------------------------------------------------------\u001b[0m",
            "\u001b[0;31mTypeError\u001b[0m                                 Traceback (most recent call last)",
            "\u001b[0;32m<ipython-input-23-219ba1700ccf>\u001b[0m in \u001b[0;36m<module>\u001b[0;34m\u001b[0m\n\u001b[1;32m      5\u001b[0m \u001b[0;32mfor\u001b[0m \u001b[0mi\u001b[0m \u001b[0;32min\u001b[0m \u001b[0mrange\u001b[0m\u001b[0;34m(\u001b[0m\u001b[0;36m3\u001b[0m\u001b[0;34m)\u001b[0m\u001b[0;34m:\u001b[0m\u001b[0;34m\u001b[0m\u001b[0;34m\u001b[0m\u001b[0m\n\u001b[1;32m      6\u001b[0m   \u001b[0mb\u001b[0m\u001b[0;34m=\u001b[0m\u001b[0mA\u001b[0m\u001b[0;34m\u001b[0m\u001b[0;34m\u001b[0m\u001b[0m\n\u001b[0;32m----> 7\u001b[0;31m \u001b[0mA\u001b[0m\u001b[0;34m+=\u001b[0m\u001b[0mb\u001b[0m\u001b[0;34m\u001b[0m\u001b[0;34m\u001b[0m\u001b[0m\n\u001b[0m",
            "\u001b[0;31mTypeError\u001b[0m: unsupported operand type(s) for +=: 'dict' and 'dict'"
          ]
        }
      ],
      "source": [
        "import wandb\n",
        "import numpy as np \n",
        "import random\n",
        "\n",
        "# Define sweep config\n",
        "sweep_configuration = {\n",
        "    'method': 'random',\n",
        "    'name': 'sweep',\n",
        "    'metric': {'goal': 'maximize', 'name': 'val_acc'},\n",
        "    'parameters': \n",
        "    {\n",
        "        'batch_size': {'values': [16, 32, 64]},\n",
        "        'epochs': {'values': [5, 10, 15]},\n",
        "        'lr': {'max': 0.1, 'min': 0.0001}\n",
        "     }\n",
        "}\n",
        "\n",
        "# Initialize sweep by passing in config. (Optional) Provide a name of the project.\n",
        "sweep_id = wandb.sweep(sweep=sweep_configuration, project='my-first-sweep')\n",
        "\n",
        "# Define training function that takes in hyperparameter values from `wandb.config` and uses them to train a model and return metric\n",
        "def train_one_epoch(epoch, lr, bs): \n",
        "  acc = 0.25 + ((epoch/30) +  (random.random()/10))\n",
        "  loss = 0.2 + (1 - ((epoch-1)/10 +  random.random()/5))\n",
        "  return acc, loss\n",
        "\n",
        "def evaluate_one_epoch(epoch): \n",
        "  acc = 0.1 + ((epoch/20) +  (random.random()/10))\n",
        "  loss = 0.25 + (1 - ((epoch-1)/10 +  random.random()/6))\n",
        "  return acc, loss\n",
        "\n",
        "def main():\n",
        "    run = wandb.init()\n",
        "\n",
        "    # note that we define values from `wandb.config` instead \n",
        "    # of defining hard values\n",
        "    lr  =  wandb.config.lr\n",
        "    bs = wandb.config.batch_size\n",
        "    epochs = wandb.config.epochs\n",
        "\n",
        "    for epoch in np.arange(1, epochs):\n",
        "      train_acc, train_loss = train_one_epoch(epoch, lr, bs)\n",
        "      val_acc, val_loss = evaluate_one_epoch(epoch)\n",
        "\n",
        "      wandb.log({\n",
        "        'epoch': epoch, \n",
        "        'train_acc': train_acc,\n",
        "        'train_loss': train_loss, \n",
        "        'val_acc': val_acc, \n",
        "        'val_loss': val_loss\n",
        "      })\n",
        "\n",
        "# Start sweep job.\n",
        "wandb.agent(sweep_id, function=main, count=4)"
      ]
    },
    {
      "cell_type": "code",
      "execution_count": null,
      "metadata": {
        "colab": {
          "base_uri": "https://localhost:8080/"
        },
        "id": "oKOkyo2UPU6i",
        "outputId": "807be404-021a-444c-ba3c-5f3ed5047fcd"
      },
      "outputs": [
        {
          "name": "stdout",
          "output_type": "stream",
          "text": [
            "[[1, 2, 3], [4, 5, 6], [4, 5, 6], [5, 6, 7]]\n"
          ]
        }
      ],
      "source": [
        "A=[[1,2,3],[4,5,6]]\n",
        "b=[[4,5,6],[5,6,7]]\n",
        "A=A+b\n",
        "print(A)"
      ]
    },
    {
      "cell_type": "code",
      "execution_count": null,
      "metadata": {
        "colab": {
          "base_uri": "https://localhost:8080/",
          "height": 182
        },
        "id": "CAnQmhpRPn_Z",
        "outputId": "46f500f7-a40c-4288-cb76-76919421f272"
      },
      "outputs": [
        {
          "output_type": "error",
          "ename": "IndexError",
          "evalue": "ignored",
          "traceback": [
            "\u001b[0;31m---------------------------------------------------------------------------\u001b[0m",
            "\u001b[0;31mIndexError\u001b[0m                                Traceback (most recent call last)",
            "\u001b[0;32m<ipython-input-60-cc5393f19cd6>\u001b[0m in \u001b[0;36m<module>\u001b[0;34m\u001b[0m\n\u001b[1;32m      1\u001b[0m \u001b[0ma\u001b[0m\u001b[0;34m=\u001b[0m\u001b[0;34m[\u001b[0m\u001b[0;34m]\u001b[0m\u001b[0;34m\u001b[0m\u001b[0;34m\u001b[0m\u001b[0m\n\u001b[0;32m----> 2\u001b[0;31m \u001b[0ma\u001b[0m\u001b[0;34m[\u001b[0m\u001b[0;36m4\u001b[0m\u001b[0;34m]\u001b[0m\u001b[0;34m=\u001b[0m\u001b[0;36m2\u001b[0m\u001b[0;34m\u001b[0m\u001b[0;34m\u001b[0m\u001b[0m\n\u001b[0m",
            "\u001b[0;31mIndexError\u001b[0m: list assignment index out of range"
          ]
        }
      ],
      "source": [
        "a=[]\n",
        "a[4]=2"
      ]
    },
    {
      "cell_type": "code",
      "execution_count": null,
      "metadata": {
        "colab": {
          "base_uri": "https://localhost:8080/"
        },
        "id": "NHYmesl9po24",
        "outputId": "6087b904-5c1e-4a77-adbd-65c232a0ed01"
      },
      "outputs": [
        {
          "name": "stdout",
          "output_type": "stream",
          "text": [
            "1\n",
            "2\n",
            "3\n",
            "4\n",
            "[784, 32, 32, 32, 32, 10]\n"
          ]
        }
      ],
      "source": [
        "l=5\n",
        "nodes=[]\n",
        "\n",
        "ipf=784\n",
        "opc=10\n",
        "neurons=32\n",
        "nodes.append(ipf)\n",
        "for i in range(1,l):\n",
        "  print(i)\n",
        "  nodes.append(neurons)\n",
        "nodes.append(opc)\n",
        "\n",
        "print(nodes)\n"
      ]
    },
    {
      "cell_type": "code",
      "execution_count": 95,
      "metadata": {
        "colab": {
          "base_uri": "https://localhost:8080/"
        },
        "id": "s_bAiFCHDzQ-",
        "outputId": "85ffe222-7cf3-4963-e25e-821dab48fd4f"
      },
      "outputs": [
        {
          "output_type": "stream",
          "name": "stdout",
          "text": [
            "1\n",
            "2\n",
            "3\n",
            "4\n",
            "5\n"
          ]
        }
      ],
      "source": [
        "layers=5\n",
        "for l in range(1,layers+1):\n",
        "  print(l)"
      ]
    },
    {
      "cell_type": "code",
      "execution_count": null,
      "metadata": {
        "colab": {
          "base_uri": "https://localhost:8080/",
          "height": 165
        },
        "id": "i2jRp4x50sXV",
        "outputId": "b8c91525-5831-49cd-d181-335d212ad3a6"
      },
      "outputs": [
        {
          "ename": "ZeroDivisionError",
          "evalue": "ignored",
          "output_type": "error",
          "traceback": [
            "\u001b[0;31m---------------------------------------------------------------------------\u001b[0m",
            "\u001b[0;31mZeroDivisionError\u001b[0m                         Traceback (most recent call last)",
            "\u001b[0;32m<ipython-input-66-9e1622b385b6>\u001b[0m in \u001b[0;36m<module>\u001b[0;34m\u001b[0m\n\u001b[0;32m----> 1\u001b[0;31m \u001b[0;36m1\u001b[0m\u001b[0;34m/\u001b[0m\u001b[0;36m0\u001b[0m\u001b[0;34m\u001b[0m\u001b[0;34m\u001b[0m\u001b[0m\n\u001b[0m",
            "\u001b[0;31mZeroDivisionError\u001b[0m: division by zero"
          ]
        }
      ],
      "source": []
    },
    {
      "cell_type": "code",
      "execution_count": null,
      "metadata": {
        "id": "QQGpVUlSB7Wf"
      },
      "outputs": [],
      "source": []
    }
  ],
  "metadata": {
    "colab": {
      "provenance": [],
      "authorship_tag": "ABX9TyOrHgMgZk2g1GNcpHyLSjjv",
      "include_colab_link": true
    },
    "kernelspec": {
      "display_name": "Python 3",
      "name": "python3"
    },
    "language_info": {
      "name": "python"
    }
  },
  "nbformat": 4,
  "nbformat_minor": 0
}