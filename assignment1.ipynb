{
  "cells": [
    {
      "cell_type": "markdown",
      "metadata": {
        "id": "view-in-github",
        "colab_type": "text"
      },
      "source": [
        "<a href=\"https://colab.research.google.com/github/aman9213/CS6910-Assignment1/blob/master/assignment1.ipynb\" target=\"_parent\"><img src=\"https://colab.research.google.com/assets/colab-badge.svg\" alt=\"Open In Colab\"/></a>"
      ]
    },
    {
      "cell_type": "code",
      "execution_count": null,
      "metadata": {
        "id": "YKX-QeE302kZ"
      },
      "outputs": [],
      "source": [
        " \n",
        "from keras.datasets import fashion_mnist\n",
        "import pandas as pd\n",
        "import numpy as np\n",
        "from sklearn.model_selection import train_test_split"
      ]
    },
    {
      "cell_type": "code",
      "execution_count": null,
      "metadata": {
        "colab": {
          "base_uri": "https://localhost:8080/"
        },
        "id": "_8AVSQWLU3-R",
        "outputId": "d3f773a8-da28-4ff7-9654-92cdfcdc1d51"
      },
      "outputs": [
        {
          "name": "stdout",
          "output_type": "stream",
          "text": [
            "Looking in indexes: https://pypi.org/simple, https://us-python.pkg.dev/colab-wheels/public/simple/\n",
            "Requirement already satisfied: wandb in /usr/local/lib/python3.8/dist-packages (0.13.10)\n",
            "Requirement already satisfied: requests<3,>=2.0.0 in /usr/local/lib/python3.8/dist-packages (from wandb) (2.25.1)\n",
            "Requirement already satisfied: Click!=8.0.0,>=7.0 in /usr/local/lib/python3.8/dist-packages (from wandb) (7.1.2)\n",
            "Requirement already satisfied: appdirs>=1.4.3 in /usr/local/lib/python3.8/dist-packages (from wandb) (1.4.4)\n",
            "Requirement already satisfied: psutil>=5.0.0 in /usr/local/lib/python3.8/dist-packages (from wandb) (5.4.8)\n",
            "Requirement already satisfied: pathtools in /usr/local/lib/python3.8/dist-packages (from wandb) (0.1.2)\n",
            "Requirement already satisfied: GitPython>=1.0.0 in /usr/local/lib/python3.8/dist-packages (from wandb) (3.1.31)\n",
            "Requirement already satisfied: sentry-sdk>=1.0.0 in /usr/local/lib/python3.8/dist-packages (from wandb) (1.16.0)\n",
            "Requirement already satisfied: PyYAML in /usr/local/lib/python3.8/dist-packages (from wandb) (6.0)\n",
            "Requirement already satisfied: setuptools in /usr/local/lib/python3.8/dist-packages (from wandb) (57.4.0)\n",
            "Requirement already satisfied: docker-pycreds>=0.4.0 in /usr/local/lib/python3.8/dist-packages (from wandb) (0.4.0)\n",
            "Requirement already satisfied: typing-extensions in /usr/local/lib/python3.8/dist-packages (from wandb) (4.5.0)\n",
            "Requirement already satisfied: protobuf!=4.21.0,<5,>=3.12.0 in /usr/local/lib/python3.8/dist-packages (from wandb) (3.19.6)\n",
            "Requirement already satisfied: setproctitle in /usr/local/lib/python3.8/dist-packages (from wandb) (1.3.2)\n",
            "Requirement already satisfied: six>=1.4.0 in /usr/local/lib/python3.8/dist-packages (from docker-pycreds>=0.4.0->wandb) (1.15.0)\n",
            "Requirement already satisfied: gitdb<5,>=4.0.1 in /usr/local/lib/python3.8/dist-packages (from GitPython>=1.0.0->wandb) (4.0.10)\n",
            "Requirement already satisfied: urllib3<1.27,>=1.21.1 in /usr/local/lib/python3.8/dist-packages (from requests<3,>=2.0.0->wandb) (1.26.14)\n",
            "Requirement already satisfied: chardet<5,>=3.0.2 in /usr/local/lib/python3.8/dist-packages (from requests<3,>=2.0.0->wandb) (4.0.0)\n",
            "Requirement already satisfied: certifi>=2017.4.17 in /usr/local/lib/python3.8/dist-packages (from requests<3,>=2.0.0->wandb) (2022.12.7)\n",
            "Requirement already satisfied: idna<3,>=2.5 in /usr/local/lib/python3.8/dist-packages (from requests<3,>=2.0.0->wandb) (2.10)\n",
            "Requirement already satisfied: smmap<6,>=3.0.1 in /usr/local/lib/python3.8/dist-packages (from gitdb<5,>=4.0.1->GitPython>=1.0.0->wandb) (5.0.0)\n"
          ]
        }
      ],
      "source": [
        "!pip install wandb\n"
      ]
    },
    {
      "cell_type": "code",
      "execution_count": null,
      "metadata": {
        "colab": {
          "base_uri": "https://localhost:8080/"
        },
        "id": "x9s_55X63a0y",
        "outputId": "26db5dd1-e647-48a2-e22e-148197dd66c7"
      },
      "outputs": [
        {
          "output_type": "stream",
          "name": "stdout",
          "text": [
            "Downloading data from https://storage.googleapis.com/tensorflow/tf-keras-datasets/train-labels-idx1-ubyte.gz\n",
            "29515/29515 [==============================] - 0s 0us/step\n",
            "Downloading data from https://storage.googleapis.com/tensorflow/tf-keras-datasets/train-images-idx3-ubyte.gz\n",
            "26421880/26421880 [==============================] - 0s 0us/step\n",
            "Downloading data from https://storage.googleapis.com/tensorflow/tf-keras-datasets/t10k-labels-idx1-ubyte.gz\n",
            "5148/5148 [==============================] - 0s 0us/step\n",
            "Downloading data from https://storage.googleapis.com/tensorflow/tf-keras-datasets/t10k-images-idx3-ubyte.gz\n",
            "4422102/4422102 [==============================] - 0s 0us/step\n"
          ]
        }
      ],
      "source": [
        "(train_X, train_y), (test_X, test_y) = fashion_mnist.load_data()"
      ]
    },
    {
      "cell_type": "code",
      "execution_count": null,
      "metadata": {
        "colab": {
          "base_uri": "https://localhost:8080/"
        },
        "id": "M5oCLdTN30vU",
        "outputId": "be57c81f-9137-439c-bd25-87b16b4d35df"
      },
      "outputs": [
        {
          "output_type": "stream",
          "name": "stdout",
          "text": [
            "shape of data: (60000, 28, 28)\n",
            "[9 0 0 ... 3 0 5]\n",
            "[9 2 1 ... 8 1 5]\n"
          ]
        }
      ],
      "source": [
        "print(\"shape of data:\",train_X.shape)\n",
        "print(train_y)\n",
        "print(test_y)"
      ]
    },
    {
      "cell_type": "markdown",
      "metadata": {
        "id": "tXFEfVPsbWPs"
      },
      "source": [
        "# Q1.ploting sample images from each class "
      ]
    },
    {
      "cell_type": "code",
      "execution_count": null,
      "metadata": {
        "colab": {
          "base_uri": "https://localhost:8080/"
        },
        "id": "bWuv9R5z4tMs",
        "outputId": "6108c47e-a056-491d-998e-1338153c2357"
      },
      "outputs": [
        {
          "output_type": "stream",
          "name": "stdout",
          "text": [
            "[ 1 16  5  3 19  8 18  6 23  0]\n",
            "[0 1 2 3 4 5 6 7 8 9]\n",
            "10\n"
          ]
        }
      ],
      "source": [
        "\n",
        "items,indices=np.unique(train_y,return_index=True)\n",
        "print(indices)\n",
        "print(items)\n",
        "n_classes=len(items)\n",
        "print(n_classes)"
      ]
    },
    {
      "cell_type": "code",
      "execution_count": null,
      "metadata": {
        "colab": {
          "base_uri": "https://localhost:8080/",
          "height": 368
        },
        "id": "vd0T57W637QQ",
        "outputId": "2b688400-dd3b-4ce2-e4a9-58e81aab9782"
      },
      "outputs": [
        {
          "output_type": "display_data",
          "data": {
            "text/plain": [
              "<Figure size 720x504 with 0 Axes>"
            ]
          },
          "metadata": {}
        },
        {
          "output_type": "display_data",
          "data": {
            "text/plain": [
              "<Figure size 720x504 with 10 Axes>"
            ],
            "image/png": "[encoded data removed]"
          },
          "metadata": {
            "needs_background": "light"
          }
        }
      ],
      "source": [
        "label=['T-shirt/top', 'Trouser', 'Pullover', 'Dress', 'Coat','Sandal', 'Shirt', 'Sneaker', 'Bag', 'Ankle boot']\n",
        "from matplotlib import pyplot as plt\n",
        "fig = plt.figure(figsize=(10, 7))\n",
        "\n",
        "rows=2\n",
        "columns=5\n",
        "fig = plt.figure(figsize=(10, 7))\n",
        "\n",
        "for i,j in enumerate(indices):\n",
        "        fig.add_subplot(rows, columns, i+1)\n",
        "        plt.imshow(train_X[j],cmap =\"gray\")\n",
        "        plt.axis('off')\n",
        "        plt.title(label[i])\n"
      ]
    },
    {
      "cell_type": "code",
      "execution_count": null,
      "metadata": {
        "id": "jTo-sN24nguE"
      },
      "outputs": [],
      "source": [
        "import wandb\n"
      ]
    },
    {
      "cell_type": "code",
      "execution_count": null,
      "metadata": {
        "colab": {
          "base_uri": "https://localhost:8080/"
        },
        "id": "QE3r739i0S4Q",
        "outputId": "f59dbb2a-e0ca-4942-d97a-5344a70c05e0"
      },
      "outputs": [
        {
          "name": "stdout",
          "output_type": "stream",
          "text": [
            "\u001b[34m\u001b[1mwandb\u001b[0m: Logging into wandb.ai. (Learn how to deploy a W&B server locally: https://wandb.me/wandb-server)\n",
            "\u001b[34m\u001b[1mwandb\u001b[0m: You can find your API key in your browser here: https://wandb.ai/authorize\n",
            "\u001b[34m\u001b[1mwandb\u001b[0m: Paste an API key from your profile and hit enter, or press ctrl+c to quit: \n",
            "\u001b[34m\u001b[1mwandb\u001b[0m: Appending key for api.wandb.ai to your netrc file: /root/.netrc\n"
          ]
        }
      ],
      "source": [
        "\n",
        "!wandb login --relogin"
      ]
    },
    {
      "cell_type": "code",
      "execution_count": null,
      "metadata": {
        "colab": {
          "base_uri": "https://localhost:8080/",
          "height": 225,
          "referenced_widgets": [
            "b32db180b66f48d1a5c4fbc794c0284a"
          ]
        },
        "id": "dRxG0PwccBLm",
        "outputId": "31aed8d4-6cd2-4d25-e22d-b7dc7bcd32e8"
      },
      "outputs": [
        {
          "data": {
            "text/html": [
              "Finishing last run (ID:4rboz6ax) before initializing another..."
            ],
            "text/plain": [
              "<IPython.core.display.HTML object>"
            ]
          },
          "metadata": {},
          "output_type": "display_data"
        },
        {
          "data": {
            "text/html": [
              "Waiting for W&B process to finish... <strong style=\"color:green\">(success).</strong>"
            ],
            "text/plain": [
              "<IPython.core.display.HTML object>"
            ]
          },
          "metadata": {},
          "output_type": "display_data"
        },
        {
          "data": {
            "application/vnd.jupyter.widget-view+json": {
              "model_id": "b32db180b66f48d1a5c4fbc794c0284a",
              "version_major": 2,
              "version_minor": 0
            },
            "text/plain": [
              "VBox(children=(Label(value='0.006 MB of 0.006 MB uploaded (0.000 MB deduped)\\r'), FloatProgress(value=1.0, max…"
            ]
          },
          "metadata": {},
          "output_type": "display_data"
        },
        {
          "data": {
            "text/html": [
              " View run <strong style=\"color:#cdcd00\">rare-snow-36</strong> at: <a href='https://wandb.ai/amanvb-9213/DL-assignment1/runs/4rboz6ax' target=\"_blank\">https://wandb.ai/amanvb-9213/DL-assignment1/runs/4rboz6ax</a><br/>Synced 5 W&B file(s), 10 media file(s), 0 artifact file(s) and 0 other file(s)"
            ],
            "text/plain": [
              "<IPython.core.display.HTML object>"
            ]
          },
          "metadata": {},
          "output_type": "display_data"
        },
        {
          "data": {
            "text/html": [
              "Find logs at: <code>./wandb/run-20230228_175108-4rboz6ax/logs</code>"
            ],
            "text/plain": [
              "<IPython.core.display.HTML object>"
            ]
          },
          "metadata": {},
          "output_type": "display_data"
        },
        {
          "data": {
            "text/html": [
              "Successfully finished last run (ID:4rboz6ax). Initializing new run:<br/>"
            ],
            "text/plain": [
              "<IPython.core.display.HTML object>"
            ]
          },
          "metadata": {},
          "output_type": "display_data"
        },
        {
          "data": {
            "text/html": [
              "Tracking run with wandb version 0.13.10"
            ],
            "text/plain": [
              "<IPython.core.display.HTML object>"
            ]
          },
          "metadata": {},
          "output_type": "display_data"
        },
        {
          "data": {
            "text/html": [
              "Run data is saved locally in <code>/content/wandb/run-20230228_202528-bklkm0q9</code>"
            ],
            "text/plain": [
              "<IPython.core.display.HTML object>"
            ]
          },
          "metadata": {},
          "output_type": "display_data"
        },
        {
          "data": {
            "text/html": [
              "Syncing run <strong><a href='https://wandb.ai/amanvb-9213/DL-assignment1/runs/bklkm0q9' target=\"_blank\">pious-salad-37</a></strong> to <a href='https://wandb.ai/amanvb-9213/DL-assignment1' target=\"_blank\">Weights & Biases</a> (<a href='https://wandb.me/run' target=\"_blank\">docs</a>)<br/>"
            ],
            "text/plain": [
              "<IPython.core.display.HTML object>"
            ]
          },
          "metadata": {},
          "output_type": "display_data"
        },
        {
          "data": {
            "text/html": [
              " View project at <a href='https://wandb.ai/amanvb-9213/DL-assignment1' target=\"_blank\">https://wandb.ai/amanvb-9213/DL-assignment1</a>"
            ],
            "text/plain": [
              "<IPython.core.display.HTML object>"
            ]
          },
          "metadata": {},
          "output_type": "display_data"
        },
        {
          "data": {
            "text/html": [
              " View run at <a href='https://wandb.ai/amanvb-9213/DL-assignment1/runs/bklkm0q9' target=\"_blank\">https://wandb.ai/amanvb-9213/DL-assignment1/runs/bklkm0q9</a>"
            ],
            "text/plain": [
              "<IPython.core.display.HTML object>"
            ]
          },
          "metadata": {},
          "output_type": "display_data"
        }
      ],
      "source": [
        "\n",
        "wandb.init(project=\"DL-assignment1\")\n",
        "items,indices=np.unique(train_y,return_index=True)\n",
        "labels=['T-shirt/top', 'Trouser', 'Pullover', 'Dress', 'Coat','Sandal', 'Shirt', 'Sneaker', 'Bag', 'Ankle boot']\n",
        "\n",
        "images = []\n",
        "label = []\n",
        "for i in (indices):\n",
        "    images.append(train_X[i])\n",
        "    label.append(labels[train_y[i]])\n",
        "wandb.log({\"Sample Image\": [wandb.Image(img, caption=lbl) for img,lbl in zip(images, label)]})\n",
        "\n",
        "\n"
      ]
    },
    {
      "cell_type": "code",
      "execution_count": null,
      "metadata": {
        "colab": {
          "base_uri": "https://localhost:8080/"
        },
        "id": "EapUBWmbV3g4",
        "outputId": "bf3d7449-1168-4d17-f776-a87c64d630bf"
      },
      "outputs": [
        {
          "output_type": "stream",
          "name": "stdout",
          "text": [
            "training data set: (54000, 28, 28) \n",
            "validation data set: (6000, 28, 28)\n",
            "(54000,) (6000,)\n"
          ]
        }
      ],
      "source": [
        "#splitting train_X into training and validation set\n",
        "X_train,X_validation=train_test_split(train_X,test_size=0.1,random_state=21,shuffle=True)\n",
        "print(\"training data set:\",X_train.shape,\"\\nvalidation data set:\",X_validation.shape)\n",
        "y_train,y_validation=train_test_split(train_y,test_size=0.1,random_state=21,shuffle=True)\n",
        "print(y_train.shape,y_validation.shape)\n"
      ]
    },
    {
      "cell_type": "code",
      "execution_count": null,
      "metadata": {
        "id": "QbqPBckpOrcf"
      },
      "outputs": [],
      "source": [
        "#making 2-D data matrix\n",
        "X = np.array([itr.flatten() for itr in X_train])/255.0\n",
        "X_test=np.array([itr.flatten() for itr in test_X])/255.0\n",
        "validation_X=np.array([itr.flatten() for itr in X_validation])/255.0\n",
        "#normalizing pixel\n",
        "#train_X,test_X=train_X/255.0,test_X/255.\n"
      ]
    },
    {
      "cell_type": "code",
      "execution_count": null,
      "metadata": {
        "colab": {
          "base_uri": "https://localhost:8080/"
        },
        "id": "cmSwSge7OrZl",
        "outputId": "9e7a0d75-25fb-40ec-def2-dbe88e376458"
      },
      "outputs": [
        {
          "output_type": "stream",
          "name": "stdout",
          "text": [
            "(54000, 784)\n",
            "(10000, 784)\n",
            "(6000, 784)\n"
          ]
        }
      ],
      "source": [
        "print(X.shape)\n",
        "print(X_test.shape)\n",
        "print(validation_X.shape)"
      ]
    },
    {
      "cell_type": "code",
      "execution_count": null,
      "metadata": {
        "id": "7m6swjdma_BC"
      },
      "outputs": [],
      "source": [
        "#one hot encoding for y_train\n",
        "y_train_one_hot = np.zeros((y_train.shape[0],10))\n",
        "for i in range(y_train.shape[0]):\n",
        "  y_train_one_hot[i,y_train[i]] = 1\n",
        "#one hot encoding for y_validation\n",
        "y_validation_one_hot = np.zeros((y_validation.shape[0],10))\n",
        "for i in range(y_validation.shape[0]):\n",
        "  y_validation_one_hot[i,y_validation[i]] = 1\n",
        "#one hot encoding for test_y\n",
        "test_y_one_hot = np.zeros((test_y.shape[0],10))\n",
        "for i in range(test_y.shape[0]):\n",
        "  test_y_one_hot[i,test_y[i]] = 1\n"
      ]
    },
    {
      "cell_type": "code",
      "execution_count": null,
      "metadata": {
        "colab": {
          "base_uri": "https://localhost:8080/"
        },
        "id": "3shwATWbOuW3",
        "outputId": "3232dfb4-1415-4b07-979f-9157fefb1e07"
      },
      "outputs": [
        {
          "output_type": "stream",
          "name": "stdout",
          "text": [
            "5\n"
          ]
        }
      ],
      "source": [
        "input_nodes=X.shape[1]\n",
        "output_nodes=10\n",
        "nodes=[input_nodes,10,10,10,output_nodes]\n",
        "print(len(nodes))"
      ]
    },
    {
      "cell_type": "code",
      "execution_count": null,
      "metadata": {
        "id": "cG-qL-HLX2Pg"
      },
      "outputs": [],
      "source": []
    },
    {
      "cell_type": "code",
      "execution_count": null,
      "metadata": {
        "id": "98aAW1CvOuTQ"
      },
      "outputs": [],
      "source": [
        "def init_param(nodes):\n",
        "  layers=len(nodes)\n",
        "  theta={}\n",
        "\n",
        "  for i in range(1,layers):\n",
        "    theta[\"W\"+str(i)]=(np.random.normal(0.0,1,(nodes[i-1],nodes[i])))\n",
        "    theta[\"b\"+str(i)]=(np.zeros((1,nodes[i])))\n",
        "  return theta\n",
        "\n",
        "#activation functions\n",
        "\n",
        "def sigmoid(x):\n",
        "  return 1/1+(np.exp(-x))\n",
        "  \n",
        "def softmax(x):\n",
        "  return np.exp(x) / np.sum(np.exp(x), axis=1)  \n",
        "def ReLU(x):\n",
        "  return np.maximum(0,x)\n",
        "\n",
        "def sigmoid_prime(x):\n",
        "  return sigmoid(x)*(1-sigmoid(x))\n",
        "def Relu_prime(x):\n",
        "  return 1*(x>0)\n",
        "\n"
      ]
    },
    {
      "cell_type": "code",
      "execution_count": null,
      "metadata": {
        "colab": {
          "base_uri": "https://localhost:8080/"
        },
        "id": "vwXYEkInQwZB",
        "outputId": "afb85e3e-c575-4053-ac52-a1d3406d0b91"
      },
      "outputs": [
        {
          "data": {
            "text/plain": [
              "8"
            ]
          },
          "execution_count": 17,
          "metadata": {},
          "output_type": "execute_result"
        }
      ],
      "source": [
        "n=init_param(nodes)\n",
        "len(n)"
      ]
    },
    {
      "cell_type": "code",
      "execution_count": null,
      "metadata": {
        "id": "ZH-c2VVpt77I"
      },
      "outputs": [],
      "source": [
        "def feed_forward(x,theta,activation):\n",
        "  layers=len(theta)//2\n",
        "  H=[None]\n",
        "  A=[]\n",
        "  H[0]=np.array([x])\n",
        "  abc=H[0]\n",
        "  for i in range(1,layers+1):\n",
        "    a=np.dot(abc,theta[\"W\"+str(i)])+theta[\"b\"+str(i)]\n",
        "    A.append(a)\n",
        "    if activation=='sigmoid':\n",
        "      h=sigmoid(a)\n",
        "      H.append(h)\n",
        "    elif activation=='ReLU':\n",
        "      h=ReLU(a)\n",
        "      H.append(h)\n",
        "    if i==layers:\n",
        "      h=softmax(a)\n",
        "      H.append(h)\n",
        "    abc=h\n",
        "  y_hat=H[layers]\n",
        "  return y_hat,H,A\n",
        "    \n"
      ]
    },
    {
      "cell_type": "code",
      "execution_count": null,
      "metadata": {
        "id": "zRDnRtxUMPL4"
      },
      "outputs": [],
      "source": [
        " theta=init_param(nodes)\n",
        " y_hat,H,A=feed_forward(X[0,:],theta,'ReLU')\n",
        " #print((y_hat),A,H)\n"
      ]
    },
    {
      "cell_type": "code",
      "execution_count": null,
      "metadata": {
        "id": "VektM6-WcTTR"
      },
      "outputs": [],
      "source": [
        "def back_prop(y_hat,y,H,A,layers,theta):\n",
        "\n",
        "  grads={}\n",
        "  \n",
        "  grads[\"dA\"+str(layers)]=y_hat-y_train_one_hot[i]\n",
        "  for l in range(layers,0,-1):\n",
        "    #print(grads[\"dA\"+str(l)].shape)\n",
        "    grads[\"dW\" + str(l)] = (np.dot(np.array(H[l-1]).T,grads[\"dA\" + str(l)]))\n",
        "    \n",
        "    grads[\"db\" + str(l)] = (grads[\"dA\" + str(l)])\n",
        "    #print(grads[\"db\" + str(l)])\n",
        "\n",
        "    if l>1:\n",
        "      grads[\"dA\"+str(l-1)] = np.matmul(grads[\"dA\" + str(l)],theta[\"W\"+str(l)]) * Relu_prime(A[l-1])\n",
        "  return grads\n",
        "\n",
        "       \n",
        "\n",
        "#gradient=back_prop(y_hat,y_train_one_hot,H,A) \n",
        "#print(gradient[\"dW\"+str(1)].shape)\n"
      ]
    },
    {
      "cell_type": "code",
      "source": [
        "def update(nodes):\n",
        "  layers=len(nodes)\n",
        "  update={}\n",
        "\n",
        "  for i in range(1,layers):\n",
        "    update[\"W\"+str(i)]=(np.random.normal(0.0,1,(nodes[i-1],nodes[i])))\n",
        "    update[\"b\"+str(i)]=(np.zeros((1,nodes[i])))\n",
        "  return update"
      ],
      "metadata": {
        "id": "4NYGOQRB-H6Z"
      },
      "execution_count": null,
      "outputs": []
    },
    {
      "cell_type": "code",
      "source": [
        "def reint_grad(grads,layers):\n",
        "  for l in range(layers,0,-1):\n",
        "    #print(grads[\"dA\"+str(l)].shape)\n",
        "    grads[\"dW\" + str(l)] =0\n",
        "    \n",
        "    grads[\"db\" + str(l)] =0\n",
        "  return grads"
      ],
      "metadata": {
        "id": "-xgV9WWXZvDT"
      },
      "execution_count": null,
      "outputs": []
    },
    {
      "cell_type": "code",
      "execution_count": null,
      "metadata": {
        "id": "QfM9r0I4e9GF"
      },
      "outputs": [],
      "source": [
        "def gradient_decent(type,batch_size,epoch,lr,theta,activation):\n",
        "  theta=init_param(nodes)\n",
        "  layers=len(theta)//2\n",
        "  if type=='sgd':\n",
        "    for e in range(epoch):\n",
        "      dw,db,count=0\n",
        "      for i in range(0,X.shape[0],batch_size):\n",
        "        y_hat,H,A=feed_forward(X[i:i+batch_size,:],theta,activation)\n",
        "        del_theta=back_prop(y_hat,y_train_one_hot[i:i+batch_size,:],H,A,layers,theta)\n",
        "\n",
        "        for l in range(1,layers):\n",
        "          theta[\"W\"+str(l)]=theta[\"W\"+str(l)]-lr*del_theta[\"dW\"+str(l)]\n",
        "          theta[\"b\"+str(l)]=theta[\"b\"+str(l)]-lr*del_theta[\"db\"+str(l)]\n",
        "  elif type=='mgd':\n",
        "    count=0\n",
        "    m=0.5   ##this is beta for momentum\n",
        "    prv_updates=update(nodes)\n",
        "    for e in range(epoch):\n",
        "      for i in range(0,X.shape[0],batch_size):\n",
        "        y_hat,H,A=feed_forward(X[i:i+batch_size,:],theta,activation)\n",
        "        del_theta=back_prop(y_hat,y_train_one_hot[i:i+batch_size,:],H,A,layers,theta)\n",
        "\n",
        "        for l in range(1,layers):\n",
        "          theta[\"W\"+str(l)]=theta[\"W\"+str(l)]-(m*prv_updates[\"W\"+str(l)]+lr*del_theta[\"dW\"+str(l)])\n",
        "          theta[\"W\"+str(l)]=theta[\"b\"+str(l)]-(m*prv_updates[\"b\"+str(l)]+lr*del_theta[\"db\"+str(l)])\n",
        "          prv_updates[\"W\"+str(l)]=(m*prv_updates[\"W\"+str(l)]+lr*del_theta[\"dW\"+str(l)])\n",
        "          prv_updates[\"b\"+str(l)]=(m*prv_updates[\"b\"+str(l)]+lr*del_theta[\"db\"+str(l)])\n",
        "\n",
        "\n",
        "\n",
        "  elif type=='nag': \n",
        "    m=0.5\n",
        "    theta_look_ahead={}\n",
        "    prv_updates=update(nodes)\n",
        "    for e in range(epoch):\n",
        "      for i in range(0,X.shape[0],batch_size):\n",
        "        y_hat,H,A=feed_forward(X[i:i+batch_size,:],theta,activation)\n",
        "        for l in range(1,layers):\n",
        "          theta_look_ahead[\"W\"+str(l)]=theta[\"W\"+str(l)]-m*prv_update[\"W\"+str(l)]\n",
        "          theta_look_ahead[\"b\"+str(l)]=theta[\"b\"+str(l)]-m*prv_update[\"b\"+str(l)]\n",
        "\n",
        "\n",
        "        del_theta=back_prop(y_hat,y_train_one_hot[i:i+batch_size,:],H,A,layers,theta_look_ahead)\n",
        "\n",
        "        for l in range(1,layers):\n",
        "          theta[\"W\"+str(l)]=theta[\"W\"+str(l)]-(m*prv_updates[\"W\"+str(l)]+lr*del_theta[\"dW\"+str(l)])\n",
        "          theta[\"W\"+str(l)]=theta[\"b\"+str(l)]-(m*prv_updates[\"b\"+str(l)]+lr*del_theta[\"db\"+str(l)])\n",
        "          prv_updates[\"W\"+str(l)]=(m*prv_updates[\"W\"+str(l)]+lr*del_theta[\"dW\"+str(l)])\n",
        "          prv_updates[\"b\"+str(l)]=(m*prv_updates[\"b\"+str(l)]+lr*del_theta[\"db\"+str(l)])\n",
        "\n",
        "  elif type=='rmsprop':\n",
        "    \n",
        "\n",
        "  \n",
        "\n",
        "\n",
        "\n",
        "\n",
        "\n",
        "\n",
        "\n",
        "\n",
        "\n",
        "\n",
        "\n",
        "        \n",
        "\n",
        "\n",
        "\n",
        "\n",
        "\n",
        "\n",
        "\n",
        "\n",
        "\n",
        "\n",
        "\n",
        "\n",
        "\n",
        "\n",
        "\n",
        "  "
      ]
    },
    {
      "cell_type": "code",
      "execution_count": null,
      "metadata": {
        "id": "35a5ldnfO3pg"
      },
      "outputs": [],
      "source": []
    },
    {
      "cell_type": "code",
      "execution_count": null,
      "metadata": {
        "id": "h-mwo5smPEVF",
        "colab": {
          "base_uri": "https://localhost:8080/",
          "height": 200
        },
        "outputId": "8a473942-e2bd-4c97-9df7-d46a495ee23d"
      },
      "outputs": [
        {
          "output_type": "error",
          "ename": "TypeError",
          "evalue": "ignored",
          "traceback": [
            "\u001b[0;31m---------------------------------------------------------------------------\u001b[0m",
            "\u001b[0;31mTypeError\u001b[0m                                 Traceback (most recent call last)",
            "\u001b[0;32m<ipython-input-23-219ba1700ccf>\u001b[0m in \u001b[0;36m<module>\u001b[0;34m\u001b[0m\n\u001b[1;32m      5\u001b[0m \u001b[0;32mfor\u001b[0m \u001b[0mi\u001b[0m \u001b[0;32min\u001b[0m \u001b[0mrange\u001b[0m\u001b[0;34m(\u001b[0m\u001b[0;36m3\u001b[0m\u001b[0;34m)\u001b[0m\u001b[0;34m:\u001b[0m\u001b[0;34m\u001b[0m\u001b[0;34m\u001b[0m\u001b[0m\n\u001b[1;32m      6\u001b[0m   \u001b[0mb\u001b[0m\u001b[0;34m=\u001b[0m\u001b[0mA\u001b[0m\u001b[0;34m\u001b[0m\u001b[0;34m\u001b[0m\u001b[0m\n\u001b[0;32m----> 7\u001b[0;31m \u001b[0mA\u001b[0m\u001b[0;34m+=\u001b[0m\u001b[0mb\u001b[0m\u001b[0;34m\u001b[0m\u001b[0;34m\u001b[0m\u001b[0m\n\u001b[0m",
            "\u001b[0;31mTypeError\u001b[0m: unsupported operand type(s) for +=: 'dict' and 'dict'"
          ]
        }
      ],
      "source": [
        "  A={}\n",
        "\n",
        "  for i in range(3):\n",
        "    A[\"a\"+str(i)]=[i,i+1,i+2] \n",
        "  for i in range(3):\n",
        "    b=A \n",
        "A+=b"
      ]
    },
    {
      "cell_type": "code",
      "execution_count": null,
      "metadata": {
        "id": "oKOkyo2UPU6i",
        "colab": {
          "base_uri": "https://localhost:8080/"
        },
        "outputId": "807be404-021a-444c-ba3c-5f3ed5047fcd"
      },
      "outputs": [
        {
          "output_type": "stream",
          "name": "stdout",
          "text": [
            "[[1, 2, 3], [4, 5, 6], [4, 5, 6], [5, 6, 7]]\n"
          ]
        }
      ],
      "source": [
        "A=[[1,2,3],[4,5,6]]\n",
        "b=[[4,5,6],[5,6,7]]\n",
        "A=A+b\n",
        "print(A)"
      ]
    },
    {
      "cell_type": "code",
      "execution_count": null,
      "metadata": {
        "colab": {
          "base_uri": "https://localhost:8080/"
        },
        "id": "CAnQmhpRPn_Z",
        "outputId": "620c9f74-c0b8-4c4a-8e8f-a63e63267943"
      },
      "outputs": [
        {
          "name": "stdout",
          "output_type": "stream",
          "text": [
            "4\n",
            "3\n",
            "2\n",
            "1\n"
          ]
        }
      ],
      "source": []
    },
    {
      "cell_type": "code",
      "execution_count": null,
      "metadata": {
        "id": "NHYmesl9po24"
      },
      "outputs": [],
      "source": []
    }
  ],
  "metadata": {
    "colab": {
      "provenance": [],
      "authorship_tag": "ABX9TyNhTAWGnjHHQkpoizOwfRJk",
      "include_colab_link": true
    },
    "kernelspec": {
      "display_name": "Python 3",
      "name": "python3"
    },
    "language_info": {
      "name": "python"
    }
  },
  "nbformat": 4,
  "nbformat_minor": 0
}