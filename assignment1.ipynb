{
  "cells": [
    {
      "cell_type": "markdown",
      "metadata": {
        "id": "view-in-github",
        "colab_type": "text"
      },
      "source": [
        "<a href=\"https://colab.research.google.com/github/aman9213/CS6910-Assignment1/blob/master/assignment1.ipynb\" target=\"_parent\"><img src=\"https://colab.research.google.com/assets/colab-badge.svg\" alt=\"Open In Colab\"/></a>"
      ]
    },
    {
      "cell_type": "code",
      "execution_count": 1,
      "metadata": {
        "id": "YKX-QeE302kZ"
      },
      "outputs": [],
      "source": [
        "from tqdm import tqdm\n",
        "from keras.datasets import fashion_mnist\n",
        "import numpy as np\n",
        "import random\n",
        "import matplotlib.pyplot as plt\n",
        "from sklearn.model_selection import train_test_split\n",
        "from sklearn.metrics import  confusion_matrix\n",
        "import warnings\n",
        "import warnings\n",
        "warnings.filterwarnings(\"ignore\")"
      ]
    },
    {
      "cell_type": "code",
      "execution_count": 2,
      "metadata": {
        "colab": {
          "base_uri": "https://localhost:8080/"
        },
        "id": "_8AVSQWLU3-R",
        "outputId": "9dbb06a0-e34a-4ed2-8a1e-342b277c9b69"
      },
      "outputs": [
        {
          "output_type": "stream",
          "name": "stdout",
          "text": [
            "Looking in indexes: https://pypi.org/simple, https://us-python.pkg.dev/colab-wheels/public/simple/\n",
            "Requirement already satisfied: wandb in /usr/local/lib/python3.9/dist-packages (0.14.0)\n",
            "Requirement already satisfied: sentry-sdk>=1.0.0 in /usr/local/lib/python3.9/dist-packages (from wandb) (1.17.0)\n",
            "Requirement already satisfied: requests<3,>=2.0.0 in /usr/local/lib/python3.9/dist-packages (from wandb) (2.27.1)\n",
            "Requirement already satisfied: docker-pycreds>=0.4.0 in /usr/local/lib/python3.9/dist-packages (from wandb) (0.4.0)\n",
            "Requirement already satisfied: pathtools in /usr/local/lib/python3.9/dist-packages (from wandb) (0.1.2)\n",
            "Requirement already satisfied: GitPython!=3.1.29,>=1.0.0 in /usr/local/lib/python3.9/dist-packages (from wandb) (3.1.31)\n",
            "Requirement already satisfied: Click!=8.0.0,>=7.0 in /usr/local/lib/python3.9/dist-packages (from wandb) (8.1.3)\n",
            "Requirement already satisfied: appdirs>=1.4.3 in /usr/local/lib/python3.9/dist-packages (from wandb) (1.4.4)\n",
            "Requirement already satisfied: psutil>=5.0.0 in /usr/local/lib/python3.9/dist-packages (from wandb) (5.9.4)\n",
            "Requirement already satisfied: PyYAML in /usr/local/lib/python3.9/dist-packages (from wandb) (6.0)\n",
            "Requirement already satisfied: typing-extensions in /usr/local/lib/python3.9/dist-packages (from wandb) (4.5.0)\n",
            "Requirement already satisfied: setuptools in /usr/local/lib/python3.9/dist-packages (from wandb) (63.4.3)\n",
            "Requirement already satisfied: setproctitle in /usr/local/lib/python3.9/dist-packages (from wandb) (1.3.2)\n",
            "Requirement already satisfied: protobuf!=4.21.0,<5,>=3.15.0 in /usr/local/lib/python3.9/dist-packages (from wandb) (3.19.6)\n",
            "Requirement already satisfied: six>=1.4.0 in /usr/local/lib/python3.9/dist-packages (from docker-pycreds>=0.4.0->wandb) (1.15.0)\n",
            "Requirement already satisfied: gitdb<5,>=4.0.1 in /usr/local/lib/python3.9/dist-packages (from GitPython!=3.1.29,>=1.0.0->wandb) (4.0.10)\n",
            "Requirement already satisfied: certifi>=2017.4.17 in /usr/local/lib/python3.9/dist-packages (from requests<3,>=2.0.0->wandb) (2022.12.7)\n",
            "Requirement already satisfied: charset-normalizer~=2.0.0 in /usr/local/lib/python3.9/dist-packages (from requests<3,>=2.0.0->wandb) (2.0.12)\n",
            "Requirement already satisfied: urllib3<1.27,>=1.21.1 in /usr/local/lib/python3.9/dist-packages (from requests<3,>=2.0.0->wandb) (1.26.15)\n",
            "Requirement already satisfied: idna<4,>=2.5 in /usr/local/lib/python3.9/dist-packages (from requests<3,>=2.0.0->wandb) (3.4)\n",
            "Requirement already satisfied: smmap<6,>=3.0.1 in /usr/local/lib/python3.9/dist-packages (from gitdb<5,>=4.0.1->GitPython!=3.1.29,>=1.0.0->wandb) (5.0.0)\n"
          ]
        }
      ],
      "source": [
        "!pip install wandb\n"
      ]
    },
    {
      "cell_type": "markdown",
      "source": [
        "### Loading the fashion-mnist data set"
      ],
      "metadata": {
        "id": "SKAEhJz91tBh"
      }
    },
    {
      "cell_type": "code",
      "execution_count": 3,
      "metadata": {
        "id": "x9s_55X63a0y"
      },
      "outputs": [],
      "source": [
        "(train_X, train_y), (test_X, test_y) = fashion_mnist.load_data()"
      ]
    },
    {
      "cell_type": "code",
      "execution_count": 4,
      "metadata": {
        "colab": {
          "base_uri": "https://localhost:8080/"
        },
        "id": "M5oCLdTN30vU",
        "outputId": "8ba44593-19c9-4557-f90f-0a700cb74b30"
      },
      "outputs": [
        {
          "output_type": "stream",
          "name": "stdout",
          "text": [
            "shape of data: (60000, 28, 28)\n",
            "[9 0 0 ... 3 0 5]\n",
            "[9 2 1 ... 8 1 5]\n"
          ]
        }
      ],
      "source": [
        "print(\"shape of data:\",train_X.shape)\n",
        "print(train_y)\n",
        "print(test_y)"
      ]
    },
    {
      "cell_type": "markdown",
      "metadata": {
        "id": "tXFEfVPsbWPs"
      },
      "source": [
        "# Q1.ploting sample images from each class "
      ]
    },
    {
      "cell_type": "code",
      "execution_count": 5,
      "metadata": {
        "colab": {
          "base_uri": "https://localhost:8080/"
        },
        "id": "bWuv9R5z4tMs",
        "outputId": "976c2235-bf1e-4556-d75c-d356efe5eef4"
      },
      "outputs": [
        {
          "output_type": "stream",
          "name": "stdout",
          "text": [
            "[ 1 16  5  3 19  8 18  6 23  0]\n",
            "[0 1 2 3 4 5 6 7 8 9]\n",
            "10\n"
          ]
        }
      ],
      "source": [
        "\n",
        "items,indices=np.unique(train_y,return_index=True)\n",
        "print(indices)\n",
        "print(items)\n",
        "n_classes=len(items)\n",
        "print(n_classes)"
      ]
    },
    {
      "cell_type": "code",
      "execution_count": 6,
      "metadata": {
        "colab": {
          "base_uri": "https://localhost:8080/",
          "height": 368
        },
        "id": "vd0T57W637QQ",
        "outputId": "bf6c51d6-c2ed-49f1-e4f1-dc8172eb7da3"
      },
      "outputs": [
        {
          "output_type": "display_data",
          "data": {
            "text/plain": [
              "<Figure size 720x504 with 0 Axes>"
            ]
          },
          "metadata": {}
        },
        {
          "output_type": "display_data",
          "data": {
            "text/plain": [
              "<Figure size 720x504 with 10 Axes>"
            ],
            "image/png": "[encoded data removed]"
          },
          "metadata": {
            "needs_background": "light"
          }
        }
      ],
      "source": [
        "label=['T-shirt/top', 'Trouser', 'Pullover', 'Dress', 'Coat','Sandal', 'Shirt', 'Sneaker', 'Bag', 'Ankle boot']\n",
        "from matplotlib import pyplot as plt\n",
        "fig = plt.figure(figsize=(10, 7))\n",
        "\n",
        "rows=2\n",
        "columns=5\n",
        "fig = plt.figure(figsize=(10, 7))\n",
        "\n",
        "for i,j in enumerate(indices):\n",
        "        fig.add_subplot(rows, columns, i+1)\n",
        "        plt.imshow(train_X[j],cmap =\"gray\")\n",
        "        plt.axis('off')\n",
        "        plt.title(label[i])\n"
      ]
    },
    {
      "cell_type": "markdown",
      "source": [
        " logging the image to the wandb"
      ],
      "metadata": {
        "id": "rLaIxc2P18Vu"
      }
    },
    {
      "cell_type": "code",
      "execution_count": 7,
      "metadata": {
        "id": "jTo-sN24nguE"
      },
      "outputs": [],
      "source": [
        "import wandb\n"
      ]
    },
    {
      "cell_type": "code",
      "execution_count": 8,
      "metadata": {
        "colab": {
          "base_uri": "https://localhost:8080/"
        },
        "id": "QE3r739i0S4Q",
        "outputId": "6e119056-08fb-4e1b-a424-0f0b56a1428d"
      },
      "outputs": [
        {
          "output_type": "stream",
          "name": "stdout",
          "text": [
            "\u001b[34m\u001b[1mwandb\u001b[0m: Logging into wandb.ai. (Learn how to deploy a W&B server locally: https://wandb.me/wandb-server)\n",
            "\u001b[34m\u001b[1mwandb\u001b[0m: You can find your API key in your browser here: https://wandb.ai/authorize\n",
            "\u001b[34m\u001b[1mwandb\u001b[0m: Paste an API key from your profile and hit enter, or press ctrl+c to quit: \n",
            "\u001b[34m\u001b[1mwandb\u001b[0m: Appending key for api.wandb.ai to your netrc file: /root/.netrc\n"
          ]
        }
      ],
      "source": [
        "\n",
        "!wandb login --relogin"
      ]
    },
    {
      "cell_type": "code",
      "execution_count": 9,
      "metadata": {
        "colab": {
          "base_uri": "https://localhost:8080/",
          "height": 121
        },
        "id": "dRxG0PwccBLm",
        "outputId": "b7d12478-f5fb-41c4-bc77-2877ae38bf37"
      },
      "outputs": [
        {
          "output_type": "stream",
          "name": "stderr",
          "text": [
            "\u001b[34m\u001b[1mwandb\u001b[0m: Currently logged in as: \u001b[33mamanvb-9213\u001b[0m. Use \u001b[1m`wandb login --relogin`\u001b[0m to force relogin\n"
          ]
        },
        {
          "output_type": "display_data",
          "data": {
            "text/plain": [
              "<IPython.core.display.HTML object>"
            ],
            "text/html": [
              "Tracking run with wandb version 0.14.0"
            ]
          },
          "metadata": {}
        },
        {
          "output_type": "display_data",
          "data": {
            "text/plain": [
              "<IPython.core.display.HTML object>"
            ],
            "text/html": [
              "Run data is saved locally in <code>/content/wandb/run-20230319_180629-4gxsy57z</code>"
            ]
          },
          "metadata": {}
        },
        {
          "output_type": "display_data",
          "data": {
            "text/plain": [
              "<IPython.core.display.HTML object>"
            ],
            "text/html": [
              "Syncing run <strong><a href='https://wandb.ai/amanvb-9213/DL-assignment1/runs/4gxsy57z' target=\"_blank\">upbeat-silence-132</a></strong> to <a href='https://wandb.ai/amanvb-9213/DL-assignment1' target=\"_blank\">Weights & Biases</a> (<a href='https://wandb.me/run' target=\"_blank\">docs</a>)<br/>"
            ]
          },
          "metadata": {}
        },
        {
          "output_type": "display_data",
          "data": {
            "text/plain": [
              "<IPython.core.display.HTML object>"
            ],
            "text/html": [
              " View project at <a href='https://wandb.ai/amanvb-9213/DL-assignment1' target=\"_blank\">https://wandb.ai/amanvb-9213/DL-assignment1</a>"
            ]
          },
          "metadata": {}
        },
        {
          "output_type": "display_data",
          "data": {
            "text/plain": [
              "<IPython.core.display.HTML object>"
            ],
            "text/html": [
              " View run at <a href='https://wandb.ai/amanvb-9213/DL-assignment1/runs/4gxsy57z' target=\"_blank\">https://wandb.ai/amanvb-9213/DL-assignment1/runs/4gxsy57z</a>"
            ]
          },
          "metadata": {}
        }
      ],
      "source": [
        "\n",
        "wandb.init(project=\"DL-assignment1\")\n",
        "items,indices=np.unique(train_y,return_index=True)\n",
        "labels=['T-shirt/top', 'Trouser', 'Pullover', 'Dress', 'Coat','Sandal', 'Shirt', 'Sneaker', 'Bag', 'Ankle boot']\n",
        "\n",
        "images = []\n",
        "label = []\n",
        "for i in (indices):\n",
        "    images.append(train_X[i])\n",
        "    label.append(labels[train_y[i]])\n",
        "wandb.log({\"Sample Image\": [wandb.Image(img, caption=lbl) for img,lbl in zip(images, label)]})\n",
        "\n",
        "\n"
      ]
    },
    {
      "cell_type": "code",
      "source": [],
      "metadata": {
        "id": "Z1J0nFIR2Emk"
      },
      "execution_count": 9,
      "outputs": []
    },
    {
      "cell_type": "code",
      "execution_count": 10,
      "metadata": {
        "colab": {
          "base_uri": "https://localhost:8080/"
        },
        "id": "EapUBWmbV3g4",
        "outputId": "6a49d073-562e-4e6e-88e4-33b94e46908a"
      },
      "outputs": [
        {
          "output_type": "stream",
          "name": "stdout",
          "text": [
            "training data set: (54000, 28, 28) \n",
            "validation data set: (6000, 28, 28)\n",
            "(54000,) (6000,)\n"
          ]
        }
      ],
      "source": [
        "#splitting train_X into training and validation set\n",
        "X_train,X_validation=train_test_split(train_X,test_size=0.1,random_state=21,shuffle=True)\n",
        "print(\"training data set:\",X_train.shape,\"\\nvalidation data set:\",X_validation.shape)\n",
        "y_train,y_validation=train_test_split(train_y,test_size=0.1,random_state=21,shuffle=True)\n",
        "print(y_train.shape,y_validation.shape)\n"
      ]
    },
    {
      "cell_type": "code",
      "execution_count": 11,
      "metadata": {
        "id": "QbqPBckpOrcf"
      },
      "outputs": [],
      "source": [
        "#making 2-D data matrix\n",
        "X = np.array([itr.flatten() for itr in X_train])/255.0\n",
        "X_test=np.array([itr.flatten() for itr in test_X])/255.0\n",
        "validation_X=np.array([itr.flatten() for itr in X_validation])/255.0\n",
        "#normalizing pixel\n"
      ]
    },
    {
      "cell_type": "code",
      "execution_count": 12,
      "metadata": {
        "colab": {
          "base_uri": "https://localhost:8080/"
        },
        "id": "cmSwSge7OrZl",
        "outputId": "2c8cc3b6-2e52-419f-c93b-9f743fcf24a2"
      },
      "outputs": [
        {
          "output_type": "stream",
          "name": "stdout",
          "text": [
            "(54000, 784)\n",
            "(10000, 784)\n",
            "(6000, 784)\n"
          ]
        }
      ],
      "source": [
        "print(X.shape)\n",
        "print(X_test.shape)\n",
        "print(validation_X.shape)"
      ]
    },
    {
      "cell_type": "markdown",
      "source": [
        " one hot encoding for 10 different of classes\n"
      ],
      "metadata": {
        "id": "S4D-tVoP2Rrh"
      }
    },
    {
      "cell_type": "code",
      "execution_count": 13,
      "metadata": {
        "id": "7m6swjdma_BC",
        "colab": {
          "base_uri": "https://localhost:8080/"
        },
        "outputId": "47d57a2c-4885-44df-a165-e518ef3a639b"
      },
      "outputs": [
        {
          "output_type": "stream",
          "name": "stdout",
          "text": [
            "[0. 0. 0. 0. 0. 0. 0. 0. 1. 0.]\n"
          ]
        }
      ],
      "source": [
        "#one hot encoding for y_train\n",
        "y_train_one_hot = np.zeros((y_train.shape[0],10))\n",
        "for i in range(y_train.shape[0]):\n",
        "  y_train_one_hot[i,y_train[i]] = 1\n",
        "#one hot encoding for y_validation\n",
        "y_validation_one_hot = np.zeros((y_validation.shape[0],10))\n",
        "for i in range(y_validation.shape[0]):\n",
        "  y_validation_one_hot[i,y_validation[i]] = 1\n",
        "#one hot encoding for test_y\n",
        "test_y_one_hot = np.zeros((test_y.shape[0],10))\n",
        "for i in range(test_y.shape[0]):\n",
        "  test_y_one_hot[i,test_y[i]] = 1\n",
        "print(y_train_one_hot[1])"
      ]
    },
    {
      "cell_type": "code",
      "execution_count": 14,
      "metadata": {
        "id": "3shwATWbOuW3"
      },
      "outputs": [],
      "source": [
        "input_nodes=X.shape[1]\n",
        "output_nodes=10\n"
      ]
    },
    {
      "cell_type": "markdown",
      "source": [
        "###defining network size"
      ],
      "metadata": {
        "id": "JvdpQUGf2iiZ"
      }
    },
    {
      "cell_type": "code",
      "execution_count": 15,
      "metadata": {
        "id": "ganpTevpPcGT"
      },
      "outputs": [],
      "source": [
        "def network_size(h_layers,h_nodes):\n",
        "  nodes=[]\n",
        "  nodes.append(input_nodes)\n",
        "  for l in range(1,h_layers+1):\n",
        "    nodes.append(h_nodes)\n",
        "  nodes.append(output_nodes)\n",
        "\n",
        "  return nodes"
      ]
    },
    {
      "cell_type": "markdown",
      "source": [
        "function for parameter initializtion and activaion function"
      ],
      "metadata": {
        "id": "clGfp_i921vt"
      }
    },
    {
      "cell_type": "code",
      "execution_count": 16,
      "metadata": {
        "id": "98aAW1CvOuTQ"
      },
      "outputs": [],
      "source": [
        "def init_param(nodes,mode):\n",
        "  layers=len(nodes)\n",
        "  \n",
        "  theta={}\n",
        "  if mode=='random':\n",
        "    for i in range(1,layers):\n",
        "      theta[\"W\"+str(i)]=np.random.randn(nodes[i-1],nodes[i])\n",
        "      #print(theta[\"W\"+str(i)].shape)\n",
        "      theta[\"b\"+str(i)]=np.zeros((1,nodes[i]))\n",
        "\n",
        "  elif mode=='xavier':\n",
        "    for i in range(1,layers):\n",
        "       #theta[\"W\"+str(i)]= np.random.randn(nodes[i-1],nodes[i])*np.sqrt(2/(nodes[i-1]+nodes[i]))\n",
        "       theta[\"W\"+str(i)]=np.random.normal(loc=0.0, scale=np.sqrt(2/(nodes[i-1]+nodes[i])), size=(nodes[i-1],nodes[i]))\n",
        "       theta[\"b\"+str(i)]=np.zeros((1,nodes[i]))\n",
        "  layers=0  \n",
        "  return theta\n",
        "\n",
        "#activation functions\n",
        "\n",
        "def sigmoid(x):\n",
        "  return np.float64(1/(1+(np.exp(-x))))\n",
        "  \n",
        " \n",
        "def softmax(z):\n",
        "    #assert len(z.shape) == 1\n",
        "    s = np.max(z, axis=1)\n",
        "    s = s[:, np.newaxis] \n",
        "    e_x = np.exp(z - s)\n",
        "    div = np.sum(e_x, axis=1)\n",
        "    div = div[:, np.newaxis] \n",
        "    return e_x / div\n",
        "\n",
        "def ReLU(x):\n",
        "  return np.float64(np.maximum(0,x))\n",
        "def tanh(x):\n",
        "    return np.float64(np.tanh(x))\n",
        "def identity(x):\n",
        "  return np.float64(x)\n",
        "\n",
        "\n"
      ]
    },
    {
      "cell_type": "markdown",
      "source": [
        "####derivative of activation function"
      ],
      "metadata": {
        "id": "7SFwgiM13OxU"
      }
    },
    {
      "cell_type": "code",
      "execution_count": 17,
      "metadata": {
        "id": "aQl0SvjqWM7U"
      },
      "outputs": [],
      "source": [
        "def activation_prime(x,activation):\n",
        "  if activation=='sigmoid':\n",
        "    return sigmoid(x)*(1-sigmoid(x))\n",
        "  elif activation=='ReLU':\n",
        "    #  d=np.zeros_like(x,dtype=np.float64)\n",
        "    #  d[x>0]=1\n",
        "     return 1.*(x>0)\n",
        "  elif activation=='tanh':\n",
        "    return  (1 - (tanh(x)**2))\n",
        "  elif activation=='identity':\n",
        "    x1=np.ones_like(x,dtype=np.float64)\n",
        "  return x1\n",
        "\n",
        "\n"
      ]
    },
    {
      "cell_type": "markdown",
      "source": [
        "###function for forward propagation"
      ],
      "metadata": {
        "id": "DtgqGN8W3ce0"
      }
    },
    {
      "cell_type": "code",
      "execution_count": 18,
      "metadata": {
        "id": "ZH-c2VVpt77I"
      },
      "outputs": [],
      "source": [
        "def feed_forward(x,theta,activation):\n",
        "  \n",
        "  layers=len(theta)//2\n",
        "  H=[None]\n",
        "  A=[]\n",
        "  H[0]=np.array([x])  \n",
        "  abc=H[0]\n",
        "  for i in range(1,layers):\n",
        "    a=np.dot(abc,theta[\"W\"+str(i)])+theta[\"b\"+str(i)]\n",
        "    A.append(a)\n",
        "    if(i!=layers):\n",
        "      if activation=='sigmoid':\n",
        "        h=sigmoid(a)\n",
        "        H.append(h)\n",
        "      elif activation=='ReLU':\n",
        "        h=ReLU(a)\n",
        "        H.append(h)\n",
        "        \n",
        "      elif activation=='tanh':\n",
        "        h=tanh(a)\n",
        "        H.append(h)\n",
        "      elif activation=='identity':\n",
        "        h=identity(a)\n",
        "        H.append(h)\n",
        "        \n",
        "    #else:\n",
        "    #   y_hat=(softmax(a))\n",
        "    abc=h\n",
        "  a=np.dot(abc,theta[\"W\"+str(layers)])+theta[\"b\"+str(layers)]\n",
        "  y_hat=(softmax(a))\n",
        "  return y_hat,H,A\n",
        "    \n"
      ]
    },
    {
      "cell_type": "markdown",
      "source": [
        "###function for backpropagation"
      ],
      "metadata": {
        "id": "sGQHVI8K3r-D"
      }
    },
    {
      "cell_type": "code",
      "execution_count": 20,
      "metadata": {
        "id": "VektM6-WcTTR"
      },
      "outputs": [],
      "source": [
        "def back_prop(y_hat,y,H,A,layers,theta,batch_size,activation,l2):\n",
        "  # y_hat -- predicted output\n",
        "  # y ---actual output\n",
        "  # H--- output of evry hidden layers\n",
        "  # A--- pre_activation\n",
        "  # layers- no. of hidden layers\n",
        "  # theta-- dictionary of weight and bises\n",
        "  # l2 -- L2 reguralization parameter \n",
        "\n",
        "  grads={}  ## this is dictionary for storing gradients\n",
        "  \n",
        "  delta_A=y_hat-y\n",
        "  for l in range(layers,0,-1):\n",
        "    #print(H[l-1])\n",
        "    grads[\"dW\" + str(l)] = (np.matmul(np.array(H[l-1]).T,delta_A/batch_size))\n",
        "    grads[\"dW\"+str(l)]+=l2*theta[\"W\"+str(l)]\n",
        "    grads[\"db\" + str(l)] = (np.sum(delta_A,axis=1,keepdims=True)/batch_size)##<---------\n",
        "    if l>1:\n",
        "\n",
        "      delta_A =(np.matmul(delta_A,theta[\"W\"+str(l)].T))*activation_prime(A[l-2],activation) ## A is starting from 0 index thats why l-2\n",
        "  return grads\n",
        "\n",
        "       \n",
        "\n",
        "\n",
        "\n"
      ]
    },
    {
      "cell_type": "markdown",
      "source": [
        "### update function is use in different optimizers "
      ],
      "metadata": {
        "id": "EgYBSBRD3zoR"
      }
    },
    {
      "cell_type": "code",
      "execution_count": 22,
      "metadata": {
        "id": "4NYGOQRB-H6Z"
      },
      "outputs": [],
      "source": [
        "def updatess(nodes):\n",
        "  layers=len(nodes)\n",
        "  update={}\n",
        "\n",
        "  for i in range(1,layers):\n",
        "    update[\"W\"+str(i)]=np.zeros((nodes[i-1],nodes[i]))\n",
        "    update[\"b\"+str(i)]=np.zeros((1,nodes[i]))\n",
        "  return update"
      ]
    },
    {
      "cell_type": "markdown",
      "source": [
        "### function for re-initializing the weights to 0"
      ],
      "metadata": {
        "id": "dHn6ZHME6enb"
      }
    },
    {
      "cell_type": "code",
      "source": [
        "def zero(xyz,layers):\n",
        "  for l in range(1,layers+1):\n",
        "    xyz[\"dW\"+str(l)]=0\n",
        "    xyz[\"db\"+str(l)]=0\n",
        "  return xyz\n"
      ],
      "metadata": {
        "id": "Pf18b8MMWAmU"
      },
      "execution_count": 24,
      "outputs": []
    },
    {
      "cell_type": "markdown",
      "source": [
        "### gradient decent function with all optimizers"
      ],
      "metadata": {
        "id": "J5Fn1TJO6onc"
      }
    },
    {
      "cell_type": "code",
      "execution_count": 30,
      "metadata": {
        "id": "QfM9r0I4e9GF"
      },
      "outputs": [],
      "source": [
        "def gradient_decent(typee,batch_size,epoch,lr,theta,activation,l2,update):\n",
        "  layers=len(theta)//2\n",
        "  \n",
        "  loss=[]\n",
        "  if typee=='sgd':\n",
        "    for e in tqdm(range(epoch)):\n",
        "      xyz={}\n",
        "      \n",
        "      xyz=zero(xyz,layers)\n",
        "      for i in range(X.shape[0]):\n",
        "        y_hat,H,A=feed_forward(X[i],theta,activation)\n",
        "\n",
        "        del_theta=back_prop(y_hat,y_train_one_hot[i],H,A,layers,theta,batch_size,activation,l2)\n",
        "        #print(\"dw5\",del_theta[\"dW\"+str(5)])\n",
        "        for l in range(1,layers+1):\n",
        "        # if (\"dW\"+str(l)) in xyz:\n",
        "        #   xyz[\"dW\"+str(l)]=xyz[\"dW\"+str(l)]+del_theta[\"dW\"+str(l)]\n",
        "        # else:\n",
        "          xyz[\"dW\"+str(l)]+=del_theta[\"dW\"+str(l)]\n",
        "        # if (\"db\"+str(l)) in xyz:\n",
        "        #   xyz[\"db\"+str(l)]=xyz[\"db\"+str(l)]+del_theta[\"db\"+str(l)]\n",
        "        # else:\n",
        "          xyz[\"db\"+str(l)]+=del_theta[\"db\"+str(l)]\n",
        "        \n",
        "        if (i+1)%batch_size==0:\n",
        "\n",
        "          #print(\"dw4\",del_theta[\"dW\"+str(4)])\n",
        "          for l in range(1,layers+1):\n",
        "             theta[\"W\"+str(l)]=theta[\"W\"+str(l)]-lr*xyz[\"dW\"+str(l)]\n",
        "             theta[\"b\"+str(l)]=theta[\"b\"+str(l)]-lr*xyz[\"db\"+str(l)]\n",
        "          xyz=zero(xyz,layers) \n",
        "      if e%1==0:      \n",
        "        y_hat,H,A=feed_forward(X,theta,activation)\n",
        "        loss.append((-1.0 * np.sum(np.multiply(y_train_one_hot,np.log(y_hat+0.000000001))))/X.shape[0])\n",
        "        print(\"epoch:\",e+1,loss[-1])\n",
        "        \n",
        "          \n",
        "\n",
        "  elif typee=='mgd':\n",
        "\n",
        "    m=0.5   ##this is beta for momentum\n",
        "    last_loss=0\n",
        "    prv_updates=update\n",
        "    for e in range(epoch):\n",
        "      xyz={}\n",
        "      xyz=zero(xyz,layers)\n",
        "      for i in range(X.shape[0]):\n",
        "        y_hat,H,A=feed_forward(X[i,:],theta,activation)\n",
        "        #print(y_hat)\n",
        "        del_theta=back_prop(y_hat,y_train_one_hot[i,:],H,A,layers,theta,batch_size,activation,l2)\n",
        "        for l in range(1,layers+1):\n",
        "        # if (\"dW\"+str(l)) in xyz:\n",
        "        #   xyz[\"dW\"+str(l)]=xyz[\"dW\"+str(l)]+del_theta[\"dW\"+str(l)]\n",
        "        # else:\n",
        "          xyz[\"dW\"+str(l)]+=del_theta[\"dW\"+str(l)]\n",
        "        # if (\"db\"+str(l)) in xyz:\n",
        "        #   xyz[\"db\"+str(l)]=xyz[\"db\"+str(l)]+del_theta[\"db\"+str(l)]\n",
        "        # else:\n",
        "          xyz[\"db\"+str(l)]+=del_theta[\"db\"+str(l)]\n",
        "        \n",
        "        if (i+1)%batch_size==0:\n",
        "          for l in range(1,layers+1):\n",
        "            theta[\"W\"+str(l)]=theta[\"W\"+str(l)]-(m*prv_updates[\"W\"+str(l)]+lr*xyz[\"dW\"+str(l)])\n",
        "            theta[\"b\"+str(l)]=theta[\"b\"+str(l)]-(m*prv_updates[\"b\"+str(l)]+lr*xyz[\"db\"+str(l)])\n",
        "            prv_updates[\"W\"+str(l)]=(m*prv_updates[\"W\"+str(l)]+lr*xyz[\"dW\"+str(l)])\n",
        "            prv_updates[\"b\"+str(l)]=(m*prv_updates[\"b\"+str(l)]+lr*xyz[\"db\"+str(l)])\n",
        "          xyz=zero(xyz,layers)\n",
        "      y_hat,H,A=feed_forward(X,theta,activation)\n",
        "      loss.append((-1.0 * np.sum(np.multiply(y_train_one_hot,np.log(y_hat+0.000000001))))/X.shape[0])\n",
        "      print(\"epoch:\",e+1,loss[-1])\n",
        "      \n",
        "\n",
        "  elif typee=='nag': \n",
        "    m=0.5\n",
        "    theta_look_ahead={}\n",
        "    prv_updates=update\n",
        "    for e in range(epoch):\n",
        "      xyz={}\n",
        "      xyz=zero(xyz,layers)\n",
        "      for i in range(X.shape[0]):\n",
        "        y_hat,H,A=feed_forward(X[i,:],theta,activation)\n",
        "        for l in range(1,layers+1):\n",
        "          theta_look_ahead[\"W\"+str(l)]=theta[\"W\"+str(l)]-m*prv_updates[\"W\"+str(l)]\n",
        "          theta_look_ahead[\"b\"+str(l)]=theta[\"b\"+str(l)]-m*prv_updates[\"b\"+str(l)]\n",
        "\n",
        "\n",
        "        del_theta=back_prop(y_hat,y_train_one_hot[i,:],H,A,layers,theta_look_ahead,batch_size,activation,l2)\n",
        "        for l in range(1,layers+1):\n",
        "\n",
        "          xyz[\"dW\"+str(l)]+=del_theta[\"dW\"+str(l)]\n",
        "\n",
        "          xyz[\"db\"+str(l)]+=del_theta[\"db\"+str(l)]\n",
        "\n",
        "        if (i+1)%batch_size==0:\n",
        "          for l in range(1,layers+1):\n",
        "            theta[\"W\"+str(l)]=theta[\"W\"+str(l)]-(m*prv_updates[\"W\"+str(l)]+lr*xyz[\"dW\"+str(l)])\n",
        "            theta[\"b\"+str(l)]=theta[\"b\"+str(l)]-(m*prv_updates[\"b\"+str(l)]+lr*xyz[\"db\"+str(l)])\n",
        "            prv_updates[\"W\"+str(l)]=(m*prv_updates[\"W\"+str(l)]+lr*xyz[\"dW\"+str(l)])\n",
        "            prv_updates[\"b\"+str(l)]=(m*prv_updates[\"b\"+str(l)]+lr*xyz[\"db\"+str(l)])\n",
        "          xyz=zero(xyz,layers)\n",
        "      y_hat,H,A=feed_forward(X,theta,activation)\n",
        "      loss.append((-1.0 * np.sum(np.multiply(y_train_one_hot,np.log(y_hat+0.000000001))))/X.shape[0])\n",
        "      print(\"epoch:\",e+1,loss[-1])\n",
        "\n",
        "  elif typee=='rmsprop':\n",
        "    accumulate_grad=update\n",
        "    beta=0.5 #\n",
        "    eps=0.000001\n",
        "    \n",
        "    for e in range(epoch):\n",
        "      \n",
        "      xyz={}\n",
        "      xyz=zero(xyz,layers)\n",
        "  \n",
        "      for i in range(X.shape[0]):\n",
        "        y_hat,H,A=feed_forward(X[i,:],theta,activation)\n",
        "        del_theta=back_prop(y_hat,y_train_one_hot[i,:],H,A,layers,theta,batch_size,activation,l2)\n",
        "        for l in range(1,layers+1):\n",
        "          xyz[\"dW\"+str(l)]+=del_theta[\"dW\"+str(l)]\n",
        "      \n",
        "          xyz[\"db\"+str(l)]+=del_theta[\"db\"+str(l)]\n",
        "        if (i+1)%batch_size==0:\n",
        "          for l in range(1,layers+1):\n",
        "            accumulate_grad[\"W\"+str(l)]=beta*accumulate_grad[\"W\"+str(l)]-(1-beta)*(xyz[\"dW\"+str(l)])**2\n",
        "            accumulate_grad[\"b\"+str(l)]=beta*accumulate_grad[\"b\"+str(l)]-(1-beta)*(xyz[\"db\"+str(l)])**2\n",
        "            theta[\"W\"+str(l)]=theta[\"W\"+str(l)]-(lr/np.sqrt(abs(accumulate_grad[\"W\"+str(l)])+eps))*xyz[\"dW\"+str(l)]\n",
        "            theta[\"b\"+str(l)]=theta[\"b\"+str(l)]-(lr/np.sqrt(abs(accumulate_grad[\"b\"+str(l)])+eps))*xyz[\"db\"+str(l)]\n",
        "          xyz=zero(xyz,layers)\n",
        "      y_hat,H,A=feed_forward(X,theta,activation)\n",
        "      loss.append((-1.0 * np.sum(np.multiply(y_train_one_hot,np.log(y_hat+0.000000001))))/X.shape[0])\n",
        "      print(\"epoch:\",e+1,loss[-1])\n",
        "\n",
        "\n",
        "  elif typee=='adam':\n",
        "    updates=update\n",
        "    momentum=updates.copy()\n",
        "    momentum_hat=updates.copy()\n",
        "    accumulate_grad=updates.copy()\n",
        "    accumulate_grad_hat=updates.copy()\n",
        "    beta1=0.8\n",
        "    beta2=0.8\n",
        "    eps=0.000001\n",
        "    \n",
        "    for e in range(epoch):\n",
        "      xyz={}\n",
        "      xyz=zero(xyz,layers)\n",
        "      for i in range(X.shape[0]):##------------\n",
        "        y_hat,H,A=feed_forward(X[i,:],theta,activation)\n",
        "        del_theta=back_prop(y_hat,y_train_one_hot[i,:],H,A,layers,theta,batch_size,activation,l2)\n",
        "        for l in range(1,layers+1):\n",
        "\n",
        "        # if (\"dW\"+str(l)) in xyz:\n",
        "        #   xyz[\"dW\"+str(l)]=xyz[\"dW\"+str(l)]+del_theta[\"dW\"+str(l)]\n",
        "        # else:\n",
        "          xyz[\"dW\"+str(l)]+=del_theta[\"dW\"+str(l)]\n",
        "        # if (\"db\"+str(l)) in xyz:\n",
        "          xyz[\"db\"+str(l)]=xyz[\"db\"+str(l)]+del_theta[\"db\"+str(l)]\n",
        "        # else:\n",
        "        #   xyz[\"db\"+str(l)]=del_theta[\"db\"+str\n",
        "        if (i+1)%batch_size==0:\n",
        "          for l in range(1,layers+1):\n",
        "            momentum[\"W\"+str(l)]=beta1*momentum[\"W\"+str(l)]+(1-beta1)*xyz[\"dW\"+str(l)]  ##mt_w\n",
        "            momentum[\"b\"+str(l)]=beta1*momentum[\"b\"+str(l)]+(1-beta1)*xyz[\"db\"+str(l)]  ##mt_b\n",
        "            accumulate_grad[\"W\"+str(l)]=beta2*accumulate_grad[\"W\"+str(l)]-(1-beta2)*(xyz[\"dW\"+str(l)])**2 ##v_t\n",
        "            accumulate_grad[\"b\"+str(l)]=beta2*accumulate_grad[\"b\"+str(l)]-(1-beta2)*(xyz[\"db\"+str(l)])**2 #v_t\n",
        "            momentum_hat[\"W\"+str(l)]=momentum[\"W\"+str(l)]/(1-np.power(beta1,e+1))  #mt_hat_w\n",
        "            momentum_hat[\"b\"+str(l)]=momentum[\"b\"+str(l)]/(1-np.power(beta1,e+1))  #mt_hat_b\n",
        "            accumulate_grad_hat[\"W\"+str(l)]=accumulate_grad[\"W\"+str(l)]/(1-np.power(beta2,e+1)) ##vt_hat_w\n",
        "            accumulate_grad_hat[\"b\"+str(l)]=accumulate_grad[\"b\"+str(l)]/(1-np.power(beta2,e+1)) ##vt_hat_b\n",
        "            theta[\"W\"+str(l)]=theta[\"W\"+str(l)]-(lr/np.sqrt(np.abs(accumulate_grad_hat[\"W\"+str(l)]+eps)))*momentum_hat[\"W\"+str(l)]\n",
        "            theta[\"b\"+str(l)]=theta[\"b\"+str(l)]-(lr/np.sqrt(np.abs(accumulate_grad_hat[\"b\"+str(l)]+eps)))*momentum_hat[\"b\"+str(l)]\n",
        "          xyz=zero(xyz,layers)\n",
        "      y_hat,H,A=feed_forward(X,theta,activation)\n",
        "      loss.append((-1.0 * np.sum(np.multiply(y_train_one_hot,np.log(y_hat+0.000000001))))/X.shape[0])\n",
        "      print(\"epoch:\",e+1,loss[-1])\n",
        "\n",
        "\n",
        "    \n",
        "  elif type=='nadam':\n",
        "    updates=update\n",
        "    momentum=updates.copy()\n",
        "    momentum_hat=updates.copy()\n",
        "    accumulate_grad=updates.copy()\n",
        "    accumulate_grad_hat=updates.copy()\n",
        "    beta1=0.8\n",
        "    beta2=0.8\n",
        "    eps=0.000001\n",
        "    \n",
        "    for e in range(epoch):\n",
        "      xyz={}\n",
        "      xyz=zero(xyz,layers)\n",
        "      for i in range(X.shape[0]):##------------\n",
        "        y_hat,H,A=feed_forward(X[i,:],theta,activation)\n",
        "        del_theta=back_prop(y_hat,y_train_one_hot[i,:],H,A,layers,theta,batch_size,activation,l2)\n",
        "        for l in range(1,layers+1):\n",
        "\n",
        "        # if (\"dW\"+str(l)) in xyz:\n",
        "        #   xyz[\"dW\"+str(l)]=xyz[\"dW\"+str(l)]+del_theta[\"dW\"+str(l)]\n",
        "        # else:\n",
        "          xyz[\"dW\"+str(l)]+=del_theta[\"dW\"+str(l)]\n",
        "        # if (\"db\"+str(l)) in xyz:\n",
        "          xyz[\"db\"+str(l)]=xyz[\"db\"+str(l)]+del_theta[\"db\"+str(l)]\n",
        "          # else:\n",
        "        #   xyz[\"db\"+str(l)]=del_theta[\"db\"+str(l)]\n",
        "        if (i+1)%batch_size==0:\n",
        "          for l in range(1,layers+1):\n",
        "            momentum[\"W\"+str(l)]=beta1*momentum[\"W\"+str(l)]+(1-beta1)*xyz[\"dW\"+str(l)]  ##mt_w-- is like avg. accumulation of gradient\n",
        "            momentum[\"b\"+str(l)]=beta1*momentum[\"b\"+str(l)]+(1-beta1)*xyz[\"db\"+str(l)]  ##mt_b-- is like avg accumulation of square of gradient\n",
        "            accumulate_grad[\"W\"+str(l)]=beta2*accumulate_grad[\"W\"+str(l)]-(1-beta2)*(xyz[\"dW\"+str(l)])**2 ##v_t\n",
        "            accumulate_grad[\"b\"+str(l)]=beta2*accumulate_grad[\"b\"+str(l)]-(1-beta2)*(xyz[\"db\"+str(l)])**2 #v_t\n",
        "            momentum_hat[\"W\"+str(l)]=momentum[\"W\"+str(l)]/(1-np.power(beta1,e+1))  #mt_hat_w\n",
        "            momentum_hat[\"b\"+str(l)]=momentum[\"b\"+str(l)]/(1-np.power(beta1,e+1))  #mt_hat_b\n",
        "            accumulate_grad_hat[\"W\"+str(l)]=accumulate_grad[\"W\"+str(l)]/(1-np.power(beta2,e+1)) ##vt_hat_w\n",
        "            accumulate_grad_hat[\"b\"+str(l)]=accumulate_grad[\"b\"+str(l)]/(1-np.power(beta2,e+1)) ##vt_hat_b\n",
        "            theta[\"W\"+str(l)]=theta[\"W\"+str(l)]-(lr/np.sqrt(np.abs(accumulate_grad_hat[\"W\"+str(l)]+eps)))*(beta1*momentum_hat[\"W\"+str(l)]+((1-beta1)*xyz[\"dW\"+str(l)]/(1-np.power(beta1,e+1))))\n",
        "            theta[\"b\"+str(l)]=theta[\"b\"+str(l)]-(lr/np.sqrt(np.abs(accumulate_grad_hat[\"b\"+str(l)]+eps)))*(beta1*momentum_hat[\"b\"+str(l)]+((1-beta1)*xyz[\"db\"+str(l)]/(1-np.power(beta1,e+1))))\n",
        "          xyz=zero(xyz,layers)\n",
        "\n",
        "    #### you can add new optimizer here\n",
        "  return theta,loss\n",
        "\n",
        "\n",
        "  "
      ]
    },
    {
      "cell_type": "code",
      "execution_count": 31,
      "metadata": {
        "colab": {
          "base_uri": "https://localhost:8080/",
          "height": 363
        },
        "id": "35a5ldnfO3pg",
        "outputId": "3b2ba7d4-9c1c-4767-ae7e-3af80edc18dc"
      },
      "outputs": [
        {
          "output_type": "stream",
          "name": "stdout",
          "text": [
            "epoch: 1 9.944929954421923\n",
            "epoch: 2 11.746998514743536\n",
            "epoch: 3 12.483832006661007\n",
            "epoch: 4 12.851575596275742\n",
            "epoch: 5 13.766352194374246\n"
          ]
        },
        {
          "output_type": "display_data",
          "data": {
            "text/plain": [
              "<Figure size 2160x360 with 1 Axes>"
            ],
            "image/png": "[encoded data removed]"
          },
          "metadata": {
            "needs_background": "light"
          }
        }
      ],
      "source": [
        "nodes=network_size(4,10)\n",
        "theta=init_param(nodes,'xavier')\n",
        "#print(len(theta))\n",
        "update=updatess(nodes)\n",
        "theta,loss=gradient_decent('adam',5,5,0.001,theta,'ReLU',0.0005,update)\n",
        "#print(theta)\n",
        "fig,axs=plt.subplots(figsize=(30,5))\n",
        "plt.plot(loss)\n",
        "plt.xlabel('epoch',size=10)\n",
        "plt.ylabel('loss')\n",
        "plt.show()\n",
        "\n"
      ]
    },
    {
      "cell_type": "markdown",
      "source": [
        "### Loss and accuracy function"
      ],
      "metadata": {
        "id": "iUflzpbE7KJu"
      }
    },
    {
      "cell_type": "code",
      "source": [
        "##cross-entrophy loss function \n",
        "def loss_fun(y,y_predl,theta,l2):\n",
        "  layers=len(theta)//2\n",
        "  l2_regurlization=0\n",
        "  loss=(-1.0 * np.sum(np.multiply(y_train_one_hot,np.log(y_predl+0.000000001))))/(X.shape[0])\n",
        "  for l in range(1,layers+1):\n",
        "    l2_regurlization+=(l2/(2*y.shape[0])*np.sum(np.square(theta[\"W\"+str(l)])))\n",
        "  loss=loss+l2_regurlization\n",
        "  return loss"
      ],
      "metadata": {
        "id": "2XjpMlfQSBw9"
      },
      "execution_count": 32,
      "outputs": []
    },
    {
      "cell_type": "code",
      "source": [
        "## Accuracy function\n",
        "def accuracy(y, y_pred):\n",
        "  correct=0\n",
        "  for i in range(y.shape[0]):\n",
        "    if np.argwhere(y[i])==np.argmax(y_pred[i]):\n",
        "      correct+=1\n",
        "  accuracy=(correct/y.shape[0])*100\n",
        "  return accuracy\n",
        "  \n",
        "\n",
        "\n",
        "\n"
      ],
      "metadata": {
        "id": "8toALUtjJoQw"
      },
      "execution_count": 33,
      "outputs": []
    },
    {
      "cell_type": "code",
      "source": [],
      "metadata": {
        "id": "nBkjn3yK0FHY"
      },
      "execution_count": null,
      "outputs": []
    },
    {
      "cell_type": "markdown",
      "source": [
        "### wandb sweeping"
      ],
      "metadata": {
        "id": "n6kUSVQG7PDS"
      }
    },
    {
      "cell_type": "code",
      "execution_count": 35,
      "metadata": {
        "id": "JHrX5oM_teyF",
        "colab": {
          "base_uri": "https://localhost:8080/",
          "height": 1000,
          "referenced_widgets": [
            "073cffe67b1c4adc845f978c53e7c042",
            "9a28040537c74009bbc2a8d0c296607a",
            "247400e3297d433e8bfcb807542b5876",
            "9a32ac3a6f90463e94d90cdf9a6bfe25",
            "7fc5cf6246ae48b6bff73b6610d2d611",
            "11a60398184147f6acc7a656e3e5f3b0",
            "e921cecb62e5443bb20e0717595073f0",
            "a25e8eacc0f24de6b5ec0ef720ce1171",
            "a49ac618577445adb0b44127677dc37c",
            "d97a75b494634eeaac8144b82569779e",
            "e7048e85c78e4f07aca621d47258e24c",
            "03c82b5a32164f25b01dd0e2efdabc03",
            "b17d6fbec9a34f9eb3d94de7973b7129",
            "e8708b394909445b800370fef863a937",
            "34b852b8f8f24b1c8bfa1754167e674c",
            "50cf2c55b965469f834bd7518ac5c656",
            "517e56bdadb347869252f16cb7e1fe00",
            "60f9a786e6aa45cf896a3d0ed3ec9763",
            "fd2678fc21a242b59d44d73bfe75ca13",
            "1e60ecb550114284beabff679eebe235",
            "dad93295318c458096ac04b70474678e",
            "3a6fa228532a4564a06ed8d0532cd6df",
            "bff623bb54544f0ba362add52c857312",
            "26b7fc0d9dc74f9799c6eae0579b0f5e",
            "baa2a120a8a14cbc993d98fb1f78fb23",
            "2a866dd0db2a4ec59afc40675a1e1343",
            "c104e44c2df843d99184262db98b4aaf",
            "2e67dd32d4b54aaaa5a223cc1b03454a",
            "e2aebcd8345c4f52813ca688ba535be6",
            "e077c2b3e84b4b08b177c92eed41d6d3",
            "d1bf5109b6e9461387922693b4fde92c",
            "256e01b8ef064f2fa0ae63442d619971",
            "6d2487aecd7e4db380a17b65513f3acc",
            "3208f9b55fbc493bb0d52307b5f6eee8",
            "132af68052454a619f661d3fc699e949",
            "510dab993df24d2aa69f3014eab58b73",
            "ec03d194aefd40329ee5a8d710d59220",
            "ebac4a8751ad45d2826e8c386b6a2211",
            "8d917e7736fa4674b255fa9caa8fc219",
            "5d0840b275d9415981f7ae5974a69ce4"
          ]
        },
        "outputId": "01299a5e-6992-43c5-a53e-51f26ae41490"
      },
      "outputs": [
        {
          "metadata": {
            "tags": null
          },
          "name": "stdout",
          "output_type": "stream",
          "text": [
            "Error in callback <function _WandbInit._resume_backend at 0x7fc72313d310> (for pre_run_cell):\n"
          ]
        },
        {
          "ename": "BrokenPipeError",
          "evalue": "ignored",
          "output_type": "error",
          "traceback": [
            "\u001b[0;31m---------------------------------------------------------------------------\u001b[0m",
            "\u001b[0;31mBrokenPipeError\u001b[0m                           Traceback (most recent call last)",
            "\u001b[0;32m/usr/local/lib/python3.9/dist-packages/backcall/backcall.py\u001b[0m in \u001b[0;36madapted\u001b[0;34m(*args, **kwargs)\u001b[0m\n\u001b[1;32m    102\u001b[0m                 \u001b[0mkwargs\u001b[0m\u001b[0;34m.\u001b[0m\u001b[0mpop\u001b[0m\u001b[0;34m(\u001b[0m\u001b[0mname\u001b[0m\u001b[0;34m)\u001b[0m\u001b[0;34m\u001b[0m\u001b[0;34m\u001b[0m\u001b[0m\n\u001b[1;32m    103\u001b[0m \u001b[0;31m#            print(args, kwargs, unmatched_pos, cut_positional, unmatched_kw)\u001b[0m\u001b[0;34m\u001b[0m\u001b[0;34m\u001b[0m\u001b[0m\n\u001b[0;32m--> 104\u001b[0;31m             \u001b[0;32mreturn\u001b[0m \u001b[0mcallback\u001b[0m\u001b[0;34m(\u001b[0m\u001b[0;34m*\u001b[0m\u001b[0margs\u001b[0m\u001b[0;34m,\u001b[0m \u001b[0;34m**\u001b[0m\u001b[0mkwargs\u001b[0m\u001b[0;34m)\u001b[0m\u001b[0;34m\u001b[0m\u001b[0;34m\u001b[0m\u001b[0m\n\u001b[0m\u001b[1;32m    105\u001b[0m \u001b[0;34m\u001b[0m\u001b[0m\n\u001b[1;32m    106\u001b[0m         \u001b[0;32mreturn\u001b[0m \u001b[0madapted\u001b[0m\u001b[0;34m\u001b[0m\u001b[0;34m\u001b[0m\u001b[0m\n",
            "\u001b[0;32m/usr/local/lib/python3.9/dist-packages/wandb/sdk/wandb_init.py\u001b[0m in \u001b[0;36m_resume_backend\u001b[0;34m(self)\u001b[0m\n\u001b[1;32m    421\u001b[0m         \u001b[0;32mif\u001b[0m \u001b[0mself\u001b[0m\u001b[0;34m.\u001b[0m\u001b[0mbackend\u001b[0m \u001b[0;32mis\u001b[0m \u001b[0;32mnot\u001b[0m \u001b[0;32mNone\u001b[0m \u001b[0;32mand\u001b[0m \u001b[0mself\u001b[0m\u001b[0;34m.\u001b[0m\u001b[0mbackend\u001b[0m\u001b[0;34m.\u001b[0m\u001b[0minterface\u001b[0m \u001b[0;32mis\u001b[0m \u001b[0;32mnot\u001b[0m \u001b[0;32mNone\u001b[0m\u001b[0;34m:\u001b[0m\u001b[0;34m\u001b[0m\u001b[0;34m\u001b[0m\u001b[0m\n\u001b[1;32m    422\u001b[0m             \u001b[0mlogger\u001b[0m\u001b[0;34m.\u001b[0m\u001b[0minfo\u001b[0m\u001b[0;34m(\u001b[0m\u001b[0;34m\"resuming backend\"\u001b[0m\u001b[0;34m)\u001b[0m  \u001b[0;31m# type: ignore\u001b[0m\u001b[0;34m\u001b[0m\u001b[0;34m\u001b[0m\u001b[0m\n\u001b[0;32m--> 423\u001b[0;31m             \u001b[0mself\u001b[0m\u001b[0;34m.\u001b[0m\u001b[0mbackend\u001b[0m\u001b[0;34m.\u001b[0m\u001b[0minterface\u001b[0m\u001b[0;34m.\u001b[0m\u001b[0mpublish_resume\u001b[0m\u001b[0;34m(\u001b[0m\u001b[0;34m)\u001b[0m\u001b[0;34m\u001b[0m\u001b[0;34m\u001b[0m\u001b[0m\n\u001b[0m\u001b[1;32m    424\u001b[0m \u001b[0;34m\u001b[0m\u001b[0m\n\u001b[1;32m    425\u001b[0m     \u001b[0;32mdef\u001b[0m \u001b[0m_jupyter_teardown\u001b[0m\u001b[0;34m(\u001b[0m\u001b[0mself\u001b[0m\u001b[0;34m)\u001b[0m \u001b[0;34m->\u001b[0m \u001b[0;32mNone\u001b[0m\u001b[0;34m:\u001b[0m\u001b[0;34m\u001b[0m\u001b[0;34m\u001b[0m\u001b[0m\n",
            "\u001b[0;32m/usr/local/lib/python3.9/dist-packages/wandb/sdk/interface/interface.py\u001b[0m in \u001b[0;36mpublish_resume\u001b[0;34m(self)\u001b[0m\n\u001b[1;32m    671\u001b[0m     \u001b[0;32mdef\u001b[0m \u001b[0mpublish_resume\u001b[0m\u001b[0;34m(\u001b[0m\u001b[0mself\u001b[0m\u001b[0;34m)\u001b[0m \u001b[0;34m->\u001b[0m \u001b[0;32mNone\u001b[0m\u001b[0;34m:\u001b[0m\u001b[0;34m\u001b[0m\u001b[0;34m\u001b[0m\u001b[0m\n\u001b[1;32m    672\u001b[0m         \u001b[0mresume\u001b[0m \u001b[0;34m=\u001b[0m \u001b[0mpb\u001b[0m\u001b[0;34m.\u001b[0m\u001b[0mResumeRequest\u001b[0m\u001b[0;34m(\u001b[0m\u001b[0;34m)\u001b[0m\u001b[0;34m\u001b[0m\u001b[0;34m\u001b[0m\u001b[0m\n\u001b[0;32m--> 673\u001b[0;31m         \u001b[0mself\u001b[0m\u001b[0;34m.\u001b[0m\u001b[0m_publish_resume\u001b[0m\u001b[0;34m(\u001b[0m\u001b[0mresume\u001b[0m\u001b[0;34m)\u001b[0m\u001b[0;34m\u001b[0m\u001b[0;34m\u001b[0m\u001b[0m\n\u001b[0m\u001b[1;32m    674\u001b[0m \u001b[0;34m\u001b[0m\u001b[0m\n\u001b[1;32m    675\u001b[0m     \u001b[0;34m@\u001b[0m\u001b[0mabstractmethod\u001b[0m\u001b[0;34m\u001b[0m\u001b[0;34m\u001b[0m\u001b[0m\n",
            "\u001b[0;32m/usr/local/lib/python3.9/dist-packages/wandb/sdk/interface/interface_shared.py\u001b[0m in \u001b[0;36m_publish_resume\u001b[0;34m(self, resume)\u001b[0m\n\u001b[1;32m    342\u001b[0m     \u001b[0;32mdef\u001b[0m \u001b[0m_publish_resume\u001b[0m\u001b[0;34m(\u001b[0m\u001b[0mself\u001b[0m\u001b[0;34m,\u001b[0m \u001b[0mresume\u001b[0m\u001b[0;34m:\u001b[0m \u001b[0mpb\u001b[0m\u001b[0;34m.\u001b[0m\u001b[0mResumeRequest\u001b[0m\u001b[0;34m)\u001b[0m \u001b[0;34m->\u001b[0m \u001b[0;32mNone\u001b[0m\u001b[0;34m:\u001b[0m\u001b[0;34m\u001b[0m\u001b[0;34m\u001b[0m\u001b[0m\n\u001b[1;32m    343\u001b[0m         \u001b[0mrec\u001b[0m \u001b[0;34m=\u001b[0m \u001b[0mself\u001b[0m\u001b[0;34m.\u001b[0m\u001b[0m_make_request\u001b[0m\u001b[0;34m(\u001b[0m\u001b[0mresume\u001b[0m\u001b[0;34m=\u001b[0m\u001b[0mresume\u001b[0m\u001b[0;34m)\u001b[0m\u001b[0;34m\u001b[0m\u001b[0;34m\u001b[0m\u001b[0m\n\u001b[0;32m--> 344\u001b[0;31m         \u001b[0mself\u001b[0m\u001b[0;34m.\u001b[0m\u001b[0m_publish\u001b[0m\u001b[0;34m(\u001b[0m\u001b[0mrec\u001b[0m\u001b[0;34m)\u001b[0m\u001b[0;34m\u001b[0m\u001b[0;34m\u001b[0m\u001b[0m\n\u001b[0m\u001b[1;32m    345\u001b[0m \u001b[0;34m\u001b[0m\u001b[0m\n\u001b[1;32m    346\u001b[0m     \u001b[0;32mdef\u001b[0m \u001b[0m_publish_run\u001b[0m\u001b[0;34m(\u001b[0m\u001b[0mself\u001b[0m\u001b[0;34m,\u001b[0m \u001b[0mrun\u001b[0m\u001b[0;34m:\u001b[0m \u001b[0mpb\u001b[0m\u001b[0;34m.\u001b[0m\u001b[0mRunRecord\u001b[0m\u001b[0;34m)\u001b[0m \u001b[0;34m->\u001b[0m \u001b[0;32mNone\u001b[0m\u001b[0;34m:\u001b[0m\u001b[0;34m\u001b[0m\u001b[0;34m\u001b[0m\u001b[0m\n",
            "\u001b[0;32m/usr/local/lib/python3.9/dist-packages/wandb/sdk/interface/interface_sock.py\u001b[0m in \u001b[0;36m_publish\u001b[0;34m(self, record, local)\u001b[0m\n\u001b[1;32m     49\u001b[0m     \u001b[0;32mdef\u001b[0m \u001b[0m_publish\u001b[0m\u001b[0;34m(\u001b[0m\u001b[0mself\u001b[0m\u001b[0;34m,\u001b[0m \u001b[0mrecord\u001b[0m\u001b[0;34m:\u001b[0m \u001b[0;34m\"pb.Record\"\u001b[0m\u001b[0;34m,\u001b[0m \u001b[0mlocal\u001b[0m\u001b[0;34m:\u001b[0m \u001b[0mOptional\u001b[0m\u001b[0;34m[\u001b[0m\u001b[0mbool\u001b[0m\u001b[0;34m]\u001b[0m \u001b[0;34m=\u001b[0m \u001b[0;32mNone\u001b[0m\u001b[0;34m)\u001b[0m \u001b[0;34m->\u001b[0m \u001b[0;32mNone\u001b[0m\u001b[0;34m:\u001b[0m\u001b[0;34m\u001b[0m\u001b[0;34m\u001b[0m\u001b[0m\n\u001b[1;32m     50\u001b[0m         \u001b[0mself\u001b[0m\u001b[0;34m.\u001b[0m\u001b[0m_assign\u001b[0m\u001b[0;34m(\u001b[0m\u001b[0mrecord\u001b[0m\u001b[0;34m)\u001b[0m\u001b[0;34m\u001b[0m\u001b[0;34m\u001b[0m\u001b[0m\n\u001b[0;32m---> 51\u001b[0;31m         \u001b[0mself\u001b[0m\u001b[0;34m.\u001b[0m\u001b[0m_sock_client\u001b[0m\u001b[0;34m.\u001b[0m\u001b[0msend_record_publish\u001b[0m\u001b[0;34m(\u001b[0m\u001b[0mrecord\u001b[0m\u001b[0;34m)\u001b[0m\u001b[0;34m\u001b[0m\u001b[0;34m\u001b[0m\u001b[0m\n\u001b[0m\u001b[1;32m     52\u001b[0m \u001b[0;34m\u001b[0m\u001b[0m\n\u001b[1;32m     53\u001b[0m     def _communicate_async(\n",
            "\u001b[0;32m/usr/local/lib/python3.9/dist-packages/wandb/sdk/lib/sock_client.py\u001b[0m in \u001b[0;36msend_record_publish\u001b[0;34m(self, record)\u001b[0m\n\u001b[1;32m    219\u001b[0m         \u001b[0mserver_req\u001b[0m \u001b[0;34m=\u001b[0m \u001b[0mspb\u001b[0m\u001b[0;34m.\u001b[0m\u001b[0mServerRequest\u001b[0m\u001b[0;34m(\u001b[0m\u001b[0;34m)\u001b[0m\u001b[0;34m\u001b[0m\u001b[0;34m\u001b[0m\u001b[0m\n\u001b[1;32m    220\u001b[0m         \u001b[0mserver_req\u001b[0m\u001b[0;34m.\u001b[0m\u001b[0mrecord_publish\u001b[0m\u001b[0;34m.\u001b[0m\u001b[0mCopyFrom\u001b[0m\u001b[0;34m(\u001b[0m\u001b[0mrecord\u001b[0m\u001b[0;34m)\u001b[0m\u001b[0;34m\u001b[0m\u001b[0;34m\u001b[0m\u001b[0m\n\u001b[0;32m--> 221\u001b[0;31m         \u001b[0mself\u001b[0m\u001b[0;34m.\u001b[0m\u001b[0msend_server_request\u001b[0m\u001b[0;34m(\u001b[0m\u001b[0mserver_req\u001b[0m\u001b[0;34m)\u001b[0m\u001b[0;34m\u001b[0m\u001b[0;34m\u001b[0m\u001b[0m\n\u001b[0m\u001b[1;32m    222\u001b[0m \u001b[0;34m\u001b[0m\u001b[0m\n\u001b[1;32m    223\u001b[0m     \u001b[0;32mdef\u001b[0m \u001b[0m_extract_packet_bytes\u001b[0m\u001b[0;34m(\u001b[0m\u001b[0mself\u001b[0m\u001b[0;34m)\u001b[0m \u001b[0;34m->\u001b[0m \u001b[0mOptional\u001b[0m\u001b[0;34m[\u001b[0m\u001b[0mbytes\u001b[0m\u001b[0;34m]\u001b[0m\u001b[0;34m:\u001b[0m\u001b[0;34m\u001b[0m\u001b[0;34m\u001b[0m\u001b[0m\n",
            "\u001b[0;32m/usr/local/lib/python3.9/dist-packages/wandb/sdk/lib/sock_client.py\u001b[0m in \u001b[0;36msend_server_request\u001b[0;34m(self, msg)\u001b[0m\n\u001b[1;32m    153\u001b[0m \u001b[0;34m\u001b[0m\u001b[0m\n\u001b[1;32m    154\u001b[0m     \u001b[0;32mdef\u001b[0m \u001b[0msend_server_request\u001b[0m\u001b[0;34m(\u001b[0m\u001b[0mself\u001b[0m\u001b[0;34m,\u001b[0m \u001b[0mmsg\u001b[0m\u001b[0;34m:\u001b[0m \u001b[0mAny\u001b[0m\u001b[0;34m)\u001b[0m \u001b[0;34m->\u001b[0m \u001b[0;32mNone\u001b[0m\u001b[0;34m:\u001b[0m\u001b[0;34m\u001b[0m\u001b[0;34m\u001b[0m\u001b[0m\n\u001b[0;32m--> 155\u001b[0;31m         \u001b[0mself\u001b[0m\u001b[0;34m.\u001b[0m\u001b[0m_send_message\u001b[0m\u001b[0;34m(\u001b[0m\u001b[0mmsg\u001b[0m\u001b[0;34m)\u001b[0m\u001b[0;34m\u001b[0m\u001b[0;34m\u001b[0m\u001b[0m\n\u001b[0m\u001b[1;32m    156\u001b[0m \u001b[0;34m\u001b[0m\u001b[0m\n\u001b[1;32m    157\u001b[0m     \u001b[0;32mdef\u001b[0m \u001b[0msend_server_response\u001b[0m\u001b[0;34m(\u001b[0m\u001b[0mself\u001b[0m\u001b[0;34m,\u001b[0m \u001b[0mmsg\u001b[0m\u001b[0;34m:\u001b[0m \u001b[0mAny\u001b[0m\u001b[0;34m)\u001b[0m \u001b[0;34m->\u001b[0m \u001b[0;32mNone\u001b[0m\u001b[0;34m:\u001b[0m\u001b[0;34m\u001b[0m\u001b[0;34m\u001b[0m\u001b[0m\n",
            "\u001b[0;32m/usr/local/lib/python3.9/dist-packages/wandb/sdk/lib/sock_client.py\u001b[0m in \u001b[0;36m_send_message\u001b[0;34m(self, msg)\u001b[0m\n\u001b[1;32m    150\u001b[0m         \u001b[0mheader\u001b[0m \u001b[0;34m=\u001b[0m \u001b[0mstruct\u001b[0m\u001b[0;34m.\u001b[0m\u001b[0mpack\u001b[0m\u001b[0;34m(\u001b[0m\u001b[0;34m\"<BI\"\u001b[0m\u001b[0;34m,\u001b[0m \u001b[0mord\u001b[0m\u001b[0;34m(\u001b[0m\u001b[0;34m\"W\"\u001b[0m\u001b[0;34m)\u001b[0m\u001b[0;34m,\u001b[0m \u001b[0mraw_size\u001b[0m\u001b[0;34m)\u001b[0m\u001b[0;34m\u001b[0m\u001b[0;34m\u001b[0m\u001b[0m\n\u001b[1;32m    151\u001b[0m         \u001b[0;32mwith\u001b[0m \u001b[0mself\u001b[0m\u001b[0;34m.\u001b[0m\u001b[0m_lock\u001b[0m\u001b[0;34m:\u001b[0m\u001b[0;34m\u001b[0m\u001b[0;34m\u001b[0m\u001b[0m\n\u001b[0;32m--> 152\u001b[0;31m             \u001b[0mself\u001b[0m\u001b[0;34m.\u001b[0m\u001b[0m_sendall_with_error_handle\u001b[0m\u001b[0;34m(\u001b[0m\u001b[0mheader\u001b[0m \u001b[0;34m+\u001b[0m \u001b[0mdata\u001b[0m\u001b[0;34m)\u001b[0m\u001b[0;34m\u001b[0m\u001b[0;34m\u001b[0m\u001b[0m\n\u001b[0m\u001b[1;32m    153\u001b[0m \u001b[0;34m\u001b[0m\u001b[0m\n\u001b[1;32m    154\u001b[0m     \u001b[0;32mdef\u001b[0m \u001b[0msend_server_request\u001b[0m\u001b[0;34m(\u001b[0m\u001b[0mself\u001b[0m\u001b[0;34m,\u001b[0m \u001b[0mmsg\u001b[0m\u001b[0;34m:\u001b[0m \u001b[0mAny\u001b[0m\u001b[0;34m)\u001b[0m \u001b[0;34m->\u001b[0m \u001b[0;32mNone\u001b[0m\u001b[0;34m:\u001b[0m\u001b[0;34m\u001b[0m\u001b[0;34m\u001b[0m\u001b[0m\n",
            "\u001b[0;32m/usr/local/lib/python3.9/dist-packages/wandb/sdk/lib/sock_client.py\u001b[0m in \u001b[0;36m_sendall_with_error_handle\u001b[0;34m(self, data)\u001b[0m\n\u001b[1;32m    128\u001b[0m             \u001b[0mstart_time\u001b[0m \u001b[0;34m=\u001b[0m \u001b[0mtime\u001b[0m\u001b[0;34m.\u001b[0m\u001b[0mmonotonic\u001b[0m\u001b[0;34m(\u001b[0m\u001b[0;34m)\u001b[0m\u001b[0;34m\u001b[0m\u001b[0;34m\u001b[0m\u001b[0m\n\u001b[1;32m    129\u001b[0m             \u001b[0;32mtry\u001b[0m\u001b[0;34m:\u001b[0m\u001b[0;34m\u001b[0m\u001b[0;34m\u001b[0m\u001b[0m\n\u001b[0;32m--> 130\u001b[0;31m                 \u001b[0msent\u001b[0m \u001b[0;34m=\u001b[0m \u001b[0mself\u001b[0m\u001b[0;34m.\u001b[0m\u001b[0m_sock\u001b[0m\u001b[0;34m.\u001b[0m\u001b[0msend\u001b[0m\u001b[0;34m(\u001b[0m\u001b[0mdata\u001b[0m\u001b[0;34m)\u001b[0m\u001b[0;34m\u001b[0m\u001b[0;34m\u001b[0m\u001b[0m\n\u001b[0m\u001b[1;32m    131\u001b[0m                 \u001b[0;31m# sent equal to 0 indicates a closed socket\u001b[0m\u001b[0;34m\u001b[0m\u001b[0;34m\u001b[0m\u001b[0m\n\u001b[1;32m    132\u001b[0m                 \u001b[0;32mif\u001b[0m \u001b[0msent\u001b[0m \u001b[0;34m==\u001b[0m \u001b[0;36m0\u001b[0m\u001b[0;34m:\u001b[0m\u001b[0;34m\u001b[0m\u001b[0;34m\u001b[0m\u001b[0m\n",
            "\u001b[0;31mBrokenPipeError\u001b[0m: [Errno 32] Broken pipe"
          ]
        },
        {
          "metadata": {
            "tags": null
          },
          "name": "stderr",
          "output_type": "stream",
          "text": [
            "\u001b[34m\u001b[1mwandb\u001b[0m: \u001b[33mWARNING\u001b[0m Calling wandb.login() after wandb.init() has no effect.\n"
          ]
        },
        {
          "metadata": {
            "tags": null
          },
          "name": "stdout",
          "output_type": "stream",
          "text": [
            "Create sweep with ID: plxq1s8v\n",
            "Sweep URL: https://wandb.ai/amanvb-9213/DL-assignment1/sweeps/plxq1s8v\n"
          ]
        },
        {
          "metadata": {
            "tags": null
          },
          "name": "stderr",
          "output_type": "stream",
          "text": [
            "\u001b[34m\u001b[1mwandb\u001b[0m: Agent Starting Run: uph1ul7w with config:\n",
            "\u001b[34m\u001b[1mwandb\u001b[0m: \tL2: 0.5\n",
            "\u001b[34m\u001b[1mwandb\u001b[0m: \tactivation: sigmoid\n",
            "\u001b[34m\u001b[1mwandb\u001b[0m: \tbatch_size: 16\n",
            "\u001b[34m\u001b[1mwandb\u001b[0m: \tepochs: 5\n",
            "\u001b[34m\u001b[1mwandb\u001b[0m: \thidden_layers: 4\n",
            "\u001b[34m\u001b[1mwandb\u001b[0m: \tlearning_rate: 0.0001\n",
            "\u001b[34m\u001b[1mwandb\u001b[0m: \tnumbers_neurons: 32\n",
            "\u001b[34m\u001b[1mwandb\u001b[0m: \toptimizers: nag\n",
            "\u001b[34m\u001b[1mwandb\u001b[0m: \twt_init: xavier\n",
            "Exception in thread NetStatThr:\n",
            "Traceback (most recent call last):\n",
            "  File \"/usr/lib/python3.9/threading.py\", line 980, in _bootstrap_inner\n",
            "    self.run()\n",
            "  File \"/usr/lib/python3.9/threading.py\", line 917, in run\n",
            "Exception in thread ChkStopThr:\n",
            "Traceback (most recent call last):\n",
            "  File \"/usr/lib/python3.9/threading.py\", line 980, in _bootstrap_inner\n",
            "    self.run()\n",
            "  File \"/usr/lib/python3.9/threading.py\", line 917, in run\n",
            "    self._target(*self._args, **self._kwargs)\n",
            "  File \"/usr/local/lib/python3.9/dist-packages/wandb/sdk/wandb_run.py\", line 276, in check_stop_status\n",
            "    self._loop_check_status(\n",
            "  File \"/usr/local/lib/python3.9/dist-packages/wandb/sdk/wandb_run.py\", line 214, in _loop_check_status\n",
            "    local_handle = request()\n",
            "  File \"/usr/local/lib/python3.9/dist-packages/wandb/sdk/interface/interface.py\", line 787, in deliver_stop_status\n",
            "    self._target(*self._args, **self._kwargs)\n",
            "  File \"/usr/local/lib/python3.9/dist-packages/wandb/sdk/wandb_run.py\", line 258, in check_network_status\n",
            "    self._loop_check_status(\n",
            "  File \"/usr/local/lib/python3.9/dist-packages/wandb/sdk/wandb_run.py\", line 214, in _loop_check_status\n",
            "    local_handle = request()\n",
            "  File \"/usr/local/lib/python3.9/dist-packages/wandb/sdk/interface/interface.py\", line 795, in deliver_network_status\n",
            "    return self._deliver_network_status(status)\n",
            "  File \"/usr/local/lib/python3.9/dist-packages/wandb/sdk/interface/interface_shared.py\", line 601, in _deliver_network_status\n",
            "    return self._deliver_stop_status(status)\n",
            "  File \"/usr/local/lib/python3.9/dist-packages/wandb/sdk/interface/interface_shared.py\", line 585, in _deliver_stop_status\n",
            "    return self._deliver_record(record)\n",
            "  File \"/usr/local/lib/python3.9/dist-packages/wandb/sdk/interface/interface_shared.py\", line 560, in _deliver_record\n",
            "    handle = mailbox._deliver_record(record, interface=self)\n",
            "  File \"/usr/local/lib/python3.9/dist-packages/wandb/sdk/lib/mailbox.py\", line 455, in _deliver_record\n",
            "    interface._publish(record)\n",
            "  File \"/usr/local/lib/python3.9/dist-packages/wandb/sdk/interface/interface_sock.py\", line 51, in _publish\n",
            "    self._sock_client.send_record_publish(record)\n",
            "  File \"/usr/local/lib/python3.9/dist-packages/wandb/sdk/lib/sock_client.py\", line 221, in send_record_publish\n",
            "    self.send_server_request(server_req)\n",
            "  File \"/usr/local/lib/python3.9/dist-packages/wandb/sdk/lib/sock_client.py\", line 155, in send_server_request\n",
            "    return self._deliver_record(record)\n",
            "  File \"/usr/local/lib/python3.9/dist-packages/wandb/sdk/interface/interface_shared.py\", line 560, in _deliver_record\n",
            "    handle = mailbox._deliver_record(record, interface=self)\n",
            "  File \"/usr/local/lib/python3.9/dist-packages/wandb/sdk/lib/mailbox.py\", line 455, in _deliver_record\n",
            "    interface._publish(record)\n",
            "      File \"/usr/local/lib/python3.9/dist-packages/wandb/sdk/interface/interface_sock.py\", line 51, in _publish\n",
            "    self._sock_client.send_record_publish(record)\n",
            "  File \"/usr/local/lib/python3.9/dist-packages/wandb/sdk/lib/sock_client.py\", line 221, in send_record_publish\n",
            "    self.send_server_request(server_req)\n",
            "  File \"/usr/local/lib/python3.9/dist-packages/wandb/sdk/lib/sock_client.py\", line 155, in send_server_request\n",
            "self._send_message(msg)\n",
            "  File \"/usr/local/lib/python3.9/dist-packages/wandb/sdk/lib/sock_client.py\", line 152, in _send_message\n",
            "    self._sendall_with_error_handle(header + data)\n",
            "  File \"/usr/local/lib/python3.9/dist-packages/wandb/sdk/lib/sock_client.py\", line 130, in _sendall_with_error_handle\n",
            "    sent = self._sock.send(data)\n",
            "    self._send_message(msg)\n",
            "  File \"/usr/local/lib/python3.9/dist-packages/wandb/sdk/lib/sock_client.py\", line 152, in _send_message\n",
            "BrokenPipeError: [Errno 32] Broken pipe\n",
            "    self._sendall_with_error_handle(header + data)\n",
            "  File \"/usr/local/lib/python3.9/dist-packages/wandb/sdk/lib/sock_client.py\", line 130, in _sendall_with_error_handle\n",
            "    sent = self._sock.send(data)\n",
            "BrokenPipeError: [Errno 32] Broken pipe\n"
          ]
        },
        {
          "data": {
            "text/html": [
              "Tracking run with wandb version 0.14.0"
            ],
            "text/plain": [
              "<IPython.core.display.HTML object>"
            ]
          },
          "metadata": {},
          "output_type": "display_data"
        },
        {
          "data": {
            "text/html": [
              "Run data is saved locally in <code>/content/wandb/run-20230319_181832-uph1ul7w</code>"
            ],
            "text/plain": [
              "<IPython.core.display.HTML object>"
            ]
          },
          "metadata": {},
          "output_type": "display_data"
        },
        {
          "data": {
            "text/html": [
              "Syncing run <strong><a href='https://wandb.ai/amanvb-9213/DL-assignment1/runs/uph1ul7w' target=\"_blank\">smooth-sweep-1</a></strong> to <a href='https://wandb.ai/amanvb-9213/DL-assignment1' target=\"_blank\">Weights & Biases</a> (<a href='https://wandb.me/run' target=\"_blank\">docs</a>)<br/>Sweep page: <a href='https://wandb.ai/amanvb-9213/DL-assignment1/sweeps/plxq1s8v' target=\"_blank\">https://wandb.ai/amanvb-9213/DL-assignment1/sweeps/plxq1s8v</a>"
            ],
            "text/plain": [
              "<IPython.core.display.HTML object>"
            ]
          },
          "metadata": {},
          "output_type": "display_data"
        },
        {
          "data": {
            "text/html": [
              " View project at <a href='https://wandb.ai/amanvb-9213/DL-assignment1' target=\"_blank\">https://wandb.ai/amanvb-9213/DL-assignment1</a>"
            ],
            "text/plain": [
              "<IPython.core.display.HTML object>"
            ]
          },
          "metadata": {},
          "output_type": "display_data"
        },
        {
          "data": {
            "text/html": [
              " View sweep at <a href='https://wandb.ai/amanvb-9213/DL-assignment1/sweeps/plxq1s8v' target=\"_blank\">https://wandb.ai/amanvb-9213/DL-assignment1/sweeps/plxq1s8v</a>"
            ],
            "text/plain": [
              "<IPython.core.display.HTML object>"
            ]
          },
          "metadata": {},
          "output_type": "display_data"
        },
        {
          "data": {
            "text/html": [
              " View run at <a href='https://wandb.ai/amanvb-9213/DL-assignment1/runs/uph1ul7w' target=\"_blank\">https://wandb.ai/amanvb-9213/DL-assignment1/runs/uph1ul7w</a>"
            ],
            "text/plain": [
              "<IPython.core.display.HTML object>"
            ]
          },
          "metadata": {},
          "output_type": "display_data"
        },
        {
          "metadata": {
            "tags": null
          },
          "name": "stdout",
          "output_type": "stream",
          "text": [
            "run_name: ep_5_hl_4_nodes_32_lr_0.0001_opti_nag_bsize_16_mode_xavier_acf_sigmoid\n",
            "epoch: 1 11.640472106361074\n",
            "epoch: 2 10.876411635439451\n",
            "epoch: 1 10.896685327004379\n",
            "epoch: 3 10.896543191104156\n",
            "epoch: 4 10.896685227280221\n"
          ]
        },
        {
          "data": {
            "text/html": [
              "Waiting for W&B process to finish... <strong style=\"color:red\">(failed 1).</strong> Press Control-C to abort syncing."
            ],
            "text/plain": [
              "<IPython.core.display.HTML object>"
            ]
          },
          "metadata": {},
          "output_type": "display_data"
        },
        {
          "data": {
            "application/vnd.jupyter.widget-view+json": {
              "model_id": "073cffe67b1c4adc845f978c53e7c042",
              "version_major": 2,
              "version_minor": 0
            },
            "text/plain": [
              "VBox(children=(Label(value='0.001 MB of 0.001 MB uploaded (0.000 MB deduped)\\r'), FloatProgress(value=1.0, max…"
            ]
          },
          "metadata": {},
          "output_type": "display_data"
        },
        {
          "data": {
            "text/html": [
              " View run <strong style=\"color:#cdcd00\">smooth-sweep-1</strong> at: <a href='https://wandb.ai/amanvb-9213/DL-assignment1/runs/uph1ul7w' target=\"_blank\">https://wandb.ai/amanvb-9213/DL-assignment1/runs/uph1ul7w</a><br/>Synced 5 W&B file(s), 0 media file(s), 0 artifact file(s) and 0 other file(s)"
            ],
            "text/plain": [
              "<IPython.core.display.HTML object>"
            ]
          },
          "metadata": {},
          "output_type": "display_data"
        },
        {
          "data": {
            "text/html": [
              "Find logs at: <code>./wandb/run-20230319_181832-uph1ul7w/logs</code>"
            ],
            "text/plain": [
              "<IPython.core.display.HTML object>"
            ]
          },
          "metadata": {},
          "output_type": "display_data"
        },
        {
          "metadata": {
            "tags": null
          },
          "name": "stdout",
          "output_type": "stream",
          "text": [
            "epoch: 2 10.896685327004368\n",
            "epoch: 3 10.896685327004368\n",
            "epoch: 4 10.896685327004368\n",
            "epoch: 5 10.896685327004368\n"
          ]
        },
        {
          "metadata": {
            "tags": null
          },
          "name": "stderr",
          "output_type": "stream",
          "text": [
            "\u001b[34m\u001b[1mwandb\u001b[0m: \u001b[32m\u001b[41mERROR\u001b[0m Run uph1ul7w errored: IndexError('index 1 is out of bounds for axis 0 with size 1')\n",
            "\u001b[34m\u001b[1mwandb\u001b[0m: Agent Starting Run: 68ninrwd with config:\n",
            "\u001b[34m\u001b[1mwandb\u001b[0m: \tL2: 0\n",
            "\u001b[34m\u001b[1mwandb\u001b[0m: \tactivation: sigmoid\n",
            "\u001b[34m\u001b[1mwandb\u001b[0m: \tbatch_size: 32\n",
            "\u001b[34m\u001b[1mwandb\u001b[0m: \tepochs: 4\n",
            "\u001b[34m\u001b[1mwandb\u001b[0m: \thidden_layers: 3\n",
            "\u001b[34m\u001b[1mwandb\u001b[0m: \tlearning_rate: 0.0001\n",
            "\u001b[34m\u001b[1mwandb\u001b[0m: \tnumbers_neurons: 16\n",
            "\u001b[34m\u001b[1mwandb\u001b[0m: \toptimizers: nadam\n",
            "\u001b[34m\u001b[1mwandb\u001b[0m: \twt_init: xavier\n"
          ]
        },
        {
          "data": {
            "text/html": [
              "Tracking run with wandb version 0.14.0"
            ],
            "text/plain": [
              "<IPython.core.display.HTML object>"
            ]
          },
          "metadata": {},
          "output_type": "display_data"
        },
        {
          "data": {
            "text/html": [
              "Run data is saved locally in <code>/content/wandb/run-20230319_182802-68ninrwd</code>"
            ],
            "text/plain": [
              "<IPython.core.display.HTML object>"
            ]
          },
          "metadata": {},
          "output_type": "display_data"
        },
        {
          "data": {
            "text/html": [
              "Syncing run <strong><a href='https://wandb.ai/amanvb-9213/DL-assignment1/runs/68ninrwd' target=\"_blank\">silvery-sweep-2</a></strong> to <a href='https://wandb.ai/amanvb-9213/DL-assignment1' target=\"_blank\">Weights & Biases</a> (<a href='https://wandb.me/run' target=\"_blank\">docs</a>)<br/>Sweep page: <a href='https://wandb.ai/amanvb-9213/DL-assignment1/sweeps/plxq1s8v' target=\"_blank\">https://wandb.ai/amanvb-9213/DL-assignment1/sweeps/plxq1s8v</a>"
            ],
            "text/plain": [
              "<IPython.core.display.HTML object>"
            ]
          },
          "metadata": {},
          "output_type": "display_data"
        },
        {
          "data": {
            "text/html": [
              " View project at <a href='https://wandb.ai/amanvb-9213/DL-assignment1' target=\"_blank\">https://wandb.ai/amanvb-9213/DL-assignment1</a>"
            ],
            "text/plain": [
              "<IPython.core.display.HTML object>"
            ]
          },
          "metadata": {},
          "output_type": "display_data"
        },
        {
          "data": {
            "text/html": [
              " View sweep at <a href='https://wandb.ai/amanvb-9213/DL-assignment1/sweeps/plxq1s8v' target=\"_blank\">https://wandb.ai/amanvb-9213/DL-assignment1/sweeps/plxq1s8v</a>"
            ],
            "text/plain": [
              "<IPython.core.display.HTML object>"
            ]
          },
          "metadata": {},
          "output_type": "display_data"
        },
        {
          "data": {
            "text/html": [
              " View run at <a href='https://wandb.ai/amanvb-9213/DL-assignment1/runs/68ninrwd' target=\"_blank\">https://wandb.ai/amanvb-9213/DL-assignment1/runs/68ninrwd</a>"
            ],
            "text/plain": [
              "<IPython.core.display.HTML object>"
            ]
          },
          "metadata": {},
          "output_type": "display_data"
        },
        {
          "metadata": {
            "tags": null
          },
          "name": "stdout",
          "output_type": "stream",
          "text": [
            "run_name: ep_4_hl_3_nodes_16_lr_0.0001_opti_nadam_bsize_32_mode_xavier_acf_sigmoid\n"
          ]
        },
        {
          "data": {
            "text/html": [
              "Waiting for W&B process to finish... <strong style=\"color:red\">(failed 1).</strong> Press Control-C to abort syncing."
            ],
            "text/plain": [
              "<IPython.core.display.HTML object>"
            ]
          },
          "metadata": {},
          "output_type": "display_data"
        },
        {
          "data": {
            "application/vnd.jupyter.widget-view+json": {
              "model_id": "a49ac618577445adb0b44127677dc37c",
              "version_major": 2,
              "version_minor": 0
            },
            "text/plain": [
              "VBox(children=(Label(value='0.001 MB of 0.001 MB uploaded (0.000 MB deduped)\\r'), FloatProgress(value=1.0, max…"
            ]
          },
          "metadata": {},
          "output_type": "display_data"
        },
        {
          "data": {
            "text/html": [
              " View run <strong style=\"color:#cdcd00\">silvery-sweep-2</strong> at: <a href='https://wandb.ai/amanvb-9213/DL-assignment1/runs/68ninrwd' target=\"_blank\">https://wandb.ai/amanvb-9213/DL-assignment1/runs/68ninrwd</a><br/>Synced 5 W&B file(s), 0 media file(s), 0 artifact file(s) and 0 other file(s)"
            ],
            "text/plain": [
              "<IPython.core.display.HTML object>"
            ]
          },
          "metadata": {},
          "output_type": "display_data"
        },
        {
          "data": {
            "text/html": [
              "Find logs at: <code>./wandb/run-20230319_182802-68ninrwd/logs</code>"
            ],
            "text/plain": [
              "<IPython.core.display.HTML object>"
            ]
          },
          "metadata": {},
          "output_type": "display_data"
        },
        {
          "metadata": {
            "tags": null
          },
          "name": "stderr",
          "output_type": "stream",
          "text": [
            "\u001b[34m\u001b[1mwandb\u001b[0m: \u001b[32m\u001b[41mERROR\u001b[0m Run 68ninrwd errored: IndexError('index 1 is out of bounds for axis 0 with size 1')\n",
            "\u001b[34m\u001b[1mwandb\u001b[0m: Agent Starting Run: 59xd48q7 with config:\n",
            "\u001b[34m\u001b[1mwandb\u001b[0m: \tL2: 0.5\n",
            "\u001b[34m\u001b[1mwandb\u001b[0m: \tactivation: sigmoid\n",
            "\u001b[34m\u001b[1mwandb\u001b[0m: \tbatch_size: 64\n",
            "\u001b[34m\u001b[1mwandb\u001b[0m: \tepochs: 10\n",
            "\u001b[34m\u001b[1mwandb\u001b[0m: \thidden_layers: 4\n",
            "\u001b[34m\u001b[1mwandb\u001b[0m: \tlearning_rate: 0.0001\n",
            "\u001b[34m\u001b[1mwandb\u001b[0m: \tnumbers_neurons: 32\n",
            "\u001b[34m\u001b[1mwandb\u001b[0m: \toptimizers: nag\n",
            "\u001b[34m\u001b[1mwandb\u001b[0m: \twt_init: xavier\n"
          ]
        },
        {
          "data": {
            "text/html": [
              "Tracking run with wandb version 0.14.0"
            ],
            "text/plain": [
              "<IPython.core.display.HTML object>"
            ]
          },
          "metadata": {},
          "output_type": "display_data"
        },
        {
          "data": {
            "text/html": [
              "Run data is saved locally in <code>/content/wandb/run-20230319_182818-59xd48q7</code>"
            ],
            "text/plain": [
              "<IPython.core.display.HTML object>"
            ]
          },
          "metadata": {},
          "output_type": "display_data"
        },
        {
          "data": {
            "text/html": [
              "Syncing run <strong><a href='https://wandb.ai/amanvb-9213/DL-assignment1/runs/59xd48q7' target=\"_blank\">clear-sweep-3</a></strong> to <a href='https://wandb.ai/amanvb-9213/DL-assignment1' target=\"_blank\">Weights & Biases</a> (<a href='https://wandb.me/run' target=\"_blank\">docs</a>)<br/>Sweep page: <a href='https://wandb.ai/amanvb-9213/DL-assignment1/sweeps/plxq1s8v' target=\"_blank\">https://wandb.ai/amanvb-9213/DL-assignment1/sweeps/plxq1s8v</a>"
            ],
            "text/plain": [
              "<IPython.core.display.HTML object>"
            ]
          },
          "metadata": {},
          "output_type": "display_data"
        },
        {
          "data": {
            "text/html": [
              " View project at <a href='https://wandb.ai/amanvb-9213/DL-assignment1' target=\"_blank\">https://wandb.ai/amanvb-9213/DL-assignment1</a>"
            ],
            "text/plain": [
              "<IPython.core.display.HTML object>"
            ]
          },
          "metadata": {},
          "output_type": "display_data"
        },
        {
          "data": {
            "text/html": [
              " View sweep at <a href='https://wandb.ai/amanvb-9213/DL-assignment1/sweeps/plxq1s8v' target=\"_blank\">https://wandb.ai/amanvb-9213/DL-assignment1/sweeps/plxq1s8v</a>"
            ],
            "text/plain": [
              "<IPython.core.display.HTML object>"
            ]
          },
          "metadata": {},
          "output_type": "display_data"
        },
        {
          "data": {
            "text/html": [
              " View run at <a href='https://wandb.ai/amanvb-9213/DL-assignment1/runs/59xd48q7' target=\"_blank\">https://wandb.ai/amanvb-9213/DL-assignment1/runs/59xd48q7</a>"
            ],
            "text/plain": [
              "<IPython.core.display.HTML object>"
            ]
          },
          "metadata": {},
          "output_type": "display_data"
        },
        {
          "metadata": {
            "tags": null
          },
          "name": "stdout",
          "output_type": "stream",
          "text": [
            "run_name: ep_10_hl_4_nodes_32_lr_0.0001_opti_nag_bsize_64_mode_xavier_acf_sigmoid\n",
            "epoch: 1 10.896685327004379\n",
            "epoch: 2 10.896685327004368\n",
            "epoch: 3 10.896685327004368\n",
            "epoch: 4 10.896685327004368\n",
            "epoch: 5 10.896685327004368\n",
            "epoch: 6 10.896685327004368\n",
            "epoch: 7 10.896685327004368\n",
            "epoch: 8 10.896685327004368\n",
            "epoch: 9 10.896685327004368\n",
            "epoch: 10 10.896685327004368\n"
          ]
        },
        {
          "data": {
            "text/html": [
              "Waiting for W&B process to finish... <strong style=\"color:red\">(failed 1).</strong> Press Control-C to abort syncing."
            ],
            "text/plain": [
              "<IPython.core.display.HTML object>"
            ]
          },
          "metadata": {},
          "output_type": "display_data"
        },
        {
          "data": {
            "application/vnd.jupyter.widget-view+json": {
              "model_id": "517e56bdadb347869252f16cb7e1fe00",
              "version_major": 2,
              "version_minor": 0
            },
            "text/plain": [
              "VBox(children=(Label(value='0.001 MB of 0.001 MB uploaded (0.000 MB deduped)\\r'), FloatProgress(value=1.0, max…"
            ]
          },
          "metadata": {},
          "output_type": "display_data"
        },
        {
          "data": {
            "text/html": [
              " View run <strong style=\"color:#cdcd00\">clear-sweep-3</strong> at: <a href='https://wandb.ai/amanvb-9213/DL-assignment1/runs/59xd48q7' target=\"_blank\">https://wandb.ai/amanvb-9213/DL-assignment1/runs/59xd48q7</a><br/>Synced 5 W&B file(s), 0 media file(s), 0 artifact file(s) and 0 other file(s)"
            ],
            "text/plain": [
              "<IPython.core.display.HTML object>"
            ]
          },
          "metadata": {},
          "output_type": "display_data"
        },
        {
          "data": {
            "text/html": [
              "Find logs at: <code>./wandb/run-20230319_182818-59xd48q7/logs</code>"
            ],
            "text/plain": [
              "<IPython.core.display.HTML object>"
            ]
          },
          "metadata": {},
          "output_type": "display_data"
        },
        {
          "metadata": {
            "tags": null
          },
          "name": "stderr",
          "output_type": "stream",
          "text": [
            "\u001b[34m\u001b[1mwandb\u001b[0m: \u001b[32m\u001b[41mERROR\u001b[0m Run 59xd48q7 errored: IndexError('index 1 is out of bounds for axis 0 with size 1')\n",
            "\u001b[34m\u001b[1mwandb\u001b[0m: Agent Starting Run: 4bummpa7 with config:\n",
            "\u001b[34m\u001b[1mwandb\u001b[0m: \tL2: 0\n",
            "\u001b[34m\u001b[1mwandb\u001b[0m: \tactivation: ReLU\n",
            "\u001b[34m\u001b[1mwandb\u001b[0m: \tbatch_size: 64\n",
            "\u001b[34m\u001b[1mwandb\u001b[0m: \tepochs: 5\n",
            "\u001b[34m\u001b[1mwandb\u001b[0m: \thidden_layers: 4\n",
            "\u001b[34m\u001b[1mwandb\u001b[0m: \tlearning_rate: 0.0001\n",
            "\u001b[34m\u001b[1mwandb\u001b[0m: \tnumbers_neurons: 64\n",
            "\u001b[34m\u001b[1mwandb\u001b[0m: \toptimizers: mgd\n",
            "\u001b[34m\u001b[1mwandb\u001b[0m: \twt_init: random\n"
          ]
        },
        {
          "data": {
            "text/html": [
              "Tracking run with wandb version 0.14.0"
            ],
            "text/plain": [
              "<IPython.core.display.HTML object>"
            ]
          },
          "metadata": {},
          "output_type": "display_data"
        },
        {
          "data": {
            "text/html": [
              "Run data is saved locally in <code>/content/wandb/run-20230319_183923-4bummpa7</code>"
            ],
            "text/plain": [
              "<IPython.core.display.HTML object>"
            ]
          },
          "metadata": {},
          "output_type": "display_data"
        },
        {
          "data": {
            "text/html": [
              "Syncing run <strong><a href='https://wandb.ai/amanvb-9213/DL-assignment1/runs/4bummpa7' target=\"_blank\">celestial-sweep-4</a></strong> to <a href='https://wandb.ai/amanvb-9213/DL-assignment1' target=\"_blank\">Weights & Biases</a> (<a href='https://wandb.me/run' target=\"_blank\">docs</a>)<br/>Sweep page: <a href='https://wandb.ai/amanvb-9213/DL-assignment1/sweeps/plxq1s8v' target=\"_blank\">https://wandb.ai/amanvb-9213/DL-assignment1/sweeps/plxq1s8v</a>"
            ],
            "text/plain": [
              "<IPython.core.display.HTML object>"
            ]
          },
          "metadata": {},
          "output_type": "display_data"
        },
        {
          "data": {
            "text/html": [
              " View project at <a href='https://wandb.ai/amanvb-9213/DL-assignment1' target=\"_blank\">https://wandb.ai/amanvb-9213/DL-assignment1</a>"
            ],
            "text/plain": [
              "<IPython.core.display.HTML object>"
            ]
          },
          "metadata": {},
          "output_type": "display_data"
        },
        {
          "data": {
            "text/html": [
              " View sweep at <a href='https://wandb.ai/amanvb-9213/DL-assignment1/sweeps/plxq1s8v' target=\"_blank\">https://wandb.ai/amanvb-9213/DL-assignment1/sweeps/plxq1s8v</a>"
            ],
            "text/plain": [
              "<IPython.core.display.HTML object>"
            ]
          },
          "metadata": {},
          "output_type": "display_data"
        },
        {
          "data": {
            "text/html": [
              " View run at <a href='https://wandb.ai/amanvb-9213/DL-assignment1/runs/4bummpa7' target=\"_blank\">https://wandb.ai/amanvb-9213/DL-assignment1/runs/4bummpa7</a>"
            ],
            "text/plain": [
              "<IPython.core.display.HTML object>"
            ]
          },
          "metadata": {},
          "output_type": "display_data"
        },
        {
          "output_type": "stream",
          "name": "stdout",
          "text": [
            "run_name: ep_5_hl_4_nodes_64_lr_0.0001_opti_mgd_bsize_64_mode_random_acf_ReLU\n",
            "epoch: 1 20.72173078021766\n",
            "epoch: 2 20.72211454439984\n",
            "epoch: 3 20.72211454439984\n",
            "epoch: 4 20.722114544399826\n",
            "epoch: 5 20.72211454439984\n"
          ]
        },
        {
          "output_type": "display_data",
          "data": {
            "text/plain": [
              "<IPython.core.display.HTML object>"
            ],
            "text/html": [
              "Waiting for W&B process to finish... <strong style=\"color:red\">(failed 1).</strong> Press Control-C to abort syncing."
            ]
          },
          "metadata": {}
        },
        {
          "output_type": "display_data",
          "data": {
            "text/plain": [
              "VBox(children=(Label(value='0.001 MB of 0.001 MB uploaded (0.000 MB deduped)\\r'), FloatProgress(value=1.0, max…"
            ],
            "application/vnd.jupyter.widget-view+json": {
              "version_major": 2,
              "version_minor": 0,
              "model_id": "baa2a120a8a14cbc993d98fb1f78fb23"
            }
          },
          "metadata": {}
        },
        {
          "output_type": "display_data",
          "data": {
            "text/plain": [
              "<IPython.core.display.HTML object>"
            ],
            "text/html": [
              " View run <strong style=\"color:#cdcd00\">celestial-sweep-4</strong> at: <a href='https://wandb.ai/amanvb-9213/DL-assignment1/runs/4bummpa7' target=\"_blank\">https://wandb.ai/amanvb-9213/DL-assignment1/runs/4bummpa7</a><br/>Synced 5 W&B file(s), 0 media file(s), 0 artifact file(s) and 0 other file(s)"
            ]
          },
          "metadata": {}
        },
        {
          "output_type": "display_data",
          "data": {
            "text/plain": [
              "<IPython.core.display.HTML object>"
            ],
            "text/html": [
              "Find logs at: <code>./wandb/run-20230319_183923-4bummpa7/logs</code>"
            ]
          },
          "metadata": {}
        },
        {
          "output_type": "stream",
          "name": "stderr",
          "text": [
            "\u001b[34m\u001b[1mwandb\u001b[0m: \u001b[32m\u001b[41mERROR\u001b[0m Run 4bummpa7 errored: IndexError('index 1 is out of bounds for axis 0 with size 1')\n",
            "\u001b[34m\u001b[1mwandb\u001b[0m: Agent Starting Run: 3yrs8246 with config:\n",
            "\u001b[34m\u001b[1mwandb\u001b[0m: \tL2: 0.5\n",
            "\u001b[34m\u001b[1mwandb\u001b[0m: \tactivation: sigmoid\n",
            "\u001b[34m\u001b[1mwandb\u001b[0m: \tbatch_size: 16\n",
            "\u001b[34m\u001b[1mwandb\u001b[0m: \tepochs: 5\n",
            "\u001b[34m\u001b[1mwandb\u001b[0m: \thidden_layers: 4\n",
            "\u001b[34m\u001b[1mwandb\u001b[0m: \tlearning_rate: 0.0001\n",
            "\u001b[34m\u001b[1mwandb\u001b[0m: \tnumbers_neurons: 32\n",
            "\u001b[34m\u001b[1mwandb\u001b[0m: \toptimizers: nadam\n",
            "\u001b[34m\u001b[1mwandb\u001b[0m: \twt_init: xavier\n"
          ]
        },
        {
          "output_type": "display_data",
          "data": {
            "text/plain": [
              "<IPython.core.display.HTML object>"
            ],
            "text/html": [
              "Tracking run with wandb version 0.14.0"
            ]
          },
          "metadata": {}
        },
        {
          "output_type": "display_data",
          "data": {
            "text/plain": [
              "<IPython.core.display.HTML object>"
            ],
            "text/html": [
              "Run data is saved locally in <code>/content/wandb/run-20230319_184544-3yrs8246</code>"
            ]
          },
          "metadata": {}
        },
        {
          "output_type": "display_data",
          "data": {
            "text/plain": [
              "<IPython.core.display.HTML object>"
            ],
            "text/html": [
              "Syncing run <strong><a href='https://wandb.ai/amanvb-9213/DL-assignment1/runs/3yrs8246' target=\"_blank\">celestial-sweep-5</a></strong> to <a href='https://wandb.ai/amanvb-9213/DL-assignment1' target=\"_blank\">Weights & Biases</a> (<a href='https://wandb.me/run' target=\"_blank\">docs</a>)<br/>Sweep page: <a href='https://wandb.ai/amanvb-9213/DL-assignment1/sweeps/plxq1s8v' target=\"_blank\">https://wandb.ai/amanvb-9213/DL-assignment1/sweeps/plxq1s8v</a>"
            ]
          },
          "metadata": {}
        },
        {
          "output_type": "display_data",
          "data": {
            "text/plain": [
              "<IPython.core.display.HTML object>"
            ],
            "text/html": [
              " View project at <a href='https://wandb.ai/amanvb-9213/DL-assignment1' target=\"_blank\">https://wandb.ai/amanvb-9213/DL-assignment1</a>"
            ]
          },
          "metadata": {}
        },
        {
          "output_type": "display_data",
          "data": {
            "text/plain": [
              "<IPython.core.display.HTML object>"
            ],
            "text/html": [
              " View sweep at <a href='https://wandb.ai/amanvb-9213/DL-assignment1/sweeps/plxq1s8v' target=\"_blank\">https://wandb.ai/amanvb-9213/DL-assignment1/sweeps/plxq1s8v</a>"
            ]
          },
          "metadata": {}
        },
        {
          "output_type": "display_data",
          "data": {
            "text/plain": [
              "<IPython.core.display.HTML object>"
            ],
            "text/html": [
              " View run at <a href='https://wandb.ai/amanvb-9213/DL-assignment1/runs/3yrs8246' target=\"_blank\">https://wandb.ai/amanvb-9213/DL-assignment1/runs/3yrs8246</a>"
            ]
          },
          "metadata": {}
        },
        {
          "output_type": "stream",
          "name": "stdout",
          "text": [
            "run_name: ep_5_hl_4_nodes_32_lr_0.0001_opti_nadam_bsize_16_mode_xavier_acf_sigmoid\n"
          ]
        },
        {
          "output_type": "display_data",
          "data": {
            "text/plain": [
              "<IPython.core.display.HTML object>"
            ],
            "text/html": [
              "Waiting for W&B process to finish... <strong style=\"color:red\">(failed 1).</strong> Press Control-C to abort syncing."
            ]
          },
          "metadata": {}
        },
        {
          "output_type": "display_data",
          "data": {
            "text/plain": [
              "<IPython.core.display.HTML object>"
            ],
            "text/html": [
              " View run <strong style=\"color:#cdcd00\">celestial-sweep-5</strong> at: <a href='https://wandb.ai/amanvb-9213/DL-assignment1/runs/3yrs8246' target=\"_blank\">https://wandb.ai/amanvb-9213/DL-assignment1/runs/3yrs8246</a><br/>Synced 5 W&B file(s), 0 media file(s), 0 artifact file(s) and 0 other file(s)"
            ]
          },
          "metadata": {}
        },
        {
          "output_type": "display_data",
          "data": {
            "text/plain": [
              "<IPython.core.display.HTML object>"
            ],
            "text/html": [
              "Find logs at: <code>./wandb/run-20230319_184544-3yrs8246/logs</code>"
            ]
          },
          "metadata": {}
        },
        {
          "output_type": "stream",
          "name": "stderr",
          "text": [
            "\u001b[34m\u001b[1mwandb\u001b[0m: \u001b[32m\u001b[41mERROR\u001b[0m Run 3yrs8246 errored: IndexError('index 1 is out of bounds for axis 0 with size 1')\n",
            "\u001b[34m\u001b[1mwandb\u001b[0m: Agent Starting Run: vl2pjw9i with config:\n",
            "\u001b[34m\u001b[1mwandb\u001b[0m: \tL2: 0.5\n",
            "\u001b[34m\u001b[1mwandb\u001b[0m: \tactivation: tanh\n",
            "\u001b[34m\u001b[1mwandb\u001b[0m: \tbatch_size: 16\n",
            "\u001b[34m\u001b[1mwandb\u001b[0m: \tepochs: 5\n",
            "\u001b[34m\u001b[1mwandb\u001b[0m: \thidden_layers: 4\n",
            "\u001b[34m\u001b[1mwandb\u001b[0m: \tlearning_rate: 0.0001\n",
            "\u001b[34m\u001b[1mwandb\u001b[0m: \tnumbers_neurons: 32\n",
            "\u001b[34m\u001b[1mwandb\u001b[0m: \toptimizers: sgd\n",
            "\u001b[34m\u001b[1mwandb\u001b[0m: \twt_init: random\n"
          ]
        },
        {
          "output_type": "display_data",
          "data": {
            "text/plain": [
              "<IPython.core.display.HTML object>"
            ],
            "text/html": [
              "Tracking run with wandb version 0.14.0"
            ]
          },
          "metadata": {}
        },
        {
          "output_type": "display_data",
          "data": {
            "text/plain": [
              "<IPython.core.display.HTML object>"
            ],
            "text/html": [
              "Run data is saved locally in <code>/content/wandb/run-20230319_184605-vl2pjw9i</code>"
            ]
          },
          "metadata": {}
        },
        {
          "output_type": "display_data",
          "data": {
            "text/plain": [
              "<IPython.core.display.HTML object>"
            ],
            "text/html": [
              "Syncing run <strong><a href='https://wandb.ai/amanvb-9213/DL-assignment1/runs/vl2pjw9i' target=\"_blank\">super-sweep-6</a></strong> to <a href='https://wandb.ai/amanvb-9213/DL-assignment1' target=\"_blank\">Weights & Biases</a> (<a href='https://wandb.me/run' target=\"_blank\">docs</a>)<br/>Sweep page: <a href='https://wandb.ai/amanvb-9213/DL-assignment1/sweeps/plxq1s8v' target=\"_blank\">https://wandb.ai/amanvb-9213/DL-assignment1/sweeps/plxq1s8v</a>"
            ]
          },
          "metadata": {}
        },
        {
          "output_type": "display_data",
          "data": {
            "text/plain": [
              "<IPython.core.display.HTML object>"
            ],
            "text/html": [
              " View project at <a href='https://wandb.ai/amanvb-9213/DL-assignment1' target=\"_blank\">https://wandb.ai/amanvb-9213/DL-assignment1</a>"
            ]
          },
          "metadata": {}
        },
        {
          "output_type": "display_data",
          "data": {
            "text/plain": [
              "<IPython.core.display.HTML object>"
            ],
            "text/html": [
              " View sweep at <a href='https://wandb.ai/amanvb-9213/DL-assignment1/sweeps/plxq1s8v' target=\"_blank\">https://wandb.ai/amanvb-9213/DL-assignment1/sweeps/plxq1s8v</a>"
            ]
          },
          "metadata": {}
        },
        {
          "output_type": "display_data",
          "data": {
            "text/plain": [
              "<IPython.core.display.HTML object>"
            ],
            "text/html": [
              " View run at <a href='https://wandb.ai/amanvb-9213/DL-assignment1/runs/vl2pjw9i' target=\"_blank\">https://wandb.ai/amanvb-9213/DL-assignment1/runs/vl2pjw9i</a>"
            ]
          },
          "metadata": {}
        },
        {
          "output_type": "stream",
          "name": "stdout",
          "text": [
            "run_name: ep_5_hl_4_nodes_32_lr_0.0001_opti_sgd_bsize_16_mode_random_acf_tanh\n"
          ]
        },
        {
          "output_type": "stream",
          "name": "stderr",
          "text": [
            " 20%|██        | 1/5 [00:44<02:57, 44.42s/it]"
          ]
        },
        {
          "output_type": "stream",
          "name": "stdout",
          "text": [
            "epoch: 1 10.895665329106384\n"
          ]
        },
        {
          "output_type": "stream",
          "name": "stderr",
          "text": [
            "\r 40%|████      | 2/5 [01:27<02:10, 43.66s/it]"
          ]
        },
        {
          "output_type": "stream",
          "name": "stdout",
          "text": [
            "epoch: 2 10.896685325647596\n"
          ]
        },
        {
          "output_type": "stream",
          "name": "stderr",
          "text": [
            "\r 60%|██████    | 3/5 [02:11<01:27, 43.67s/it]"
          ]
        },
        {
          "output_type": "stream",
          "name": "stdout",
          "text": [
            "epoch: 3 10.896685327004421\n"
          ]
        },
        {
          "output_type": "stream",
          "name": "stderr",
          "text": [
            "\r 80%|████████  | 4/5 [02:54<00:43, 43.33s/it]"
          ]
        },
        {
          "output_type": "stream",
          "name": "stdout",
          "text": [
            "epoch: 4 10.896685327004368\n"
          ]
        },
        {
          "output_type": "stream",
          "name": "stderr",
          "text": [
            "100%|██████████| 5/5 [03:37<00:00, 43.41s/it]"
          ]
        },
        {
          "output_type": "stream",
          "name": "stdout",
          "text": [
            "epoch: 5 10.896685327004368\n"
          ]
        },
        {
          "output_type": "stream",
          "name": "stderr",
          "text": [
            "\n"
          ]
        },
        {
          "output_type": "display_data",
          "data": {
            "text/plain": [
              "<IPython.core.display.HTML object>"
            ],
            "text/html": [
              "Waiting for W&B process to finish... <strong style=\"color:red\">(failed 1).</strong> Press Control-C to abort syncing."
            ]
          },
          "metadata": {}
        },
        {
          "output_type": "display_data",
          "data": {
            "text/plain": [
              "VBox(children=(Label(value='0.001 MB of 0.001 MB uploaded (0.000 MB deduped)\\r'), FloatProgress(value=1.0, max…"
            ],
            "application/vnd.jupyter.widget-view+json": {
              "version_major": 2,
              "version_minor": 0,
              "model_id": "6d2487aecd7e4db380a17b65513f3acc"
            }
          },
          "metadata": {}
        },
        {
          "output_type": "display_data",
          "data": {
            "text/plain": [
              "<IPython.core.display.HTML object>"
            ],
            "text/html": [
              " View run <strong style=\"color:#cdcd00\">super-sweep-6</strong> at: <a href='https://wandb.ai/amanvb-9213/DL-assignment1/runs/vl2pjw9i' target=\"_blank\">https://wandb.ai/amanvb-9213/DL-assignment1/runs/vl2pjw9i</a><br/>Synced 5 W&B file(s), 0 media file(s), 0 artifact file(s) and 0 other file(s)"
            ]
          },
          "metadata": {}
        },
        {
          "output_type": "display_data",
          "data": {
            "text/plain": [
              "<IPython.core.display.HTML object>"
            ],
            "text/html": [
              "Find logs at: <code>./wandb/run-20230319_184605-vl2pjw9i/logs</code>"
            ]
          },
          "metadata": {}
        },
        {
          "output_type": "stream",
          "name": "stderr",
          "text": [
            "\u001b[34m\u001b[1mwandb\u001b[0m: \u001b[32m\u001b[41mERROR\u001b[0m Run vl2pjw9i errored: IndexError('index 1 is out of bounds for axis 0 with size 1')\n",
            "\u001b[34m\u001b[1mwandb\u001b[0m: \u001b[32m\u001b[41mERROR\u001b[0m Detected 5 failed runs in a row at start, killing sweep.\n",
            "\u001b[34m\u001b[1mwandb\u001b[0m: To change this value set WANDB_AGENT_MAX_INITIAL_FAILURES=val\n"
          ]
        },
        {
          "output_type": "stream",
          "name": "stdout",
          "text": [
            "Error in callback <function _WandbInit._pause_backend at 0x7fc72313d280> (for post_run_cell):\n"
          ]
        },
        {
          "output_type": "error",
          "ename": "BrokenPipeError",
          "evalue": "ignored",
          "traceback": [
            "\u001b[0;31m---------------------------------------------------------------------------\u001b[0m",
            "\u001b[0;31mBrokenPipeError\u001b[0m                           Traceback (most recent call last)",
            "\u001b[0;32m/usr/local/lib/python3.9/dist-packages/backcall/backcall.py\u001b[0m in \u001b[0;36madapted\u001b[0;34m(*args, **kwargs)\u001b[0m\n\u001b[1;32m    102\u001b[0m                 \u001b[0mkwargs\u001b[0m\u001b[0;34m.\u001b[0m\u001b[0mpop\u001b[0m\u001b[0;34m(\u001b[0m\u001b[0mname\u001b[0m\u001b[0;34m)\u001b[0m\u001b[0;34m\u001b[0m\u001b[0;34m\u001b[0m\u001b[0m\n\u001b[1;32m    103\u001b[0m \u001b[0;31m#            print(args, kwargs, unmatched_pos, cut_positional, unmatched_kw)\u001b[0m\u001b[0;34m\u001b[0m\u001b[0;34m\u001b[0m\u001b[0m\n\u001b[0;32m--> 104\u001b[0;31m             \u001b[0;32mreturn\u001b[0m \u001b[0mcallback\u001b[0m\u001b[0;34m(\u001b[0m\u001b[0;34m*\u001b[0m\u001b[0margs\u001b[0m\u001b[0;34m,\u001b[0m \u001b[0;34m**\u001b[0m\u001b[0mkwargs\u001b[0m\u001b[0;34m)\u001b[0m\u001b[0;34m\u001b[0m\u001b[0;34m\u001b[0m\u001b[0m\n\u001b[0m\u001b[1;32m    105\u001b[0m \u001b[0;34m\u001b[0m\u001b[0m\n\u001b[1;32m    106\u001b[0m         \u001b[0;32mreturn\u001b[0m \u001b[0madapted\u001b[0m\u001b[0;34m\u001b[0m\u001b[0;34m\u001b[0m\u001b[0m\n",
            "\u001b[0;32m/usr/local/lib/python3.9/dist-packages/wandb/sdk/wandb_init.py\u001b[0m in \u001b[0;36m_pause_backend\u001b[0;34m(self)\u001b[0m\n\u001b[1;32m    416\u001b[0m         \u001b[0;32mif\u001b[0m \u001b[0mself\u001b[0m\u001b[0;34m.\u001b[0m\u001b[0mbackend\u001b[0m\u001b[0;34m.\u001b[0m\u001b[0minterface\u001b[0m \u001b[0;32mis\u001b[0m \u001b[0;32mnot\u001b[0m \u001b[0;32mNone\u001b[0m\u001b[0;34m:\u001b[0m\u001b[0;34m\u001b[0m\u001b[0;34m\u001b[0m\u001b[0m\n\u001b[1;32m    417\u001b[0m             \u001b[0mlogger\u001b[0m\u001b[0;34m.\u001b[0m\u001b[0minfo\u001b[0m\u001b[0;34m(\u001b[0m\u001b[0;34m\"pausing backend\"\u001b[0m\u001b[0;34m)\u001b[0m  \u001b[0;31m# type: ignore\u001b[0m\u001b[0;34m\u001b[0m\u001b[0;34m\u001b[0m\u001b[0m\n\u001b[0;32m--> 418\u001b[0;31m             \u001b[0mself\u001b[0m\u001b[0;34m.\u001b[0m\u001b[0mbackend\u001b[0m\u001b[0;34m.\u001b[0m\u001b[0minterface\u001b[0m\u001b[0;34m.\u001b[0m\u001b[0mpublish_pause\u001b[0m\u001b[0;34m(\u001b[0m\u001b[0;34m)\u001b[0m\u001b[0;34m\u001b[0m\u001b[0;34m\u001b[0m\u001b[0m\n\u001b[0m\u001b[1;32m    419\u001b[0m \u001b[0;34m\u001b[0m\u001b[0m\n\u001b[1;32m    420\u001b[0m     \u001b[0;32mdef\u001b[0m \u001b[0m_resume_backend\u001b[0m\u001b[0;34m(\u001b[0m\u001b[0mself\u001b[0m\u001b[0;34m)\u001b[0m \u001b[0;34m->\u001b[0m \u001b[0;32mNone\u001b[0m\u001b[0;34m:\u001b[0m\u001b[0;34m\u001b[0m\u001b[0;34m\u001b[0m\u001b[0m\n",
            "\u001b[0;32m/usr/local/lib/python3.9/dist-packages/wandb/sdk/interface/interface.py\u001b[0m in \u001b[0;36mpublish_pause\u001b[0;34m(self)\u001b[0m\n\u001b[1;32m    663\u001b[0m     \u001b[0;32mdef\u001b[0m \u001b[0mpublish_pause\u001b[0m\u001b[0;34m(\u001b[0m\u001b[0mself\u001b[0m\u001b[0;34m)\u001b[0m \u001b[0;34m->\u001b[0m \u001b[0;32mNone\u001b[0m\u001b[0;34m:\u001b[0m\u001b[0;34m\u001b[0m\u001b[0;34m\u001b[0m\u001b[0m\n\u001b[1;32m    664\u001b[0m         \u001b[0mpause\u001b[0m \u001b[0;34m=\u001b[0m \u001b[0mpb\u001b[0m\u001b[0;34m.\u001b[0m\u001b[0mPauseRequest\u001b[0m\u001b[0;34m(\u001b[0m\u001b[0;34m)\u001b[0m\u001b[0;34m\u001b[0m\u001b[0;34m\u001b[0m\u001b[0m\n\u001b[0;32m--> 665\u001b[0;31m         \u001b[0mself\u001b[0m\u001b[0;34m.\u001b[0m\u001b[0m_publish_pause\u001b[0m\u001b[0;34m(\u001b[0m\u001b[0mpause\u001b[0m\u001b[0;34m)\u001b[0m\u001b[0;34m\u001b[0m\u001b[0;34m\u001b[0m\u001b[0m\n\u001b[0m\u001b[1;32m    666\u001b[0m \u001b[0;34m\u001b[0m\u001b[0m\n\u001b[1;32m    667\u001b[0m     \u001b[0;34m@\u001b[0m\u001b[0mabstractmethod\u001b[0m\u001b[0;34m\u001b[0m\u001b[0;34m\u001b[0m\u001b[0m\n",
            "\u001b[0;32m/usr/local/lib/python3.9/dist-packages/wandb/sdk/interface/interface_shared.py\u001b[0m in \u001b[0;36m_publish_pause\u001b[0;34m(self, pause)\u001b[0m\n\u001b[1;32m    338\u001b[0m     \u001b[0;32mdef\u001b[0m \u001b[0m_publish_pause\u001b[0m\u001b[0;34m(\u001b[0m\u001b[0mself\u001b[0m\u001b[0;34m,\u001b[0m \u001b[0mpause\u001b[0m\u001b[0;34m:\u001b[0m \u001b[0mpb\u001b[0m\u001b[0;34m.\u001b[0m\u001b[0mPauseRequest\u001b[0m\u001b[0;34m)\u001b[0m \u001b[0;34m->\u001b[0m \u001b[0;32mNone\u001b[0m\u001b[0;34m:\u001b[0m\u001b[0;34m\u001b[0m\u001b[0;34m\u001b[0m\u001b[0m\n\u001b[1;32m    339\u001b[0m         \u001b[0mrec\u001b[0m \u001b[0;34m=\u001b[0m \u001b[0mself\u001b[0m\u001b[0;34m.\u001b[0m\u001b[0m_make_request\u001b[0m\u001b[0;34m(\u001b[0m\u001b[0mpause\u001b[0m\u001b[0;34m=\u001b[0m\u001b[0mpause\u001b[0m\u001b[0;34m)\u001b[0m\u001b[0;34m\u001b[0m\u001b[0;34m\u001b[0m\u001b[0m\n\u001b[0;32m--> 340\u001b[0;31m         \u001b[0mself\u001b[0m\u001b[0;34m.\u001b[0m\u001b[0m_publish\u001b[0m\u001b[0;34m(\u001b[0m\u001b[0mrec\u001b[0m\u001b[0;34m)\u001b[0m\u001b[0;34m\u001b[0m\u001b[0;34m\u001b[0m\u001b[0m\n\u001b[0m\u001b[1;32m    341\u001b[0m \u001b[0;34m\u001b[0m\u001b[0m\n\u001b[1;32m    342\u001b[0m     \u001b[0;32mdef\u001b[0m \u001b[0m_publish_resume\u001b[0m\u001b[0;34m(\u001b[0m\u001b[0mself\u001b[0m\u001b[0;34m,\u001b[0m \u001b[0mresume\u001b[0m\u001b[0;34m:\u001b[0m \u001b[0mpb\u001b[0m\u001b[0;34m.\u001b[0m\u001b[0mResumeRequest\u001b[0m\u001b[0;34m)\u001b[0m \u001b[0;34m->\u001b[0m \u001b[0;32mNone\u001b[0m\u001b[0;34m:\u001b[0m\u001b[0;34m\u001b[0m\u001b[0;34m\u001b[0m\u001b[0m\n",
            "\u001b[0;32m/usr/local/lib/python3.9/dist-packages/wandb/sdk/interface/interface_sock.py\u001b[0m in \u001b[0;36m_publish\u001b[0;34m(self, record, local)\u001b[0m\n\u001b[1;32m     49\u001b[0m     \u001b[0;32mdef\u001b[0m \u001b[0m_publish\u001b[0m\u001b[0;34m(\u001b[0m\u001b[0mself\u001b[0m\u001b[0;34m,\u001b[0m \u001b[0mrecord\u001b[0m\u001b[0;34m:\u001b[0m \u001b[0;34m\"pb.Record\"\u001b[0m\u001b[0;34m,\u001b[0m \u001b[0mlocal\u001b[0m\u001b[0;34m:\u001b[0m \u001b[0mOptional\u001b[0m\u001b[0;34m[\u001b[0m\u001b[0mbool\u001b[0m\u001b[0;34m]\u001b[0m \u001b[0;34m=\u001b[0m \u001b[0;32mNone\u001b[0m\u001b[0;34m)\u001b[0m \u001b[0;34m->\u001b[0m \u001b[0;32mNone\u001b[0m\u001b[0;34m:\u001b[0m\u001b[0;34m\u001b[0m\u001b[0;34m\u001b[0m\u001b[0m\n\u001b[1;32m     50\u001b[0m         \u001b[0mself\u001b[0m\u001b[0;34m.\u001b[0m\u001b[0m_assign\u001b[0m\u001b[0;34m(\u001b[0m\u001b[0mrecord\u001b[0m\u001b[0;34m)\u001b[0m\u001b[0;34m\u001b[0m\u001b[0;34m\u001b[0m\u001b[0m\n\u001b[0;32m---> 51\u001b[0;31m         \u001b[0mself\u001b[0m\u001b[0;34m.\u001b[0m\u001b[0m_sock_client\u001b[0m\u001b[0;34m.\u001b[0m\u001b[0msend_record_publish\u001b[0m\u001b[0;34m(\u001b[0m\u001b[0mrecord\u001b[0m\u001b[0;34m)\u001b[0m\u001b[0;34m\u001b[0m\u001b[0;34m\u001b[0m\u001b[0m\n\u001b[0m\u001b[1;32m     52\u001b[0m \u001b[0;34m\u001b[0m\u001b[0m\n\u001b[1;32m     53\u001b[0m     def _communicate_async(\n",
            "\u001b[0;32m/usr/local/lib/python3.9/dist-packages/wandb/sdk/lib/sock_client.py\u001b[0m in \u001b[0;36msend_record_publish\u001b[0;34m(self, record)\u001b[0m\n\u001b[1;32m    219\u001b[0m         \u001b[0mserver_req\u001b[0m \u001b[0;34m=\u001b[0m \u001b[0mspb\u001b[0m\u001b[0;34m.\u001b[0m\u001b[0mServerRequest\u001b[0m\u001b[0;34m(\u001b[0m\u001b[0;34m)\u001b[0m\u001b[0;34m\u001b[0m\u001b[0;34m\u001b[0m\u001b[0m\n\u001b[1;32m    220\u001b[0m         \u001b[0mserver_req\u001b[0m\u001b[0;34m.\u001b[0m\u001b[0mrecord_publish\u001b[0m\u001b[0;34m.\u001b[0m\u001b[0mCopyFrom\u001b[0m\u001b[0;34m(\u001b[0m\u001b[0mrecord\u001b[0m\u001b[0;34m)\u001b[0m\u001b[0;34m\u001b[0m\u001b[0;34m\u001b[0m\u001b[0m\n\u001b[0;32m--> 221\u001b[0;31m         \u001b[0mself\u001b[0m\u001b[0;34m.\u001b[0m\u001b[0msend_server_request\u001b[0m\u001b[0;34m(\u001b[0m\u001b[0mserver_req\u001b[0m\u001b[0;34m)\u001b[0m\u001b[0;34m\u001b[0m\u001b[0;34m\u001b[0m\u001b[0m\n\u001b[0m\u001b[1;32m    222\u001b[0m \u001b[0;34m\u001b[0m\u001b[0m\n\u001b[1;32m    223\u001b[0m     \u001b[0;32mdef\u001b[0m \u001b[0m_extract_packet_bytes\u001b[0m\u001b[0;34m(\u001b[0m\u001b[0mself\u001b[0m\u001b[0;34m)\u001b[0m \u001b[0;34m->\u001b[0m \u001b[0mOptional\u001b[0m\u001b[0;34m[\u001b[0m\u001b[0mbytes\u001b[0m\u001b[0;34m]\u001b[0m\u001b[0;34m:\u001b[0m\u001b[0;34m\u001b[0m\u001b[0;34m\u001b[0m\u001b[0m\n",
            "\u001b[0;32m/usr/local/lib/python3.9/dist-packages/wandb/sdk/lib/sock_client.py\u001b[0m in \u001b[0;36msend_server_request\u001b[0;34m(self, msg)\u001b[0m\n\u001b[1;32m    153\u001b[0m \u001b[0;34m\u001b[0m\u001b[0m\n\u001b[1;32m    154\u001b[0m     \u001b[0;32mdef\u001b[0m \u001b[0msend_server_request\u001b[0m\u001b[0;34m(\u001b[0m\u001b[0mself\u001b[0m\u001b[0;34m,\u001b[0m \u001b[0mmsg\u001b[0m\u001b[0;34m:\u001b[0m \u001b[0mAny\u001b[0m\u001b[0;34m)\u001b[0m \u001b[0;34m->\u001b[0m \u001b[0;32mNone\u001b[0m\u001b[0;34m:\u001b[0m\u001b[0;34m\u001b[0m\u001b[0;34m\u001b[0m\u001b[0m\n\u001b[0;32m--> 155\u001b[0;31m         \u001b[0mself\u001b[0m\u001b[0;34m.\u001b[0m\u001b[0m_send_message\u001b[0m\u001b[0;34m(\u001b[0m\u001b[0mmsg\u001b[0m\u001b[0;34m)\u001b[0m\u001b[0;34m\u001b[0m\u001b[0;34m\u001b[0m\u001b[0m\n\u001b[0m\u001b[1;32m    156\u001b[0m \u001b[0;34m\u001b[0m\u001b[0m\n\u001b[1;32m    157\u001b[0m     \u001b[0;32mdef\u001b[0m \u001b[0msend_server_response\u001b[0m\u001b[0;34m(\u001b[0m\u001b[0mself\u001b[0m\u001b[0;34m,\u001b[0m \u001b[0mmsg\u001b[0m\u001b[0;34m:\u001b[0m \u001b[0mAny\u001b[0m\u001b[0;34m)\u001b[0m \u001b[0;34m->\u001b[0m \u001b[0;32mNone\u001b[0m\u001b[0;34m:\u001b[0m\u001b[0;34m\u001b[0m\u001b[0;34m\u001b[0m\u001b[0m\n",
            "\u001b[0;32m/usr/local/lib/python3.9/dist-packages/wandb/sdk/lib/sock_client.py\u001b[0m in \u001b[0;36m_send_message\u001b[0;34m(self, msg)\u001b[0m\n\u001b[1;32m    150\u001b[0m         \u001b[0mheader\u001b[0m \u001b[0;34m=\u001b[0m \u001b[0mstruct\u001b[0m\u001b[0;34m.\u001b[0m\u001b[0mpack\u001b[0m\u001b[0;34m(\u001b[0m\u001b[0;34m\"<BI\"\u001b[0m\u001b[0;34m,\u001b[0m \u001b[0mord\u001b[0m\u001b[0;34m(\u001b[0m\u001b[0;34m\"W\"\u001b[0m\u001b[0;34m)\u001b[0m\u001b[0;34m,\u001b[0m \u001b[0mraw_size\u001b[0m\u001b[0;34m)\u001b[0m\u001b[0;34m\u001b[0m\u001b[0;34m\u001b[0m\u001b[0m\n\u001b[1;32m    151\u001b[0m         \u001b[0;32mwith\u001b[0m \u001b[0mself\u001b[0m\u001b[0;34m.\u001b[0m\u001b[0m_lock\u001b[0m\u001b[0;34m:\u001b[0m\u001b[0;34m\u001b[0m\u001b[0;34m\u001b[0m\u001b[0m\n\u001b[0;32m--> 152\u001b[0;31m             \u001b[0mself\u001b[0m\u001b[0;34m.\u001b[0m\u001b[0m_sendall_with_error_handle\u001b[0m\u001b[0;34m(\u001b[0m\u001b[0mheader\u001b[0m \u001b[0;34m+\u001b[0m \u001b[0mdata\u001b[0m\u001b[0;34m)\u001b[0m\u001b[0;34m\u001b[0m\u001b[0;34m\u001b[0m\u001b[0m\n\u001b[0m\u001b[1;32m    153\u001b[0m \u001b[0;34m\u001b[0m\u001b[0m\n\u001b[1;32m    154\u001b[0m     \u001b[0;32mdef\u001b[0m \u001b[0msend_server_request\u001b[0m\u001b[0;34m(\u001b[0m\u001b[0mself\u001b[0m\u001b[0;34m,\u001b[0m \u001b[0mmsg\u001b[0m\u001b[0;34m:\u001b[0m \u001b[0mAny\u001b[0m\u001b[0;34m)\u001b[0m \u001b[0;34m->\u001b[0m \u001b[0;32mNone\u001b[0m\u001b[0;34m:\u001b[0m\u001b[0;34m\u001b[0m\u001b[0;34m\u001b[0m\u001b[0m\n",
            "\u001b[0;32m/usr/local/lib/python3.9/dist-packages/wandb/sdk/lib/sock_client.py\u001b[0m in \u001b[0;36m_sendall_with_error_handle\u001b[0;34m(self, data)\u001b[0m\n\u001b[1;32m    128\u001b[0m             \u001b[0mstart_time\u001b[0m \u001b[0;34m=\u001b[0m \u001b[0mtime\u001b[0m\u001b[0;34m.\u001b[0m\u001b[0mmonotonic\u001b[0m\u001b[0;34m(\u001b[0m\u001b[0;34m)\u001b[0m\u001b[0;34m\u001b[0m\u001b[0;34m\u001b[0m\u001b[0m\n\u001b[1;32m    129\u001b[0m             \u001b[0;32mtry\u001b[0m\u001b[0;34m:\u001b[0m\u001b[0;34m\u001b[0m\u001b[0;34m\u001b[0m\u001b[0m\n\u001b[0;32m--> 130\u001b[0;31m                 \u001b[0msent\u001b[0m \u001b[0;34m=\u001b[0m \u001b[0mself\u001b[0m\u001b[0;34m.\u001b[0m\u001b[0m_sock\u001b[0m\u001b[0;34m.\u001b[0m\u001b[0msend\u001b[0m\u001b[0;34m(\u001b[0m\u001b[0mdata\u001b[0m\u001b[0;34m)\u001b[0m\u001b[0;34m\u001b[0m\u001b[0;34m\u001b[0m\u001b[0m\n\u001b[0m\u001b[1;32m    131\u001b[0m                 \u001b[0;31m# sent equal to 0 indicates a closed socket\u001b[0m\u001b[0;34m\u001b[0m\u001b[0;34m\u001b[0m\u001b[0m\n\u001b[1;32m    132\u001b[0m                 \u001b[0;32mif\u001b[0m \u001b[0msent\u001b[0m \u001b[0;34m==\u001b[0m \u001b[0;36m0\u001b[0m\u001b[0;34m:\u001b[0m\u001b[0;34m\u001b[0m\u001b[0;34m\u001b[0m\u001b[0m\n",
            "\u001b[0;31mBrokenPipeError\u001b[0m: [Errno 32] Broken pipe"
          ]
        }
      ],
      "source": [
        "sweep_configuration={'name':'EE22s037','method':'random',\n",
        "                     'metric':{'name':'val_acc','goal':'maximize'},\n",
        "                     'parameters':{\n",
        "                                   'epochs':{'values':[4,5,10]},\n",
        "                                   'hidden_layers':{'values':[3,4,5]},\n",
        "                                   'numbers_neurons':{'values':[16,32,64]},\n",
        "                                   'learning_rate':{'values':[1e-3,1e-4]},\n",
        "                                   'optimizers':{'values':['sgd','mgd','nag','rmsprop','adam','nadam']},\n",
        "                                   'batch_size':{'values':[16,32,64]},\n",
        "                                   'wt_init':{'values':['random','xavier']},\n",
        "                                   'activation':{'values':['sigmoid','tanh','ReLU']},\n",
        "                                   'L2':{'values':[0,0.0005,0.5]}\n",
        "                                   }\n",
        "    \n",
        "                     }\n",
        "sweep_id=wandb.sweep(sweep=sweep_configuration,entity=\"amanvb-9213\",project='DL-assignment1')\n",
        "\n",
        "\n",
        "\n",
        "def tune():\n",
        "  wandb.init()\n",
        "  epochs=wandb.config.epochs\n",
        "  h_layers=wandb.config.hidden_layers\n",
        "  nodes=wandb.config.numbers_neurons\n",
        "  lr=wandb.config.learning_rate\n",
        "  optimizer=wandb.config.optimizers\n",
        "  batch_size=wandb.config.batch_size\n",
        "  init_mode=wandb.config.wt_init\n",
        "  activation=wandb.config.activation\n",
        "  l2=wandb.config.L2\n",
        "\n",
        "  run_name=\"ep_{}_hl_{}_nodes_{}_lr_{}_opti_{}_bsize_{}_mode_{}_acf_{}\".format(epochs,h_layers,nodes,lr,optimizer,batch_size,init_mode,activation,l2)\n",
        "  print(\"run_name:\",run_name)\n",
        "\n",
        "  # train_Loss=[]\n",
        "  train_Acc=[]\n",
        "  val_Loss=[]\n",
        "  val_Acc=[]\n",
        "  nodes=network_size(h_layers,nodes)\n",
        "  theta=init_param(nodes,init_mode)\n",
        "  update=updatess(nodes)\n",
        "  # for e in range(epochs):\n",
        "  theta,loss=gradient_decent(optimizer,batch_size,epochs,lr,theta,activation,l2,update)\n",
        "\n",
        "\n",
        "\n",
        "    ## finding loss on training data\n",
        "  train_Loss=loss\n",
        "    # y_predl,H,A=feed_forward(X,theta,activation)\n",
        "    # train_loss=loss_fun(y_train_one_hot,y_predl,theta,l2)\n",
        "    # train_Loss.append(train_loss)\n",
        "    ##train accuracy\n",
        "  y_preda,H,A=feed_forward(X,theta,activation)\n",
        "  train_acc=accuracy(y_train_one_hot,y_preda)\n",
        "  train_Acc.append(train_acc)\n",
        "\n",
        "\n",
        "\n",
        "    ##finding validation loss\n",
        "  y_pred,H,A=feed_forward(validation_X,theta,activation)\n",
        "  val_loss=loss_fun(y_validation_one_hot,y_pred,theta,l2)\n",
        "  val_Loss.append(val_loss)\n",
        "\n",
        "    ##validation accuracy\n",
        "  y_predva,H,A=feed_forward(validation_X,theta,activation)\n",
        "  val_acc=accuracy(y_validation_one_hot,y_predva)\n",
        "  val_Acc.append(val_acc)\n",
        "  wandb.log({\n",
        "        # 'epoch': e, \n",
        "        'train_acc': train_acc,\n",
        "        'train_loss': train_Loss,  \n",
        "        'val_acc': val_acc, \n",
        "        'val_loss': val_loss\n",
        "      })\n",
        "  print(\"max__train_accuracy:\",np.max(train_Acc),\"%\")\n",
        "  print(\"max__validation_accuracy:\",np.max(val_Acc),\"%\")\n",
        "  print(\"min_train_loss:\",np.min(train_Loss))\n",
        "  print(\"min_validation_loss:\",np.min(val_Loss))\n",
        "  plt.plot(train_Loss, 'r', label=\"Training loss\")\n",
        "  plt.plot(val_Loss, 'lime', label=\"Validation loss\")\n",
        "  plt.title(\"Training and Validation Loss vs Number of Epochs\", size=15)\n",
        "  plt.xlabel(\"Number of epochs\", size=15)\n",
        "  plt.ylabel(\"Loss\", size=15)\n",
        "  plt.legend()\n",
        "  plt.show()  \n",
        "  wandb.run.name = run_name\n",
        "  wandb.run.save()\n",
        "  wandb.run.finish()\n",
        "  \n",
        "\n",
        "wandb.agent(sweep_id,function=tune,count=20)\n",
        "\n",
        "\n",
        "\n",
        "\n",
        "\n",
        "\n",
        "\n",
        "\n",
        "\n",
        "\n",
        "\n",
        "\n",
        "\n"
      ]
    }
  ],
  "metadata": {
    "colab": {
      "provenance": [],
      "authorship_tag": "ABX9TyPCjOsZ529SWjAUtURyEvSz",
      "include_colab_link": true
    },
    "kernelspec": {
      "display_name": "Python 3",
      "name": "python3"
    },
    "language_info": {
      "name": "python"
    },
    "widgets": {
      "application/vnd.jupyter.widget-state+json": {
        "073cffe67b1c4adc845f978c53e7c042": {
          "model_module": "@jupyter-widgets/controls",
          "model_name": "VBoxModel",
          "model_module_version": "1.5.0",
          "state": {
            "_dom_classes": [],
            "_model_module": "@jupyter-widgets/controls",
            "_model_module_version": "1.5.0",
            "_model_name": "VBoxModel",
            "_view_count": null,
            "_view_module": "@jupyter-widgets/controls",
            "_view_module_version": "1.5.0",
            "_view_name": "VBoxView",
            "box_style": "",
            "children": [
              "IPY_MODEL_9a28040537c74009bbc2a8d0c296607a",
              "IPY_MODEL_247400e3297d433e8bfcb807542b5876"
            ],
            "layout": "IPY_MODEL_9a32ac3a6f90463e94d90cdf9a6bfe25"
          }
        },
        "9a28040537c74009bbc2a8d0c296607a": {
          "model_module": "@jupyter-widgets/controls",
          "model_name": "LabelModel",
          "model_module_version": "1.5.0",
          "state": {
            "_dom_classes": [],
            "_model_module": "@jupyter-widgets/controls",
            "_model_module_version": "1.5.0",
            "_model_name": "LabelModel",
            "_view_count": null,
            "_view_module": "@jupyter-widgets/controls",
            "_view_module_version": "1.5.0",
            "_view_name": "LabelView",
            "description": "",
            "description_tooltip": null,
            "layout": "IPY_MODEL_7fc5cf6246ae48b6bff73b6610d2d611",
            "placeholder": "​",
            "style": "IPY_MODEL_11a60398184147f6acc7a656e3e5f3b0",
            "value": "0.001 MB of 0.001 MB uploaded (0.000 MB deduped)\r"
          }
        },
        "247400e3297d433e8bfcb807542b5876": {
          "model_module": "@jupyter-widgets/controls",
          "model_name": "FloatProgressModel",
          "model_module_version": "1.5.0",
          "state": {
            "_dom_classes": [],
            "_model_module": "@jupyter-widgets/controls",
            "_model_module_version": "1.5.0",
            "_model_name": "FloatProgressModel",
            "_view_count": null,
            "_view_module": "@jupyter-widgets/controls",
            "_view_module_version": "1.5.0",
            "_view_name": "ProgressView",
            "bar_style": "",
            "description": "",
            "description_tooltip": null,
            "layout": "IPY_MODEL_e921cecb62e5443bb20e0717595073f0",
            "max": 1,
            "min": 0,
            "orientation": "horizontal",
            "style": "IPY_MODEL_a25e8eacc0f24de6b5ec0ef720ce1171",
            "value": 1
          }
        },
        "9a32ac3a6f90463e94d90cdf9a6bfe25": {
          "model_module": "@jupyter-widgets/base",
          "model_name": "LayoutModel",
          "model_module_version": "1.2.0",
          "state": {
            "_model_module": "@jupyter-widgets/base",
            "_model_module_version": "1.2.0",
            "_model_name": "LayoutModel",
            "_view_count": null,
            "_view_module": "@jupyter-widgets/base",
            "_view_module_version": "1.2.0",
            "_view_name": "LayoutView",
            "align_content": null,
            "align_items": null,
            "align_self": null,
            "border": null,
            "bottom": null,
            "display": null,
            "flex": null,
            "flex_flow": null,
            "grid_area": null,
            "grid_auto_columns": null,
            "grid_auto_flow": null,
            "grid_auto_rows": null,
            "grid_column": null,
            "grid_gap": null,
            "grid_row": null,
            "grid_template_areas": null,
            "grid_template_columns": null,
            "grid_template_rows": null,
            "height": null,
            "justify_content": null,
            "justify_items": null,
            "left": null,
            "margin": null,
            "max_height": null,
            "max_width": null,
            "min_height": null,
            "min_width": null,
            "object_fit": null,
            "object_position": null,
            "order": null,
            "overflow": null,
            "overflow_x": null,
            "overflow_y": null,
            "padding": null,
            "right": null,
            "top": null,
            "visibility": null,
            "width": null
          }
        },
        "7fc5cf6246ae48b6bff73b6610d2d611": {
          "model_module": "@jupyter-widgets/base",
          "model_name": "LayoutModel",
          "model_module_version": "1.2.0",
          "state": {
            "_model_module": "@jupyter-widgets/base",
            "_model_module_version": "1.2.0",
            "_model_name": "LayoutModel",
            "_view_count": null,
            "_view_module": "@jupyter-widgets/base",
            "_view_module_version": "1.2.0",
            "_view_name": "LayoutView",
            "align_content": null,
            "align_items": null,
            "align_self": null,
            "border": null,
            "bottom": null,
            "display": null,
            "flex": null,
            "flex_flow": null,
            "grid_area": null,
            "grid_auto_columns": null,
            "grid_auto_flow": null,
            "grid_auto_rows": null,
            "grid_column": null,
            "grid_gap": null,
            "grid_row": null,
            "grid_template_areas": null,
            "grid_template_columns": null,
            "grid_template_rows": null,
            "height": null,
            "justify_content": null,
            "justify_items": null,
            "left": null,
            "margin": null,
            "max_height": null,
            "max_width": null,
            "min_height": null,
            "min_width": null,
            "object_fit": null,
            "object_position": null,
            "order": null,
            "overflow": null,
            "overflow_x": null,
            "overflow_y": null,
            "padding": null,
            "right": null,
            "top": null,
            "visibility": null,
            "width": null
          }
        },
        "11a60398184147f6acc7a656e3e5f3b0": {
          "model_module": "@jupyter-widgets/controls",
          "model_name": "DescriptionStyleModel",
          "model_module_version": "1.5.0",
          "state": {
            "_model_module": "@jupyter-widgets/controls",
            "_model_module_version": "1.5.0",
            "_model_name": "DescriptionStyleModel",
            "_view_count": null,
            "_view_module": "@jupyter-widgets/base",
            "_view_module_version": "1.2.0",
            "_view_name": "StyleView",
            "description_width": ""
          }
        },
        "e921cecb62e5443bb20e0717595073f0": {
          "model_module": "@jupyter-widgets/base",
          "model_name": "LayoutModel",
          "model_module_version": "1.2.0",
          "state": {
            "_model_module": "@jupyter-widgets/base",
            "_model_module_version": "1.2.0",
            "_model_name": "LayoutModel",
            "_view_count": null,
            "_view_module": "@jupyter-widgets/base",
            "_view_module_version": "1.2.0",
            "_view_name": "LayoutView",
            "align_content": null,
            "align_items": null,
            "align_self": null,
            "border": null,
            "bottom": null,
            "display": null,
            "flex": null,
            "flex_flow": null,
            "grid_area": null,
            "grid_auto_columns": null,
            "grid_auto_flow": null,
            "grid_auto_rows": null,
            "grid_column": null,
            "grid_gap": null,
            "grid_row": null,
            "grid_template_areas": null,
            "grid_template_columns": null,
            "grid_template_rows": null,
            "height": null,
            "justify_content": null,
            "justify_items": null,
            "left": null,
            "margin": null,
            "max_height": null,
            "max_width": null,
            "min_height": null,
            "min_width": null,
            "object_fit": null,
            "object_position": null,
            "order": null,
            "overflow": null,
            "overflow_x": null,
            "overflow_y": null,
            "padding": null,
            "right": null,
            "top": null,
            "visibility": null,
            "width": null
          }
        },
        "a25e8eacc0f24de6b5ec0ef720ce1171": {
          "model_module": "@jupyter-widgets/controls",
          "model_name": "ProgressStyleModel",
          "model_module_version": "1.5.0",
          "state": {
            "_model_module": "@jupyter-widgets/controls",
            "_model_module_version": "1.5.0",
            "_model_name": "ProgressStyleModel",
            "_view_count": null,
            "_view_module": "@jupyter-widgets/base",
            "_view_module_version": "1.2.0",
            "_view_name": "StyleView",
            "bar_color": null,
            "description_width": ""
          }
        },
        "a49ac618577445adb0b44127677dc37c": {
          "model_module": "@jupyter-widgets/controls",
          "model_name": "VBoxModel",
          "model_module_version": "1.5.0",
          "state": {
            "_dom_classes": [],
            "_model_module": "@jupyter-widgets/controls",
            "_model_module_version": "1.5.0",
            "_model_name": "VBoxModel",
            "_view_count": null,
            "_view_module": "@jupyter-widgets/controls",
            "_view_module_version": "1.5.0",
            "_view_name": "VBoxView",
            "box_style": "",
            "children": [
              "IPY_MODEL_d97a75b494634eeaac8144b82569779e",
              "IPY_MODEL_e7048e85c78e4f07aca621d47258e24c"
            ],
            "layout": "IPY_MODEL_03c82b5a32164f25b01dd0e2efdabc03"
          }
        },
        "d97a75b494634eeaac8144b82569779e": {
          "model_module": "@jupyter-widgets/controls",
          "model_name": "LabelModel",
          "model_module_version": "1.5.0",
          "state": {
            "_dom_classes": [],
            "_model_module": "@jupyter-widgets/controls",
            "_model_module_version": "1.5.0",
            "_model_name": "LabelModel",
            "_view_count": null,
            "_view_module": "@jupyter-widgets/controls",
            "_view_module_version": "1.5.0",
            "_view_name": "LabelView",
            "description": "",
            "description_tooltip": null,
            "layout": "IPY_MODEL_b17d6fbec9a34f9eb3d94de7973b7129",
            "placeholder": "​",
            "style": "IPY_MODEL_e8708b394909445b800370fef863a937",
            "value": "0.001 MB of 0.001 MB uploaded (0.000 MB deduped)\r"
          }
        },
        "e7048e85c78e4f07aca621d47258e24c": {
          "model_module": "@jupyter-widgets/controls",
          "model_name": "FloatProgressModel",
          "model_module_version": "1.5.0",
          "state": {
            "_dom_classes": [],
            "_model_module": "@jupyter-widgets/controls",
            "_model_module_version": "1.5.0",
            "_model_name": "FloatProgressModel",
            "_view_count": null,
            "_view_module": "@jupyter-widgets/controls",
            "_view_module_version": "1.5.0",
            "_view_name": "ProgressView",
            "bar_style": "",
            "description": "",
            "description_tooltip": null,
            "layout": "IPY_MODEL_34b852b8f8f24b1c8bfa1754167e674c",
            "max": 1,
            "min": 0,
            "orientation": "horizontal",
            "style": "IPY_MODEL_50cf2c55b965469f834bd7518ac5c656",
            "value": 1
          }
        },
        "03c82b5a32164f25b01dd0e2efdabc03": {
          "model_module": "@jupyter-widgets/base",
          "model_name": "LayoutModel",
          "model_module_version": "1.2.0",
          "state": {
            "_model_module": "@jupyter-widgets/base",
            "_model_module_version": "1.2.0",
            "_model_name": "LayoutModel",
            "_view_count": null,
            "_view_module": "@jupyter-widgets/base",
            "_view_module_version": "1.2.0",
            "_view_name": "LayoutView",
            "align_content": null,
            "align_items": null,
            "align_self": null,
            "border": null,
            "bottom": null,
            "display": null,
            "flex": null,
            "flex_flow": null,
            "grid_area": null,
            "grid_auto_columns": null,
            "grid_auto_flow": null,
            "grid_auto_rows": null,
            "grid_column": null,
            "grid_gap": null,
            "grid_row": null,
            "grid_template_areas": null,
            "grid_template_columns": null,
            "grid_template_rows": null,
            "height": null,
            "justify_content": null,
            "justify_items": null,
            "left": null,
            "margin": null,
            "max_height": null,
            "max_width": null,
            "min_height": null,
            "min_width": null,
            "object_fit": null,
            "object_position": null,
            "order": null,
            "overflow": null,
            "overflow_x": null,
            "overflow_y": null,
            "padding": null,
            "right": null,
            "top": null,
            "visibility": null,
            "width": null
          }
        },
        "b17d6fbec9a34f9eb3d94de7973b7129": {
          "model_module": "@jupyter-widgets/base",
          "model_name": "LayoutModel",
          "model_module_version": "1.2.0",
          "state": {
            "_model_module": "@jupyter-widgets/base",
            "_model_module_version": "1.2.0",
            "_model_name": "LayoutModel",
            "_view_count": null,
            "_view_module": "@jupyter-widgets/base",
            "_view_module_version": "1.2.0",
            "_view_name": "LayoutView",
            "align_content": null,
            "align_items": null,
            "align_self": null,
            "border": null,
            "bottom": null,
            "display": null,
            "flex": null,
            "flex_flow": null,
            "grid_area": null,
            "grid_auto_columns": null,
            "grid_auto_flow": null,
            "grid_auto_rows": null,
            "grid_column": null,
            "grid_gap": null,
            "grid_row": null,
            "grid_template_areas": null,
            "grid_template_columns": null,
            "grid_template_rows": null,
            "height": null,
            "justify_content": null,
            "justify_items": null,
            "left": null,
            "margin": null,
            "max_height": null,
            "max_width": null,
            "min_height": null,
            "min_width": null,
            "object_fit": null,
            "object_position": null,
            "order": null,
            "overflow": null,
            "overflow_x": null,
            "overflow_y": null,
            "padding": null,
            "right": null,
            "top": null,
            "visibility": null,
            "width": null
          }
        },
        "e8708b394909445b800370fef863a937": {
          "model_module": "@jupyter-widgets/controls",
          "model_name": "DescriptionStyleModel",
          "model_module_version": "1.5.0",
          "state": {
            "_model_module": "@jupyter-widgets/controls",
            "_model_module_version": "1.5.0",
            "_model_name": "DescriptionStyleModel",
            "_view_count": null,
            "_view_module": "@jupyter-widgets/base",
            "_view_module_version": "1.2.0",
            "_view_name": "StyleView",
            "description_width": ""
          }
        },
        "34b852b8f8f24b1c8bfa1754167e674c": {
          "model_module": "@jupyter-widgets/base",
          "model_name": "LayoutModel",
          "model_module_version": "1.2.0",
          "state": {
            "_model_module": "@jupyter-widgets/base",
            "_model_module_version": "1.2.0",
            "_model_name": "LayoutModel",
            "_view_count": null,
            "_view_module": "@jupyter-widgets/base",
            "_view_module_version": "1.2.0",
            "_view_name": "LayoutView",
            "align_content": null,
            "align_items": null,
            "align_self": null,
            "border": null,
            "bottom": null,
            "display": null,
            "flex": null,
            "flex_flow": null,
            "grid_area": null,
            "grid_auto_columns": null,
            "grid_auto_flow": null,
            "grid_auto_rows": null,
            "grid_column": null,
            "grid_gap": null,
            "grid_row": null,
            "grid_template_areas": null,
            "grid_template_columns": null,
            "grid_template_rows": null,
            "height": null,
            "justify_content": null,
            "justify_items": null,
            "left": null,
            "margin": null,
            "max_height": null,
            "max_width": null,
            "min_height": null,
            "min_width": null,
            "object_fit": null,
            "object_position": null,
            "order": null,
            "overflow": null,
            "overflow_x": null,
            "overflow_y": null,
            "padding": null,
            "right": null,
            "top": null,
            "visibility": null,
            "width": null
          }
        },
        "50cf2c55b965469f834bd7518ac5c656": {
          "model_module": "@jupyter-widgets/controls",
          "model_name": "ProgressStyleModel",
          "model_module_version": "1.5.0",
          "state": {
            "_model_module": "@jupyter-widgets/controls",
            "_model_module_version": "1.5.0",
            "_model_name": "ProgressStyleModel",
            "_view_count": null,
            "_view_module": "@jupyter-widgets/base",
            "_view_module_version": "1.2.0",
            "_view_name": "StyleView",
            "bar_color": null,
            "description_width": ""
          }
        },
        "517e56bdadb347869252f16cb7e1fe00": {
          "model_module": "@jupyter-widgets/controls",
          "model_name": "VBoxModel",
          "model_module_version": "1.5.0",
          "state": {
            "_dom_classes": [],
            "_model_module": "@jupyter-widgets/controls",
            "_model_module_version": "1.5.0",
            "_model_name": "VBoxModel",
            "_view_count": null,
            "_view_module": "@jupyter-widgets/controls",
            "_view_module_version": "1.5.0",
            "_view_name": "VBoxView",
            "box_style": "",
            "children": [
              "IPY_MODEL_60f9a786e6aa45cf896a3d0ed3ec9763",
              "IPY_MODEL_fd2678fc21a242b59d44d73bfe75ca13"
            ],
            "layout": "IPY_MODEL_1e60ecb550114284beabff679eebe235"
          }
        },
        "60f9a786e6aa45cf896a3d0ed3ec9763": {
          "model_module": "@jupyter-widgets/controls",
          "model_name": "LabelModel",
          "model_module_version": "1.5.0",
          "state": {
            "_dom_classes": [],
            "_model_module": "@jupyter-widgets/controls",
            "_model_module_version": "1.5.0",
            "_model_name": "LabelModel",
            "_view_count": null,
            "_view_module": "@jupyter-widgets/controls",
            "_view_module_version": "1.5.0",
            "_view_name": "LabelView",
            "description": "",
            "description_tooltip": null,
            "layout": "IPY_MODEL_dad93295318c458096ac04b70474678e",
            "placeholder": "​",
            "style": "IPY_MODEL_3a6fa228532a4564a06ed8d0532cd6df",
            "value": "0.001 MB of 0.001 MB uploaded (0.000 MB deduped)\r"
          }
        },
        "fd2678fc21a242b59d44d73bfe75ca13": {
          "model_module": "@jupyter-widgets/controls",
          "model_name": "FloatProgressModel",
          "model_module_version": "1.5.0",
          "state": {
            "_dom_classes": [],
            "_model_module": "@jupyter-widgets/controls",
            "_model_module_version": "1.5.0",
            "_model_name": "FloatProgressModel",
            "_view_count": null,
            "_view_module": "@jupyter-widgets/controls",
            "_view_module_version": "1.5.0",
            "_view_name": "ProgressView",
            "bar_style": "",
            "description": "",
            "description_tooltip": null,
            "layout": "IPY_MODEL_bff623bb54544f0ba362add52c857312",
            "max": 1,
            "min": 0,
            "orientation": "horizontal",
            "style": "IPY_MODEL_26b7fc0d9dc74f9799c6eae0579b0f5e",
            "value": 1
          }
        },
        "1e60ecb550114284beabff679eebe235": {
          "model_module": "@jupyter-widgets/base",
          "model_name": "LayoutModel",
          "model_module_version": "1.2.0",
          "state": {
            "_model_module": "@jupyter-widgets/base",
            "_model_module_version": "1.2.0",
            "_model_name": "LayoutModel",
            "_view_count": null,
            "_view_module": "@jupyter-widgets/base",
            "_view_module_version": "1.2.0",
            "_view_name": "LayoutView",
            "align_content": null,
            "align_items": null,
            "align_self": null,
            "border": null,
            "bottom": null,
            "display": null,
            "flex": null,
            "flex_flow": null,
            "grid_area": null,
            "grid_auto_columns": null,
            "grid_auto_flow": null,
            "grid_auto_rows": null,
            "grid_column": null,
            "grid_gap": null,
            "grid_row": null,
            "grid_template_areas": null,
            "grid_template_columns": null,
            "grid_template_rows": null,
            "height": null,
            "justify_content": null,
            "justify_items": null,
            "left": null,
            "margin": null,
            "max_height": null,
            "max_width": null,
            "min_height": null,
            "min_width": null,
            "object_fit": null,
            "object_position": null,
            "order": null,
            "overflow": null,
            "overflow_x": null,
            "overflow_y": null,
            "padding": null,
            "right": null,
            "top": null,
            "visibility": null,
            "width": null
          }
        },
        "dad93295318c458096ac04b70474678e": {
          "model_module": "@jupyter-widgets/base",
          "model_name": "LayoutModel",
          "model_module_version": "1.2.0",
          "state": {
            "_model_module": "@jupyter-widgets/base",
            "_model_module_version": "1.2.0",
            "_model_name": "LayoutModel",
            "_view_count": null,
            "_view_module": "@jupyter-widgets/base",
            "_view_module_version": "1.2.0",
            "_view_name": "LayoutView",
            "align_content": null,
            "align_items": null,
            "align_self": null,
            "border": null,
            "bottom": null,
            "display": null,
            "flex": null,
            "flex_flow": null,
            "grid_area": null,
            "grid_auto_columns": null,
            "grid_auto_flow": null,
            "grid_auto_rows": null,
            "grid_column": null,
            "grid_gap": null,
            "grid_row": null,
            "grid_template_areas": null,
            "grid_template_columns": null,
            "grid_template_rows": null,
            "height": null,
            "justify_content": null,
            "justify_items": null,
            "left": null,
            "margin": null,
            "max_height": null,
            "max_width": null,
            "min_height": null,
            "min_width": null,
            "object_fit": null,
            "object_position": null,
            "order": null,
            "overflow": null,
            "overflow_x": null,
            "overflow_y": null,
            "padding": null,
            "right": null,
            "top": null,
            "visibility": null,
            "width": null
          }
        },
        "3a6fa228532a4564a06ed8d0532cd6df": {
          "model_module": "@jupyter-widgets/controls",
          "model_name": "DescriptionStyleModel",
          "model_module_version": "1.5.0",
          "state": {
            "_model_module": "@jupyter-widgets/controls",
            "_model_module_version": "1.5.0",
            "_model_name": "DescriptionStyleModel",
            "_view_count": null,
            "_view_module": "@jupyter-widgets/base",
            "_view_module_version": "1.2.0",
            "_view_name": "StyleView",
            "description_width": ""
          }
        },
        "bff623bb54544f0ba362add52c857312": {
          "model_module": "@jupyter-widgets/base",
          "model_name": "LayoutModel",
          "model_module_version": "1.2.0",
          "state": {
            "_model_module": "@jupyter-widgets/base",
            "_model_module_version": "1.2.0",
            "_model_name": "LayoutModel",
            "_view_count": null,
            "_view_module": "@jupyter-widgets/base",
            "_view_module_version": "1.2.0",
            "_view_name": "LayoutView",
            "align_content": null,
            "align_items": null,
            "align_self": null,
            "border": null,
            "bottom": null,
            "display": null,
            "flex": null,
            "flex_flow": null,
            "grid_area": null,
            "grid_auto_columns": null,
            "grid_auto_flow": null,
            "grid_auto_rows": null,
            "grid_column": null,
            "grid_gap": null,
            "grid_row": null,
            "grid_template_areas": null,
            "grid_template_columns": null,
            "grid_template_rows": null,
            "height": null,
            "justify_content": null,
            "justify_items": null,
            "left": null,
            "margin": null,
            "max_height": null,
            "max_width": null,
            "min_height": null,
            "min_width": null,
            "object_fit": null,
            "object_position": null,
            "order": null,
            "overflow": null,
            "overflow_x": null,
            "overflow_y": null,
            "padding": null,
            "right": null,
            "top": null,
            "visibility": null,
            "width": null
          }
        },
        "26b7fc0d9dc74f9799c6eae0579b0f5e": {
          "model_module": "@jupyter-widgets/controls",
          "model_name": "ProgressStyleModel",
          "model_module_version": "1.5.0",
          "state": {
            "_model_module": "@jupyter-widgets/controls",
            "_model_module_version": "1.5.0",
            "_model_name": "ProgressStyleModel",
            "_view_count": null,
            "_view_module": "@jupyter-widgets/base",
            "_view_module_version": "1.2.0",
            "_view_name": "StyleView",
            "bar_color": null,
            "description_width": ""
          }
        },
        "baa2a120a8a14cbc993d98fb1f78fb23": {
          "model_module": "@jupyter-widgets/controls",
          "model_name": "VBoxModel",
          "model_module_version": "1.5.0",
          "state": {
            "_dom_classes": [],
            "_model_module": "@jupyter-widgets/controls",
            "_model_module_version": "1.5.0",
            "_model_name": "VBoxModel",
            "_view_count": null,
            "_view_module": "@jupyter-widgets/controls",
            "_view_module_version": "1.5.0",
            "_view_name": "VBoxView",
            "box_style": "",
            "children": [
              "IPY_MODEL_2a866dd0db2a4ec59afc40675a1e1343",
              "IPY_MODEL_c104e44c2df843d99184262db98b4aaf"
            ],
            "layout": "IPY_MODEL_2e67dd32d4b54aaaa5a223cc1b03454a"
          }
        },
        "2a866dd0db2a4ec59afc40675a1e1343": {
          "model_module": "@jupyter-widgets/controls",
          "model_name": "LabelModel",
          "model_module_version": "1.5.0",
          "state": {
            "_dom_classes": [],
            "_model_module": "@jupyter-widgets/controls",
            "_model_module_version": "1.5.0",
            "_model_name": "LabelModel",
            "_view_count": null,
            "_view_module": "@jupyter-widgets/controls",
            "_view_module_version": "1.5.0",
            "_view_name": "LabelView",
            "description": "",
            "description_tooltip": null,
            "layout": "IPY_MODEL_e2aebcd8345c4f52813ca688ba535be6",
            "placeholder": "​",
            "style": "IPY_MODEL_e077c2b3e84b4b08b177c92eed41d6d3",
            "value": "0.001 MB of 0.001 MB uploaded (0.000 MB deduped)\r"
          }
        },
        "c104e44c2df843d99184262db98b4aaf": {
          "model_module": "@jupyter-widgets/controls",
          "model_name": "FloatProgressModel",
          "model_module_version": "1.5.0",
          "state": {
            "_dom_classes": [],
            "_model_module": "@jupyter-widgets/controls",
            "_model_module_version": "1.5.0",
            "_model_name": "FloatProgressModel",
            "_view_count": null,
            "_view_module": "@jupyter-widgets/controls",
            "_view_module_version": "1.5.0",
            "_view_name": "ProgressView",
            "bar_style": "",
            "description": "",
            "description_tooltip": null,
            "layout": "IPY_MODEL_d1bf5109b6e9461387922693b4fde92c",
            "max": 1,
            "min": 0,
            "orientation": "horizontal",
            "style": "IPY_MODEL_256e01b8ef064f2fa0ae63442d619971",
            "value": 1
          }
        },
        "2e67dd32d4b54aaaa5a223cc1b03454a": {
          "model_module": "@jupyter-widgets/base",
          "model_name": "LayoutModel",
          "model_module_version": "1.2.0",
          "state": {
            "_model_module": "@jupyter-widgets/base",
            "_model_module_version": "1.2.0",
            "_model_name": "LayoutModel",
            "_view_count": null,
            "_view_module": "@jupyter-widgets/base",
            "_view_module_version": "1.2.0",
            "_view_name": "LayoutView",
            "align_content": null,
            "align_items": null,
            "align_self": null,
            "border": null,
            "bottom": null,
            "display": null,
            "flex": null,
            "flex_flow": null,
            "grid_area": null,
            "grid_auto_columns": null,
            "grid_auto_flow": null,
            "grid_auto_rows": null,
            "grid_column": null,
            "grid_gap": null,
            "grid_row": null,
            "grid_template_areas": null,
            "grid_template_columns": null,
            "grid_template_rows": null,
            "height": null,
            "justify_content": null,
            "justify_items": null,
            "left": null,
            "margin": null,
            "max_height": null,
            "max_width": null,
            "min_height": null,
            "min_width": null,
            "object_fit": null,
            "object_position": null,
            "order": null,
            "overflow": null,
            "overflow_x": null,
            "overflow_y": null,
            "padding": null,
            "right": null,
            "top": null,
            "visibility": null,
            "width": null
          }
        },
        "e2aebcd8345c4f52813ca688ba535be6": {
          "model_module": "@jupyter-widgets/base",
          "model_name": "LayoutModel",
          "model_module_version": "1.2.0",
          "state": {
            "_model_module": "@jupyter-widgets/base",
            "_model_module_version": "1.2.0",
            "_model_name": "LayoutModel",
            "_view_count": null,
            "_view_module": "@jupyter-widgets/base",
            "_view_module_version": "1.2.0",
            "_view_name": "LayoutView",
            "align_content": null,
            "align_items": null,
            "align_self": null,
            "border": null,
            "bottom": null,
            "display": null,
            "flex": null,
            "flex_flow": null,
            "grid_area": null,
            "grid_auto_columns": null,
            "grid_auto_flow": null,
            "grid_auto_rows": null,
            "grid_column": null,
            "grid_gap": null,
            "grid_row": null,
            "grid_template_areas": null,
            "grid_template_columns": null,
            "grid_template_rows": null,
            "height": null,
            "justify_content": null,
            "justify_items": null,
            "left": null,
            "margin": null,
            "max_height": null,
            "max_width": null,
            "min_height": null,
            "min_width": null,
            "object_fit": null,
            "object_position": null,
            "order": null,
            "overflow": null,
            "overflow_x": null,
            "overflow_y": null,
            "padding": null,
            "right": null,
            "top": null,
            "visibility": null,
            "width": null
          }
        },
        "e077c2b3e84b4b08b177c92eed41d6d3": {
          "model_module": "@jupyter-widgets/controls",
          "model_name": "DescriptionStyleModel",
          "model_module_version": "1.5.0",
          "state": {
            "_model_module": "@jupyter-widgets/controls",
            "_model_module_version": "1.5.0",
            "_model_name": "DescriptionStyleModel",
            "_view_count": null,
            "_view_module": "@jupyter-widgets/base",
            "_view_module_version": "1.2.0",
            "_view_name": "StyleView",
            "description_width": ""
          }
        },
        "d1bf5109b6e9461387922693b4fde92c": {
          "model_module": "@jupyter-widgets/base",
          "model_name": "LayoutModel",
          "model_module_version": "1.2.0",
          "state": {
            "_model_module": "@jupyter-widgets/base",
            "_model_module_version": "1.2.0",
            "_model_name": "LayoutModel",
            "_view_count": null,
            "_view_module": "@jupyter-widgets/base",
            "_view_module_version": "1.2.0",
            "_view_name": "LayoutView",
            "align_content": null,
            "align_items": null,
            "align_self": null,
            "border": null,
            "bottom": null,
            "display": null,
            "flex": null,
            "flex_flow": null,
            "grid_area": null,
            "grid_auto_columns": null,
            "grid_auto_flow": null,
            "grid_auto_rows": null,
            "grid_column": null,
            "grid_gap": null,
            "grid_row": null,
            "grid_template_areas": null,
            "grid_template_columns": null,
            "grid_template_rows": null,
            "height": null,
            "justify_content": null,
            "justify_items": null,
            "left": null,
            "margin": null,
            "max_height": null,
            "max_width": null,
            "min_height": null,
            "min_width": null,
            "object_fit": null,
            "object_position": null,
            "order": null,
            "overflow": null,
            "overflow_x": null,
            "overflow_y": null,
            "padding": null,
            "right": null,
            "top": null,
            "visibility": null,
            "width": null
          }
        },
        "256e01b8ef064f2fa0ae63442d619971": {
          "model_module": "@jupyter-widgets/controls",
          "model_name": "ProgressStyleModel",
          "model_module_version": "1.5.0",
          "state": {
            "_model_module": "@jupyter-widgets/controls",
            "_model_module_version": "1.5.0",
            "_model_name": "ProgressStyleModel",
            "_view_count": null,
            "_view_module": "@jupyter-widgets/base",
            "_view_module_version": "1.2.0",
            "_view_name": "StyleView",
            "bar_color": null,
            "description_width": ""
          }
        },
        "6d2487aecd7e4db380a17b65513f3acc": {
          "model_module": "@jupyter-widgets/controls",
          "model_name": "VBoxModel",
          "model_module_version": "1.5.0",
          "state": {
            "_dom_classes": [],
            "_model_module": "@jupyter-widgets/controls",
            "_model_module_version": "1.5.0",
            "_model_name": "VBoxModel",
            "_view_count": null,
            "_view_module": "@jupyter-widgets/controls",
            "_view_module_version": "1.5.0",
            "_view_name": "VBoxView",
            "box_style": "",
            "children": [
              "IPY_MODEL_3208f9b55fbc493bb0d52307b5f6eee8",
              "IPY_MODEL_132af68052454a619f661d3fc699e949"
            ],
            "layout": "IPY_MODEL_510dab993df24d2aa69f3014eab58b73"
          }
        },
        "3208f9b55fbc493bb0d52307b5f6eee8": {
          "model_module": "@jupyter-widgets/controls",
          "model_name": "LabelModel",
          "model_module_version": "1.5.0",
          "state": {
            "_dom_classes": [],
            "_model_module": "@jupyter-widgets/controls",
            "_model_module_version": "1.5.0",
            "_model_name": "LabelModel",
            "_view_count": null,
            "_view_module": "@jupyter-widgets/controls",
            "_view_module_version": "1.5.0",
            "_view_name": "LabelView",
            "description": "",
            "description_tooltip": null,
            "layout": "IPY_MODEL_ec03d194aefd40329ee5a8d710d59220",
            "placeholder": "​",
            "style": "IPY_MODEL_ebac4a8751ad45d2826e8c386b6a2211",
            "value": "0.001 MB of 0.001 MB uploaded (0.000 MB deduped)\r"
          }
        },
        "132af68052454a619f661d3fc699e949": {
          "model_module": "@jupyter-widgets/controls",
          "model_name": "FloatProgressModel",
          "model_module_version": "1.5.0",
          "state": {
            "_dom_classes": [],
            "_model_module": "@jupyter-widgets/controls",
            "_model_module_version": "1.5.0",
            "_model_name": "FloatProgressModel",
            "_view_count": null,
            "_view_module": "@jupyter-widgets/controls",
            "_view_module_version": "1.5.0",
            "_view_name": "ProgressView",
            "bar_style": "",
            "description": "",
            "description_tooltip": null,
            "layout": "IPY_MODEL_8d917e7736fa4674b255fa9caa8fc219",
            "max": 1,
            "min": 0,
            "orientation": "horizontal",
            "style": "IPY_MODEL_5d0840b275d9415981f7ae5974a69ce4",
            "value": 1
          }
        },
        "510dab993df24d2aa69f3014eab58b73": {
          "model_module": "@jupyter-widgets/base",
          "model_name": "LayoutModel",
          "model_module_version": "1.2.0",
          "state": {
            "_model_module": "@jupyter-widgets/base",
            "_model_module_version": "1.2.0",
            "_model_name": "LayoutModel",
            "_view_count": null,
            "_view_module": "@jupyter-widgets/base",
            "_view_module_version": "1.2.0",
            "_view_name": "LayoutView",
            "align_content": null,
            "align_items": null,
            "align_self": null,
            "border": null,
            "bottom": null,
            "display": null,
            "flex": null,
            "flex_flow": null,
            "grid_area": null,
            "grid_auto_columns": null,
            "grid_auto_flow": null,
            "grid_auto_rows": null,
            "grid_column": null,
            "grid_gap": null,
            "grid_row": null,
            "grid_template_areas": null,
            "grid_template_columns": null,
            "grid_template_rows": null,
            "height": null,
            "justify_content": null,
            "justify_items": null,
            "left": null,
            "margin": null,
            "max_height": null,
            "max_width": null,
            "min_height": null,
            "min_width": null,
            "object_fit": null,
            "object_position": null,
            "order": null,
            "overflow": null,
            "overflow_x": null,
            "overflow_y": null,
            "padding": null,
            "right": null,
            "top": null,
            "visibility": null,
            "width": null
          }
        },
        "ec03d194aefd40329ee5a8d710d59220": {
          "model_module": "@jupyter-widgets/base",
          "model_name": "LayoutModel",
          "model_module_version": "1.2.0",
          "state": {
            "_model_module": "@jupyter-widgets/base",
            "_model_module_version": "1.2.0",
            "_model_name": "LayoutModel",
            "_view_count": null,
            "_view_module": "@jupyter-widgets/base",
            "_view_module_version": "1.2.0",
            "_view_name": "LayoutView",
            "align_content": null,
            "align_items": null,
            "align_self": null,
            "border": null,
            "bottom": null,
            "display": null,
            "flex": null,
            "flex_flow": null,
            "grid_area": null,
            "grid_auto_columns": null,
            "grid_auto_flow": null,
            "grid_auto_rows": null,
            "grid_column": null,
            "grid_gap": null,
            "grid_row": null,
            "grid_template_areas": null,
            "grid_template_columns": null,
            "grid_template_rows": null,
            "height": null,
            "justify_content": null,
            "justify_items": null,
            "left": null,
            "margin": null,
            "max_height": null,
            "max_width": null,
            "min_height": null,
            "min_width": null,
            "object_fit": null,
            "object_position": null,
            "order": null,
            "overflow": null,
            "overflow_x": null,
            "overflow_y": null,
            "padding": null,
            "right": null,
            "top": null,
            "visibility": null,
            "width": null
          }
        },
        "ebac4a8751ad45d2826e8c386b6a2211": {
          "model_module": "@jupyter-widgets/controls",
          "model_name": "DescriptionStyleModel",
          "model_module_version": "1.5.0",
          "state": {
            "_model_module": "@jupyter-widgets/controls",
            "_model_module_version": "1.5.0",
            "_model_name": "DescriptionStyleModel",
            "_view_count": null,
            "_view_module": "@jupyter-widgets/base",
            "_view_module_version": "1.2.0",
            "_view_name": "StyleView",
            "description_width": ""
          }
        },
        "8d917e7736fa4674b255fa9caa8fc219": {
          "model_module": "@jupyter-widgets/base",
          "model_name": "LayoutModel",
          "model_module_version": "1.2.0",
          "state": {
            "_model_module": "@jupyter-widgets/base",
            "_model_module_version": "1.2.0",
            "_model_name": "LayoutModel",
            "_view_count": null,
            "_view_module": "@jupyter-widgets/base",
            "_view_module_version": "1.2.0",
            "_view_name": "LayoutView",
            "align_content": null,
            "align_items": null,
            "align_self": null,
            "border": null,
            "bottom": null,
            "display": null,
            "flex": null,
            "flex_flow": null,
            "grid_area": null,
            "grid_auto_columns": null,
            "grid_auto_flow": null,
            "grid_auto_rows": null,
            "grid_column": null,
            "grid_gap": null,
            "grid_row": null,
            "grid_template_areas": null,
            "grid_template_columns": null,
            "grid_template_rows": null,
            "height": null,
            "justify_content": null,
            "justify_items": null,
            "left": null,
            "margin": null,
            "max_height": null,
            "max_width": null,
            "min_height": null,
            "min_width": null,
            "object_fit": null,
            "object_position": null,
            "order": null,
            "overflow": null,
            "overflow_x": null,
            "overflow_y": null,
            "padding": null,
            "right": null,
            "top": null,
            "visibility": null,
            "width": null
          }
        },
        "5d0840b275d9415981f7ae5974a69ce4": {
          "model_module": "@jupyter-widgets/controls",
          "model_name": "ProgressStyleModel",
          "model_module_version": "1.5.0",
          "state": {
            "_model_module": "@jupyter-widgets/controls",
            "_model_module_version": "1.5.0",
            "_model_name": "ProgressStyleModel",
            "_view_count": null,
            "_view_module": "@jupyter-widgets/base",
            "_view_module_version": "1.2.0",
            "_view_name": "StyleView",
            "bar_color": null,
            "description_width": ""
          }
        }
      }
    }
  },
  "nbformat": 4,
  "nbformat_minor": 0
}